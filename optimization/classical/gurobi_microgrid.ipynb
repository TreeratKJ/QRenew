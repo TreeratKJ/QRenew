{
 "cells": [
  {
   "cell_type": "markdown",
   "metadata": {},
   "source": [
    "# Microgrid Location Optimization using Gurobi\n",
    "This notebook demonstrates how to solve the microgrid location optimization problem using classical optimization techniques with Gurobi. We'll compare the results with quantum optimization approaches and provide comprehensive visualizations.\n",
    "    \n",
    "## Table of Contents\n",
    "1. [Setup and Data Loading](#setup)\n",
    "2. [Microgrid Location Generation](#generation)\n",
    "3. [Cost Matrix Construction](#cost-matrices)\n",
    "4. [Gurobi Optimization](#optimization)\n",
    "5. [Results Visualization](#visualization)\n",
    "6. [Comparison with Quantum Solutions](#comparison)\n",
    "7. [Sensitivity Analysis](#sensitivity)"
   ]
  },
  {
   "cell_type": "markdown",
   "metadata": {},
   "source": [
    "## 1. Setup and Data Loading"
   ]
  },
  {
   "cell_type": "code",
   "execution_count": null,
   "metadata": {},
   "outputs": [],
   "source": [
    "import os\n",
    "import sys\n",
    "from pathlib import Path\n",
    "import numpy as np\n",
    "import pandas as pd\n",
    "import matplotlib.pyplot as plt\n",
    "import seaborn as sns\n",
    "from geopy.distance import geodesic\n",
    "import gurobipy as gp\n",
    "from gurobipy import GRB\n",
    "import warnings\n",
    "warnings.filterwarnings('ignore')\n",
    "    \n",
    "# Set style for better plots\n",
    "plt.style.use('seaborn-v0_8')\n",
    "plt.rcParams['figure.figsize'] = (12, 8)\n",
    "plt.rcParams['font.size'] = 12\n",
    "print(\"Libraries imported successfully!\")\n",
    "\n",
    "# Load the dataset from CSV\n",
    "df = pd.read_csv('/Users/haikelhaikel/QuantathonQR/QRenew/database/SolarPowerPlants_TH.csv', delimiter=',', skiprows=1)\n",
    "df"
   ]
  },
  {
   "cell_type": "code",
   "execution_count": null,
   "metadata": {},
   "outputs": [],
   "source": [
    "ind = df['Index']\n",
    "name = df['name']\n",
    "lat = df['latitude']\n",
    "long = df['longitude']\n",
    "capacity = df['capacity(MW)']\n",
    "penetration = df['Total price']"
   ]
  },
  {
   "cell_type": "markdown",
   "metadata": {},
   "source": [
    "## 2. Microgrid Location Generation"
   ]
  },
  {
   "cell_type": "code",
   "execution_count": null,
   "metadata": {},
   "outputs": [],
   "source": [
    "# generate choices for microgrid locations\n",
    "num_microgrids = 20 ## number of microgrids\n",
    "random_lat = np.random.uniform(min(lat), max(lat), size=4*num_microgrids)\n",
    "lat_choices = np.random.choice(random_lat, size=num_microgrids, replace=False)\n",
    "\n",
    "random_long = np.random.uniform(min(long), max(long), size=4*num_microgrids)\n",
    "long_choices = np.random.choice(random_long, size=num_microgrids, replace=False)\n",
    "        \n",
    "print(f\"Generated {num_microgrids} potential microgrid locations\")"
   ]
  },
  {
   "cell_type": "markdown",
   "metadata": {},
   "source": [
    "## 3. Cost Matrix Construction"
   ]
  },
  {
   "cell_type": "code",
   "execution_count": null,
   "metadata": {},
   "outputs": [],
   "source": [
    "def calculate_distance_mgpp(mglat, mglong, pplat, pplong):    \n",
    "    distance_matrix = np.zeros(len(pplat))\n",
    "    for i in range(len(pplat)):\n",
    "        distance_matrix[i] = geodesic((mglat, mglong), (pplat[i], pplong[i])).km\n",
    "    return distance_matrix\n",
    "    \n",
    "def calculate_distance_mgmg(mglat, mglong):    \n",
    "    distance_matrix = np.zeros((len(mglat), len(mglat)))\n",
    "    for i in range(len(mglat)):\n",
    "        for j in range(len(mglat)):\n",
    "            if i < j:\n",
    "                distance_matrix[i][j] = geodesic((mglat[i], mglong[i]), (mglat[j], mglong[j])).km\n",
    "    return distance_matrix\n",
    "\n",
    "def build_cost_matrices(self, cost_coeff=10000, battery_cost=38000, solar_cost=15000):\n",
    "        \"\"\"Build cost matrices for the optimization problem\"\"\"\n",
    "        if self.microgrid_locations is None:\n",
    "            raise ValueError(\"Microgrid locations must be generated first\")\n",
    "            \n",
    "        num_microgrids = len(self.microgrid_locations)\n",
    "        \n",
    "        # Calculate total distance from each microgrid to all power plants\n",
    "        mgpp_distances = np.zeros(num_microgrids)\n",
    "        for i, (lat, long) in enumerate(self.microgrid_locations):\n",
    "            mgpp_distances[i] = np.sum(self.calculate_distance_mg_pp(lat, long))\n",
    "        \n",
    "        # Calculate distances between microgrids\n",
    "        mgmg_distances = self.calculate_distance_mg_mg()\n",
    "        \n",
    "        # Convert distances to costs\n",
    "        mgpp_costs = mgpp_distances * cost_coeff\n",
    "        mgmg_costs = mgmg_distances * cost_coeff\n",
    "        \n",
    "        # Fixed costs for installation\n",
    "        fixed_cost = battery_cost + solar_cost\n",
    "        \n",
    "        # Get penetration values (assuming these are benefits/revenues)\n",
    "        penetration = self.solar_data['Total price'].values\n",
    "        if len(penetration) < num_microgrids:\n",
    "            # If we have fewer power plants than microgrids, repeat the pattern\n",
    "            penetration = np.tile(penetration, (num_microgrids // len(penetration)) + 1)[:num_microgrids]\n",
    "        elif len(penetration) > num_microgrids:\n",
    "            penetration = penetration[:num_microgrids]\n",
    "        \n",
    "        return mgpp_costs, mgmg_costs, fixed_cost, penetration"
   ]
  },
  {
   "cell_type": "markdown",
   "metadata": {},
   "source": [
    "## 4. Gurobi Optimization"
   ]
  }
 ],
 "metadata": {
  "kernelspec": {
   "display_name": "base",
   "language": "python",
   "name": "python3"
  },
  "language_info": {
   "codemirror_mode": {
    "name": "ipython",
    "version": 3
   },
   "file_extension": ".py",
   "mimetype": "text/x-python",
   "name": "python",
   "nbconvert_exporter": "python",
   "pygments_lexer": "ipython3",
   "version": "3.12.4"
  },
  "orig_nbformat": 4
 },
 "nbformat": 4,
 "nbformat_minor": 2
}
