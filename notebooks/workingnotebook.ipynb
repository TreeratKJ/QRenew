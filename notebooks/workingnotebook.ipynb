{
 "cells": [
  {
   "cell_type": "code",
   "execution_count": 1,
   "id": "32054105",
   "metadata": {},
   "outputs": [],
   "source": [
    "import os\n",
    "import sys\n",
    "from pathlib import Path\n",
    "path = str(Path(os.getcwd()))\n",
    "# sys.path.insert(1, path+'/amazon-braket-community-detection/src')"
   ]
  },
  {
   "cell_type": "code",
   "execution_count": 2,
   "id": "81ccca0c",
   "metadata": {},
   "outputs": [
    {
     "data": {
      "text/html": [
       "<div>\n",
       "<style scoped>\n",
       "    .dataframe tbody tr th:only-of-type {\n",
       "        vertical-align: middle;\n",
       "    }\n",
       "\n",
       "    .dataframe tbody tr th {\n",
       "        vertical-align: top;\n",
       "    }\n",
       "\n",
       "    .dataframe thead th {\n",
       "        text-align: right;\n",
       "    }\n",
       "</style>\n",
       "<table border=\"1\" class=\"dataframe\">\n",
       "  <thead>\n",
       "    <tr style=\"text-align: right;\">\n",
       "      <th></th>\n",
       "      <th>Number</th>\n",
       "      <th>name</th>\n",
       "      <th>capacity(MW)</th>\n",
       "      <th>latitude</th>\n",
       "      <th>longitude</th>\n",
       "      <th>primary_fuel</th>\n",
       "      <th>estimated_generation_gwh</th>\n",
       "      <th>Estimated cost for 1 year</th>\n",
       "    </tr>\n",
       "  </thead>\n",
       "  <tbody>\n",
       "    <tr>\n",
       "      <th>0</th>\n",
       "      <td>1</td>\n",
       "      <td>Bukit Palong Solar Power Plant</td>\n",
       "      <td>3.0</td>\n",
       "      <td>2.5823</td>\n",
       "      <td>101.8313</td>\n",
       "      <td>Solar</td>\n",
       "      <td>2.419183</td>\n",
       "      <td>2.935532e+05</td>\n",
       "    </tr>\n",
       "    <tr>\n",
       "      <th>1</th>\n",
       "      <td>2</td>\n",
       "      <td>Gebeng Solar Power Plant</td>\n",
       "      <td>10.0</td>\n",
       "      <td>3.9924</td>\n",
       "      <td>103.3682</td>\n",
       "      <td>Solar</td>\n",
       "      <td>8.063943</td>\n",
       "      <td>9.785106e+05</td>\n",
       "    </tr>\n",
       "    <tr>\n",
       "      <th>2</th>\n",
       "      <td>3</td>\n",
       "      <td>Gemas Solar Power Plant</td>\n",
       "      <td>10.2</td>\n",
       "      <td>2.5956</td>\n",
       "      <td>102.6216</td>\n",
       "      <td>Solar</td>\n",
       "      <td>8.225222</td>\n",
       "      <td>9.980809e+05</td>\n",
       "    </tr>\n",
       "    <tr>\n",
       "      <th>3</th>\n",
       "      <td>4</td>\n",
       "      <td>Hijau Solar Power Plant</td>\n",
       "      <td>8.0</td>\n",
       "      <td>2.3409</td>\n",
       "      <td>102.2168</td>\n",
       "      <td>Solar</td>\n",
       "      <td>6.451155</td>\n",
       "      <td>7.828085e+05</td>\n",
       "    </tr>\n",
       "    <tr>\n",
       "      <th>4</th>\n",
       "      <td>5</td>\n",
       "      <td>Jasin</td>\n",
       "      <td>50.0</td>\n",
       "      <td>2.3400</td>\n",
       "      <td>102.3500</td>\n",
       "      <td>Solar</td>\n",
       "      <td>40.319716</td>\n",
       "      <td>4.892553e+06</td>\n",
       "    </tr>\n",
       "    <tr>\n",
       "      <th>5</th>\n",
       "      <td>6</td>\n",
       "      <td>Kuala Langat</td>\n",
       "      <td>50.0</td>\n",
       "      <td>2.7450</td>\n",
       "      <td>101.5600</td>\n",
       "      <td>Solar</td>\n",
       "      <td>40.319716</td>\n",
       "      <td>4.892553e+06</td>\n",
       "    </tr>\n",
       "    <tr>\n",
       "      <th>6</th>\n",
       "      <td>7</td>\n",
       "      <td>Kuala Lumpur Airport Solar Power Plant</td>\n",
       "      <td>19.0</td>\n",
       "      <td>2.7791</td>\n",
       "      <td>101.7144</td>\n",
       "      <td>Solar</td>\n",
       "      <td>15.321492</td>\n",
       "      <td>1.859170e+06</td>\n",
       "    </tr>\n",
       "    <tr>\n",
       "      <th>7</th>\n",
       "      <td>8</td>\n",
       "      <td>Kuala Perlis Solar Power Plant</td>\n",
       "      <td>6.0</td>\n",
       "      <td>6.4105</td>\n",
       "      <td>100.1378</td>\n",
       "      <td>Solar</td>\n",
       "      <td>4.838366</td>\n",
       "      <td>5.871064e+05</td>\n",
       "    </tr>\n",
       "    <tr>\n",
       "      <th>8</th>\n",
       "      <td>9</td>\n",
       "      <td>Kuala Sawah Solar Power Plant</td>\n",
       "      <td>5.3</td>\n",
       "      <td>2.6355</td>\n",
       "      <td>101.9404</td>\n",
       "      <td>Solar</td>\n",
       "      <td>4.273890</td>\n",
       "      <td>5.186106e+05</td>\n",
       "    </tr>\n",
       "    <tr>\n",
       "      <th>9</th>\n",
       "      <td>10</td>\n",
       "      <td>Merchang</td>\n",
       "      <td>50.0</td>\n",
       "      <td>4.9340</td>\n",
       "      <td>103.3360</td>\n",
       "      <td>Solar</td>\n",
       "      <td>40.319716</td>\n",
       "      <td>4.892553e+06</td>\n",
       "    </tr>\n",
       "    <tr>\n",
       "      <th>10</th>\n",
       "      <td>12</td>\n",
       "      <td>Pajam Solar Power Plant</td>\n",
       "      <td>13.0</td>\n",
       "      <td>2.8357</td>\n",
       "      <td>101.8488</td>\n",
       "      <td>Solar</td>\n",
       "      <td>10.483126</td>\n",
       "      <td>1.272064e+06</td>\n",
       "    </tr>\n",
       "    <tr>\n",
       "      <th>11</th>\n",
       "      <td>13</td>\n",
       "      <td>Rimba Terjun Solar Power Plant</td>\n",
       "      <td>2.0</td>\n",
       "      <td>1.4721</td>\n",
       "      <td>103.3925</td>\n",
       "      <td>Solar</td>\n",
       "      <td>1.612789</td>\n",
       "      <td>1.957021e+05</td>\n",
       "    </tr>\n",
       "    <tr>\n",
       "      <th>12</th>\n",
       "      <td>14</td>\n",
       "      <td>Sepang 5</td>\n",
       "      <td>5.0</td>\n",
       "      <td>2.7150</td>\n",
       "      <td>101.7500</td>\n",
       "      <td>Solar</td>\n",
       "      <td>4.031972</td>\n",
       "      <td>4.892553e+05</td>\n",
       "    </tr>\n",
       "  </tbody>\n",
       "</table>\n",
       "</div>"
      ],
      "text/plain": [
       "    Number                                    name  capacity(MW)  latitude  \\\n",
       "0        1          Bukit Palong Solar Power Plant           3.0    2.5823   \n",
       "1        2                Gebeng Solar Power Plant          10.0    3.9924   \n",
       "2        3                 Gemas Solar Power Plant          10.2    2.5956   \n",
       "3        4                 Hijau Solar Power Plant           8.0    2.3409   \n",
       "4        5                                   Jasin          50.0    2.3400   \n",
       "5        6                            Kuala Langat          50.0    2.7450   \n",
       "6        7  Kuala Lumpur Airport Solar Power Plant          19.0    2.7791   \n",
       "7        8          Kuala Perlis Solar Power Plant           6.0    6.4105   \n",
       "8        9           Kuala Sawah Solar Power Plant           5.3    2.6355   \n",
       "9       10                                Merchang          50.0    4.9340   \n",
       "10      12                 Pajam Solar Power Plant          13.0    2.8357   \n",
       "11      13          Rimba Terjun Solar Power Plant           2.0    1.4721   \n",
       "12      14                                Sepang 5           5.0    2.7150   \n",
       "\n",
       "    longitude primary_fuel  estimated_generation_gwh  \\\n",
       "0    101.8313        Solar                  2.419183   \n",
       "1    103.3682        Solar                  8.063943   \n",
       "2    102.6216        Solar                  8.225222   \n",
       "3    102.2168        Solar                  6.451155   \n",
       "4    102.3500        Solar                 40.319716   \n",
       "5    101.5600        Solar                 40.319716   \n",
       "6    101.7144        Solar                 15.321492   \n",
       "7    100.1378        Solar                  4.838366   \n",
       "8    101.9404        Solar                  4.273890   \n",
       "9    103.3360        Solar                 40.319716   \n",
       "10   101.8488        Solar                 10.483126   \n",
       "11   103.3925        Solar                  1.612789   \n",
       "12   101.7500        Solar                  4.031972   \n",
       "\n",
       "    Estimated cost for 1 year  \n",
       "0                2.935532e+05  \n",
       "1                9.785106e+05  \n",
       "2                9.980809e+05  \n",
       "3                7.828085e+05  \n",
       "4                4.892553e+06  \n",
       "5                4.892553e+06  \n",
       "6                1.859170e+06  \n",
       "7                5.871064e+05  \n",
       "8                5.186106e+05  \n",
       "9                4.892553e+06  \n",
       "10               1.272064e+06  \n",
       "11               1.957021e+05  \n",
       "12               4.892553e+05  "
      ]
     },
     "execution_count": 2,
     "metadata": {},
     "output_type": "execute_result"
    }
   ],
   "source": [
    "# Required Libraries\n",
    "import numpy as np\n",
    "import matplotlib.pyplot as plt\n",
    "import pandas as pd\n",
    "from geopy.distance import geodesic\n",
    "import networkx as nx\n",
    "\n",
    "df = pd.read_csv(path+'/database/Peninsula_pp.csv', delimiter=',', skiprows=0)\n",
    "df"
   ]
  },
  {
   "cell_type": "code",
   "execution_count": 3,
   "id": "d70f7bb9",
   "metadata": {},
   "outputs": [],
   "source": [
    "ind = df['Number']\n",
    "name = df['name']\n",
    "lat = df['latitude']\n",
    "long = df['longitude']\n",
    "capacity = df['capacity(MW)']\n",
    "penetration = df['Estimated cost for 1 year']"
   ]
  },
  {
   "cell_type": "code",
   "execution_count": 4,
   "id": "b42db51f",
   "metadata": {},
   "outputs": [
    {
     "data": {
      "text/plain": [
       "{1: (2.5823, 101.8313),\n",
       " 2: (3.9924, 103.3682),\n",
       " 3: (2.5956, 102.6216),\n",
       " 4: (2.3409, 102.2168),\n",
       " 5: (2.34, 102.35),\n",
       " 6: (2.745, 101.56),\n",
       " 7: (2.7791, 101.7144),\n",
       " 8: (6.4105, 100.1378),\n",
       " 9: (2.6355, 101.9404),\n",
       " 10: (4.934, 103.336),\n",
       " 12: (2.8357, 101.8488),\n",
       " 13: (1.4721, 103.3925),\n",
       " 14: (2.715, 101.75)}"
      ]
     },
     "execution_count": 4,
     "metadata": {},
     "output_type": "execute_result"
    }
   ],
   "source": [
    "locations = {ind: (lat, long) for ind, lat, long in zip(ind, lat, long)}\n",
    "locations"
   ]
  },
  {
   "cell_type": "code",
   "execution_count": 5,
   "id": "ed6c3346",
   "metadata": {},
   "outputs": [
    {
     "data": {
      "text/plain": [
       "13"
      ]
     },
     "execution_count": 5,
     "metadata": {},
     "output_type": "execute_result"
    }
   ],
   "source": [
    "(len(locations.keys()))"
   ]
  },
  {
   "cell_type": "code",
   "execution_count": 6,
   "id": "b82fd62e",
   "metadata": {},
   "outputs": [],
   "source": [
    "\n",
    "# noconsumers = 10\n",
    "# c_energy = np.random.default_rng().normal(loc=np.average(capacity), scale=np.std(capacity)/2, size=noconsumers)\n",
    "# # c_energy = np.random.default_rng().integers(low=min(capacity), high=max(capacity), size=10)\n",
    "# c_energy"
   ]
  },
  {
   "cell_type": "code",
   "execution_count": 7,
   "id": "46624fa3",
   "metadata": {},
   "outputs": [],
   "source": [
    "def calculate_distance_mgpp(mglat, mglong, pplat, pplong):    \n",
    "    distance_matrix = np.zeros(len(pplat))\n",
    "    for i in range(len(pplat)):\n",
    "        distance_matrix[i] = geodesic((mglat, mglong), (pplat[i], pplong[i])).km\n",
    "    return distance_matrix\n"
   ]
  },
  {
   "cell_type": "code",
   "execution_count": 8,
   "id": "d2ace828",
   "metadata": {},
   "outputs": [],
   "source": [
    "def calculate_distance_mgmg(mglat, mglong):    \n",
    "    distance_matrix = np.zeros((len(mglat), len(mglat)))\n",
    "    for i in range(len(mglat)):\n",
    "        for j in range(len(mglat)):\n",
    "            if i < j:\n",
    "                distance_matrix[i][j] = geodesic((mglat[i], mglong[i]), (mglat[j], mglong[j])).km\n",
    "    return distance_matrix"
   ]
  },
  {
   "cell_type": "code",
   "execution_count": 9,
   "id": "ec9a3eff",
   "metadata": {},
   "outputs": [],
   "source": [
    "# def create_transmission_network(locations, distance_matrix, threshold=45):\n",
    "#     G = nx.Graph()\n",
    "#     for i, label_i in enumerate(locations.keys()):\n",
    "#         for j, label_j in enumerate(locations.keys()):\n",
    "#             if i < j:\n",
    "#                 if distance_matrix[i][j] < threshold: # Only add edge if distance is below threshold\n",
    "#                     G.add_edge(label_i, label_j)\n",
    "#     return G"
   ]
  },
  {
   "cell_type": "code",
   "execution_count": 10,
   "id": "af0857bc",
   "metadata": {},
   "outputs": [
    {
     "name": "stdout",
     "output_type": "stream",
     "text": [
      "<enumerate object at 0x7fc1a13eff80>\n"
     ]
    }
   ],
   "source": [
    "print(enumerate(locations.keys()))"
   ]
  },
  {
   "cell_type": "code",
   "execution_count": 11,
   "id": "addae2cf",
   "metadata": {},
   "outputs": [],
   "source": [
    "# distance_matrix = calculate_distance_matrix(lat, long)\n",
    "\n",
    "# # Create Graph Based on Distance Threshold\n",
    "# G = create_transmission_network(locations, distance_matrix, threshold=45)\n",
    "\n",
    "# # Visualize Graph\n",
    "# fig, ax = plt.subplots()\n",
    "# pos = {label: (lon, lat) for label, (lat, lon) in locations.items()}\n",
    "# nx.draw(G, pos, ax=ax, node_size=100, node_color='blue')\n",
    "# # nx.draw(G, pos, ax=ax, node_size=800, with_labels=True)\n",
    "# # with_labels=True, node_color='lightblue', node_size=800)\n",
    "# plt.title(\"Solar Panel Proximity Graph\")\n",
    "# plt.show()"
   ]
  },
  {
   "cell_type": "code",
   "execution_count": 12,
   "id": "53351199",
   "metadata": {},
   "outputs": [],
   "source": [
    "# total_nodes = len(G.nodes(data=True))\n",
    "# total_edges = len(G.edges(data=True))"
   ]
  },
  {
   "cell_type": "code",
   "execution_count": 13,
   "id": "e280dc8c",
   "metadata": {},
   "outputs": [],
   "source": [
    "import scipy.sparse as sp\n",
    "from networkx.algorithms import community\n",
    "\n",
    "### create QUBO matrix\n",
    "# define the distance matrix\n",
    "num_powerplants = (len(locations.keys())) ## number of solar power plants\n",
    "pplat, pplong = zip(*locations.values())"
   ]
  },
  {
   "cell_type": "code",
   "execution_count": 18,
   "id": "b62f11bb",
   "metadata": {},
   "outputs": [],
   "source": [
    "# generate choices for microgrid locations\n",
    "num_microgrids = 100 ## number of microgrids\n",
    "random = np.random.default_rng(seed=45)\n",
    "random_lat = random.uniform(min(lat), max(lat), size=4*num_microgrids)\n",
    "lat_choices = random.choice(random_lat, size=num_microgrids, replace=False)\n",
    "\n",
    "random_long = random.uniform(min(long), max(long), size=4*num_microgrids)\n",
    "long_choices = random.choice(random_long, size=num_microgrids, replace=False)"
   ]
  },
  {
   "cell_type": "code",
   "execution_count": 19,
   "id": "f35de64e",
   "metadata": {},
   "outputs": [
    {
     "data": {
      "image/png": "[encoded data removed]",
      "text/plain": [
       "<Figure size 640x480 with 1 Axes>"
      ]
     },
     "metadata": {},
     "output_type": "display_data"
    }
   ],
   "source": [
    "# Visualize Graph\n",
    "fig, ax = plt.subplots()\n",
    "ax.plot(long, lat, 'o', markersize=5, color='blue')\n",
    "ax.plot(long_choices, lat_choices, 'o', markersize=5, color='red')\n",
    "plt.title(\"Solar Panel Proximity Graph\")\n",
    "plt.show()"
   ]
  },
  {
   "cell_type": "code",
   "execution_count": 20,
   "id": "f497bf6e",
   "metadata": {},
   "outputs": [
    {
     "data": {
      "text/plain": [
       "array([2832.81031775, 3384.53179799, 5005.19673216, 2503.25557245,\n",
       "       2483.55401657, 2656.73159782, 3259.14165148, 4389.57108814,\n",
       "       2182.29892762, 4339.97588133, 2420.43600734, 3660.55471722,\n",
       "       3006.76106733, 2615.53136967, 2770.3222254 , 2165.27485956,\n",
       "       3742.66413662, 4759.32352456, 4300.23304939, 1999.84182893,\n",
       "       2194.88911297, 2532.70138413, 2130.5981483 , 2640.34892911,\n",
       "       2057.93959969, 2408.53683791, 1942.3031076 , 2486.75306622,\n",
       "       2219.91323969, 4446.96112567, 4925.88052286, 4720.9440464 ,\n",
       "       3310.27063921, 4649.87240656, 4664.14017156, 4023.06920888,\n",
       "       5612.94929481, 4390.43899811, 1983.60776354, 1583.97994903,\n",
       "       2842.47730144, 1583.24681409, 3031.11795001, 3499.65641379,\n",
       "       2118.43623506, 5133.40953167, 4679.15041036, 2408.26849213,\n",
       "       4675.2940131 , 3260.19541808, 2439.3854817 , 1961.43572733,\n",
       "       2356.99079369, 3572.71957924, 2502.84599609, 2332.89859262,\n",
       "       3818.8655544 , 2312.81106469, 3922.16882736, 2474.81738686,\n",
       "       4540.81275235, 3580.25480252, 5067.51291399, 2665.78986028,\n",
       "       2226.65155742, 2488.86242287, 2185.47915433, 5174.27239655,\n",
       "       2925.57935597, 2045.58203628, 5550.46694175, 4723.47325317,\n",
       "       3615.19944475, 2634.44686425, 4510.41850909, 3030.89672651,\n",
       "       5017.81543996, 2318.32793182, 3112.79218109, 4610.41672253,\n",
       "       2619.0750901 , 1748.86381677, 2404.47594622, 2505.21101332,\n",
       "       3447.95716552, 3228.25941979, 3716.90458322, 3024.02611107,\n",
       "       2235.70032819, 2377.12576987, 4391.25714688, 2192.22784921,\n",
       "       4322.57473877, 3686.92093895, 3494.25879272, 3303.64169225,\n",
       "       3016.2262847 , 3975.79971467, 3332.07928825, 5362.27761999])"
      ]
     },
     "execution_count": 20,
     "metadata": {},
     "output_type": "execute_result"
    }
   ],
   "source": [
    "mgpp_distance = np.zeros(num_microgrids)\n",
    "for i in range(num_microgrids):\n",
    "    mgpp_distance[i] = np.sum(calculate_distance_mgpp(lat_choices[i], long_choices[i],pplat, pplong))\n",
    "mgpp_distance"
   ]
  },
  {
   "cell_type": "code",
   "execution_count": 21,
   "id": "8c897fa5",
   "metadata": {},
   "outputs": [
    {
     "data": {
      "text/plain": [
       "array([[  0.        , 171.95166488, 442.02416773, ..., 181.19222359,\n",
       "        102.59151456, 487.25930518],\n",
       "       [  0.        ,   0.        , 293.38142175, ...,  70.86057283,\n",
       "        274.4884103 , 345.87033417],\n",
       "       [  0.        ,   0.        ,   0.        , ..., 344.76412662,\n",
       "        538.71637336,  57.75903652],\n",
       "       ...,\n",
       "       [  0.        ,   0.        ,   0.        , ...,   0.        ,\n",
       "        277.41540838, 400.0622543 ],\n",
       "       [  0.        ,   0.        ,   0.        , ...,   0.        ,\n",
       "          0.        , 581.15920884],\n",
       "       [  0.        ,   0.        ,   0.        , ...,   0.        ,\n",
       "          0.        ,   0.        ]])"
      ]
     },
     "execution_count": 21,
     "metadata": {},
     "output_type": "execute_result"
    }
   ],
   "source": [
    "mgmg_distance = calculate_distance_mgmg(lat_choices, long_choices)\n",
    "mgmg_distance"
   ]
  },
  {
   "cell_type": "code",
   "execution_count": 22,
   "id": "e36163ad",
   "metadata": {},
   "outputs": [],
   "source": [
    "costCoeff = 10000\n",
    "mgpp_cost = mgpp_distance * costCoeff\n",
    "mgmg_cost = mgmg_distance * costCoeff\n",
    "\n",
    "battery_cost = 38000  # Example fixed cost for battery and inverter installation\n",
    "land_cost = 13000  # Example fixed cost for land acquisition\n",
    "fixedCost = battery_cost + land_cost"
   ]
  },
  {
   "cell_type": "code",
   "execution_count": 23,
   "id": "77174273",
   "metadata": {},
   "outputs": [],
   "source": [
    "def add_count_constraint(K, delta, N):\n",
    "    \"\"\"\n",
    "    Adds a count constraint penalty to QUBO: (sum x_i - K)^2\n",
    "    Args:\n",
    "        Q: dict of QUBO terms (modified in-place)\n",
    "        K: number of locations to select\n",
    "        delta: penalty strength\n",
    "        N: total number of candidate locations\n",
    "    \"\"\"\n",
    "    Q = np.zeros((N, N))\n",
    "    for i in range(N):\n",
    "        Q[(i, i)] += delta * (1 - 2 * K)\n",
    "        for j in range(i + 1, N):\n",
    "            Q[(i, j)] += 2 * delta\n",
    "    return Q\n"
   ]
  },
  {
   "cell_type": "code",
   "execution_count": 24,
   "id": "66ea0eee",
   "metadata": {},
   "outputs": [
    {
     "data": {
      "text/plain": [
       "array([[-900000.,  200000.,  200000., ...,  200000.,  200000.,  200000.],\n",
       "       [      0., -900000.,  200000., ...,  200000.,  200000.,  200000.],\n",
       "       [      0.,       0., -900000., ...,  200000.,  200000.,  200000.],\n",
       "       ...,\n",
       "       [      0.,       0.,       0., ..., -900000.,  200000.,  200000.],\n",
       "       [      0.,       0.,       0., ...,       0., -900000.,  200000.],\n",
       "       [      0.,       0.,       0., ...,       0.,       0., -900000.]])"
      ]
     },
     "execution_count": 24,
     "metadata": {},
     "output_type": "execute_result"
    }
   ],
   "source": [
    "## budget constraint\n",
    "panaltyTerm = add_count_constraint(5, 100000, num_microgrids)\n",
    "panaltyTerm\n"
   ]
  },
  {
   "cell_type": "code",
   "execution_count": 25,
   "id": "8e20b393",
   "metadata": {},
   "outputs": [
    {
     "data": {
      "text/plain": [
       "array([28328103.17752406, 33845317.97986402, 50051967.32161313,\n",
       "       25032555.72454707, 24835540.16570612, 26567315.97821557,\n",
       "       32591416.51477496, 43895710.88140094, 21822989.27623944,\n",
       "       43399758.81327771, 24204360.07335523, 36605547.17222321,\n",
       "       30067610.67326037, 26155313.69674693, 27703222.25396613,\n",
       "       21652748.59557037, 37426641.36615901, 47593235.24556588,\n",
       "       43002330.4938779 , 19998418.28926949, 21948891.12974896,\n",
       "       25327013.84133561, 21305981.48296086, 26403489.29106451,\n",
       "       20579395.99690763, 24085368.37910513, 19423031.07596523,\n",
       "       24867530.66221061, 22199132.39692438, 44469611.25670041,\n",
       "       49258805.22864646, 47209440.4639907 , 33102706.39205901,\n",
       "       46498724.06564668, 46641401.71558958, 40230692.08883626,\n",
       "       56129492.94807108, 43904389.98111828, 19836077.6354111 ,\n",
       "       15839799.49027496, 28424773.01438421, 15832468.14087873,\n",
       "       30311179.50007913, 34996564.13793571, 21184362.35063025,\n",
       "       51334095.31669699, 46791504.10360739, 24082684.92127437,\n",
       "       46752940.13104953, 32601954.18080787, 24393854.81699673,\n",
       "       19614357.27332637, 23569907.93687454, 35727195.79240046,\n",
       "       25028459.96089628, 23328985.92619658, 38188655.54404922,\n",
       "       23128110.64692991, 39221688.27361869, 24748173.8685978 ,\n",
       "       45408127.52345912, 35802548.0251617 , 50675129.13985721,\n",
       "       26657898.60277617, 22266515.57417362, 24888624.22865659,\n",
       "       21854791.54329952, 51742723.96553569, 29255793.5596889 ,\n",
       "       20455820.36275962, 55504669.41748467, 47234732.53170176,\n",
       "       36151994.4475175 , 26344468.64253686, 45104185.09091915,\n",
       "       30308967.26511563, 50178154.39963485, 23183279.31818292,\n",
       "       31127921.81090181, 46104167.22533937, 26190750.90096562,\n",
       "       17488638.16770307, 24044759.46222858, 25052110.13317515,\n",
       "       34479571.65524257, 32282594.19785704, 37169045.83215093,\n",
       "       30240261.11067384, 22357003.28188715, 23771257.69872898,\n",
       "       43912571.46877136, 21922278.49214619, 43225747.38771378,\n",
       "       36869209.38948583, 34942587.92723674, 33036416.92249315,\n",
       "       30162262.84700732, 39757997.14668175, 33320792.88251755,\n",
       "       53622776.19987229])"
      ]
     },
     "execution_count": 25,
     "metadata": {},
     "output_type": "execute_result"
    }
   ],
   "source": [
    "mgpp_cost"
   ]
  },
  {
   "cell_type": "code",
   "execution_count": 26,
   "id": "d16c545c",
   "metadata": {},
   "outputs": [
    {
     "data": {
      "text/plain": [
       "1742501.6365846156"
      ]
     },
     "execution_count": 26,
     "metadata": {},
     "output_type": "execute_result"
    }
   ],
   "source": [
    "np.average(np.array(penetration))"
   ]
  },
  {
   "cell_type": "code",
   "execution_count": 27,
   "id": "8daf9315",
   "metadata": {},
   "outputs": [
    {
     "data": {
      "text/plain": [
       "22652521.2756"
      ]
     },
     "execution_count": 27,
     "metadata": {},
     "output_type": "execute_result"
    }
   ],
   "source": [
    "sum(np.array(penetration))"
   ]
  },
  {
   "cell_type": "code",
   "execution_count": 28,
   "id": "f711ae59",
   "metadata": {},
   "outputs": [],
   "source": [
    "### QUBO matrix\n",
    "term1 = (fixedCost*np.ones((1, num_microgrids))) - (sum(np.array(penetration)))*np.ones((1, num_microgrids)) + mgpp_cost\n",
    "linearTerm = np.zeros((num_microgrids, num_microgrids))\n",
    "for i in range(num_microgrids):\n",
    "    linearTerm[i,i] = term1[0,i]\n",
    "quandTerm = mgmg_cost\n",
    "\n",
    "qubo_matrix = linearTerm + quandTerm + panaltyTerm"
   ]
  },
  {
   "cell_type": "code",
   "execution_count": 29,
   "id": "0b2a3302",
   "metadata": {},
   "outputs": [
    {
     "data": {
      "text/plain": [
       "array([[ 4826581.90192406,  1919516.64878109,  4620241.67725008, ...,\n",
       "         2011922.23590106,  1225915.14556503,  5072593.05176773],\n",
       "       [       0.        , 10343796.70426402,  3133814.21746188, ...,\n",
       "          908605.72832673,  2944884.10296541,  3658703.34174762],\n",
       "       [       0.        ,        0.        , 26550446.04601312, ...,\n",
       "         3647641.2662408 ,  5587163.73358264,   777590.36522862],\n",
       "       ...,\n",
       "       [       0.        ,        0.        ,        0.        , ...,\n",
       "        16256475.87108175,  2974154.08380247,  4200622.54301456],\n",
       "       [       0.        ,        0.        ,        0.        , ...,\n",
       "               0.        ,  9819271.60691755,  6011592.08842604],\n",
       "       [       0.        ,        0.        ,        0.        , ...,\n",
       "               0.        ,        0.        , 30121254.92427229]])"
      ]
     },
     "execution_count": 29,
     "metadata": {},
     "output_type": "execute_result"
    }
   ],
   "source": [
    "qubo_matrix"
   ]
  },
  {
   "cell_type": "code",
   "execution_count": 30,
   "id": "e7a9eb7c",
   "metadata": {},
   "outputs": [],
   "source": [
    "from autoqubo import SamplingCompiler, Utils\n",
    "import timeit"
   ]
  },
  {
   "cell_type": "code",
   "execution_count": 31,
   "id": "2ac0afa7",
   "metadata": {},
   "outputs": [
    {
     "name": "stdout",
     "output_type": "stream",
     "text": [
      "Time:  0.5962887920000028\n"
     ]
    }
   ],
   "source": [
    "start = timeit.default_timer()\n",
    "\n",
    "solutions, energy_values = Utils.solve(qubo_matrix)\n",
    "\n",
    "stop = timeit.default_timer()\n",
    "print('Time: ', stop - start)"
   ]
  },
  {
   "cell_type": "code",
   "execution_count": 32,
   "id": "d057e81c",
   "metadata": {},
   "outputs": [
    {
     "name": "stdout",
     "output_type": "stream",
     "text": [
      "x=[0, 0, 0, 0, 0, 0, 0, 0, 0, 0, 0, 0, 0, 0, 0, 0, 0, 0, 0, 0, 0, 0, 0, 0, 0, 0, 1, 0, 0, 0, 0, 0, 0, 0, 0, 0, 0, 0, 0, 1, 0, 1, 0, 0, 0, 0, 0, 0, 0, 0, 0, 0, 0, 0, 0, 0, 0, 0, 0, 0, 0, 0, 0, 0, 0, 0, 0, 0, 0, 0, 0, 0, 0, 0, 0, 0, 0, 0, 0, 0, 0, 1, 0, 0, 0, 0, 0, 0, 0, 0, 0, 0, 0, 0, 0, 0, 0, 0, 0, 0], energy=-20416762.28664176\n",
      "x=[0, 0, 0, 0, 0, 0, 0, 0, 0, 0, 0, 0, 0, 0, 0, 0, 0, 0, 0, 0, 0, 0, 0, 0, 0, 0, 0, 0, 0, 0, 0, 0, 0, 0, 0, 0, 0, 0, 0, 1, 0, 1, 0, 0, 0, 0, 0, 0, 0, 0, 0, 1, 0, 0, 0, 0, 0, 0, 0, 0, 0, 0, 0, 0, 0, 0, 0, 0, 0, 0, 0, 0, 0, 0, 0, 0, 0, 0, 0, 0, 0, 1, 0, 0, 0, 0, 0, 0, 0, 0, 0, 0, 0, 0, 0, 0, 0, 0, 0, 0], energy=-19423067.37203611\n"
     ]
    }
   ],
   "source": [
    "for s, e in zip(solutions, energy_values):\n",
    "    print(f\"x={s}, energy={e}\")"
   ]
  },
  {
   "cell_type": "code",
   "execution_count": 33,
   "id": "8a01cd55",
   "metadata": {},
   "outputs": [
    {
     "data": {
      "text/plain": [
       "4"
      ]
     },
     "execution_count": 33,
     "metadata": {},
     "output_type": "execute_result"
    }
   ],
   "source": [
    "sum(solutions[0])"
   ]
  },
  {
   "cell_type": "code",
   "execution_count": 34,
   "id": "2383a273",
   "metadata": {},
   "outputs": [
    {
     "name": "stdout",
     "output_type": "stream",
     "text": [
      "New QUBO solution found with objective 0.0\n",
      "New QUBO solution found with objective -20416762.286641758\n",
      "Time:  0.14232691699999833\n"
     ]
    }
   ],
   "source": [
    "from gurobi_optimods.qubo import solve_qubo\n",
    "\n",
    "\n",
    "start = timeit.default_timer()\n",
    "\n",
    "result = solve_qubo(qubo_matrix)\n",
    "\n",
    "stop = timeit.default_timer()\n",
    "print('Time: ', stop - start)"
   ]
  },
  {
   "cell_type": "code",
   "execution_count": 35,
   "id": "bf3bdefc",
   "metadata": {},
   "outputs": [
    {
     "data": {
      "text/plain": [
       "QuboResult(solution=array([0., 0., 0., 0., 0., 0., 0., 0., 0., 0., 0., 0., 0., 0., 0., 0., 0.,\n",
       "       0., 0., 0., 0., 0., 0., 0., 0., 0., 1., 0., 0., 0., 0., 0., 0., 0.,\n",
       "       0., 0., 0., 0., 0., 1., 0., 1., 0., 0., 0., 0., 0., 0., 0., 0., 0.,\n",
       "       0., 0., 0., 0., 0., 0., 0., 0., 0., 0., 0., 0., 0., 0., 0., 0., 0.,\n",
       "       0., 0., 0., 0., 0., 0., 0., 0., 0., 0., 0., 0., 0., 1., 0., 0., 0.,\n",
       "       0., 0., 0., 0., 0., 0., 0., 0., 0., 0., 0., 0., 0., 0., 0.]), objective_value=-20416762.286641758)"
      ]
     },
     "execution_count": 35,
     "metadata": {},
     "output_type": "execute_result"
    }
   ],
   "source": [
    "result"
   ]
  },
  {
   "cell_type": "code",
   "execution_count": 36,
   "id": "38dfbfac",
   "metadata": {},
   "outputs": [
    {
     "data": {
      "text/plain": [
       "4.0"
      ]
     },
     "execution_count": 36,
     "metadata": {},
     "output_type": "execute_result"
    }
   ],
   "source": [
    "sum(result.solution)"
   ]
  },
  {
   "cell_type": "code",
   "execution_count": 37,
   "id": "c7675c33",
   "metadata": {},
   "outputs": [
    {
     "data": {
      "text/plain": [
       "array([ True,  True,  True,  True,  True,  True,  True,  True,  True,\n",
       "        True,  True,  True,  True,  True,  True,  True,  True,  True,\n",
       "        True,  True,  True,  True,  True,  True,  True,  True,  True,\n",
       "        True,  True,  True,  True,  True,  True,  True,  True,  True,\n",
       "        True,  True,  True,  True,  True,  True,  True,  True,  True,\n",
       "        True,  True,  True,  True,  True,  True,  True,  True,  True,\n",
       "        True,  True,  True,  True,  True,  True,  True,  True,  True,\n",
       "        True,  True,  True,  True,  True,  True,  True,  True,  True,\n",
       "        True,  True,  True,  True,  True,  True,  True,  True,  True,\n",
       "        True,  True,  True,  True,  True,  True,  True,  True,  True,\n",
       "        True,  True,  True,  True,  True,  True,  True,  True,  True,\n",
       "        True])"
      ]
     },
     "execution_count": 37,
     "metadata": {},
     "output_type": "execute_result"
    }
   ],
   "source": [
    "result.solution == solutions[0]"
   ]
  },
  {
   "cell_type": "markdown",
   "id": "91d8f414",
   "metadata": {},
   "source": [
    "## qiskit"
   ]
  },
  {
   "cell_type": "code",
   "execution_count": null,
   "id": "506c4699",
   "metadata": {},
   "outputs": [],
   "source": [
    "import rustworkx as rx\n",
    "from rustworkx.visualization import mpl_draw as draw_graph\n",
    "import numpy as np\n",
    "from scipy.optimize import minimize\n",
    "from collections import defaultdict\n",
    "from typing import Sequence\n",
    " \n",
    " \n",
    "from qiskit.quantum_info import SparsePauliOp\n",
    "from qiskit.circuit.library import QAOAAnsatz\n",
    "from qiskit.transpiler.preset_passmanagers import generate_preset_pass_manager\n",
    " \n",
    "from qiskit_aer import AerSimulator\n",
    "from qiskit_ibm_runtime import QiskitRuntimeService\n",
    "from qiskit_ibm_runtime import Session, EstimatorV2 as Estimator\n",
    "from qiskit_ibm_runtime import SamplerV2 as Sampler\n"
   ]
  },
  {
   "cell_type": "code",
   "execution_count": null,
   "id": "e40e389f",
   "metadata": {},
   "outputs": [],
   "source": [
    "from qiskit import QuantumCircuit\n",
    "qiskit_circuit = QuantumCircuit(num_microgrids + 1)\n"
   ]
  },
  {
   "cell_type": "code",
   "execution_count": null,
   "id": "01aa7800",
   "metadata": {},
   "outputs": [],
   "source": [
    "def build_qubo_paulis(qubo):\n",
    "    pauli_list = []\n",
    "    for i in range(num_microgrids):\n",
    "        for j in range(num_microgrids):\n",
    "            if i == j:\n",
    "                pauli_list.append((\"Z\", [i], (-1)*sum([qubo[i][j]+qubo[i][i] for j in range(num_microgrids)])))\n",
    "            else:\n",
    "                pauli_list.append((\"ZZ\", [i, j], qubo[i][j]))\n",
    "    return pauli_list\n",
    "    # for edge in list(graph.edge_list()):\n",
    "    #     weight = graph.get_edge_data(edge[0], edge[1])\n",
    "    #     pauli_list.append((\"ZZ\", [edge[0], edge[1]], weight))\n",
    "    # return pauli_list\n",
    " \n",
    "qubo_paulis = build_qubo_paulis(qubo_matrix)\n",
    "cost_hamiltonian = SparsePauliOp.from_sparse_list(qubo_paulis, num_microgrids)\n",
    "print(\"Cost Function Hamiltonian:\", cost_hamiltonian)"
   ]
  },
  {
   "cell_type": "code",
   "execution_count": null,
   "id": "e7516837",
   "metadata": {},
   "outputs": [],
   "source": [
    "circuit = QAOAAnsatz(cost_operator=cost_hamiltonian, reps=2)\n",
    "circuit.measure_all()\n",
    " \n",
    "circuit.draw(\"mpl\")"
   ]
  },
  {
   "cell_type": "code",
   "execution_count": null,
   "id": "8db0c1b8",
   "metadata": {},
   "outputs": [],
   "source": [
    "# decomposed = circuit.decompose().decompose().decompose()\n",
    "# from qiskit.qasm3 import dumps\n",
    "\n",
    "# decomposed_qasm_string = dumps(decomposed)"
   ]
  },
  {
   "cell_type": "code",
   "execution_count": null,
   "id": "d22a2a96",
   "metadata": {},
   "outputs": [],
   "source": [
    "# import qbraid \n",
    "# provider = qbraid.QbraidProvider()\n",
    "# aws_device_id = \"aws_sv1\"\n",
    "# device = provider.get_device(aws_device_id)\n",
    "# device"
   ]
  },
  {
   "cell_type": "code",
   "execution_count": null,
   "id": "7873fc45",
   "metadata": {},
   "outputs": [],
   "source": [
    "qiskit_sim = AerSimulator()"
   ]
  },
  {
   "cell_type": "code",
   "execution_count": null,
   "id": "6f1b382f",
   "metadata": {},
   "outputs": [],
   "source": [
    "estimator = Estimator(qiskit_sim)"
   ]
  },
  {
   "cell_type": "code",
   "execution_count": null,
   "id": "e195819b",
   "metadata": {},
   "outputs": [],
   "source": [
    "# service = QiskitRuntimeService()\n",
    "backend = qiskit_sim\n",
    "print(backend)\n",
    " \n",
    "# Create pass manager for transpilation\n",
    "pm = generate_preset_pass_manager(optimization_level=3, backend=backend)\n",
    "\n",
    "candidate_circuit = pm.run(circuit)\n",
    "# candidate_circuit.draw(\"mpl\", fold=False, idle_wires=False)"
   ]
  },
  {
   "cell_type": "code",
   "execution_count": null,
   "id": "562eb6c7",
   "metadata": {},
   "outputs": [],
   "source": [
    "initial_gamma = np.pi\n",
    "initial_beta = np.pi / 2\n",
    "init_params = [initial_beta, initial_beta, initial_gamma, initial_gamma]"
   ]
  },
  {
   "cell_type": "code",
   "execution_count": null,
   "id": "e9a29310",
   "metadata": {},
   "outputs": [],
   "source": [
    "def cost_func_estimator(params, ansatz, hamiltonian, estimator):\n",
    "    # transform the observable defined on virtual qubits to\n",
    "    # an observable defined on all physical qubits\n",
    "    isa_hamiltonian = hamiltonian.apply_layout(ansatz.layout)\n",
    " \n",
    "    pub = (ansatz, isa_hamiltonian, params)\n",
    "    job = estimator.run([pub])\n",
    " \n",
    "    results = job.result()[0]\n",
    "    cost = results.data.evs\n",
    " \n",
    "    objective_func_vals.append(cost)\n",
    " \n",
    "    return cost"
   ]
  },
  {
   "cell_type": "code",
   "execution_count": null,
   "id": "2435e2d8",
   "metadata": {},
   "outputs": [],
   "source": [
    "objective_func_vals = []  # Global variable\n",
    "with Session(backend=backend) as session:\n",
    "    # If using qiskit-ibm-runtime<0.24.0, change `mode=` to `session=`\n",
    "    estimator = Estimator(mode=session)\n",
    "    estimator.options.default_shots = 50000\n",
    " \n",
    "    # Set simple error suppression/mitigation options\n",
    "    estimator.options.dynamical_decoupling.enable = True\n",
    "    estimator.options.dynamical_decoupling.sequence_type = \"XY4\"\n",
    "    estimator.options.twirling.enable_gates = True\n",
    "    estimator.options.twirling.num_randomizations = \"auto\"\n",
    " \n",
    "    result = minimize(\n",
    "        cost_func_estimator,\n",
    "        init_params,\n",
    "        args=(candidate_circuit, cost_hamiltonian, estimator),\n",
    "        method=\"COBYLA\",\n",
    "        # method=\"dogleg\",\n",
    "        tol=1e-2\n",
    "    )\n",
    "    print(result)"
   ]
  },
  {
   "cell_type": "code",
   "execution_count": null,
   "id": "d27ab5c5",
   "metadata": {},
   "outputs": [],
   "source": [
    "plt.figure(figsize=(10, 5))\n",
    "plt.plot(objective_func_vals)\n",
    "plt.xlabel(\"Iteration\")\n",
    "plt.ylabel(\"Cost\")\n",
    "\n",
    "plt.show()"
   ]
  },
  {
   "cell_type": "code",
   "execution_count": null,
   "id": "96736a51",
   "metadata": {},
   "outputs": [],
   "source": [
    "optimized_circuit = candidate_circuit.assign_parameters(result.x)\n",
    "\n",
    "# optimized_circuit.draw(\"mpl\", fold=False, idle_wires=False)"
   ]
  },
  {
   "cell_type": "code",
   "execution_count": null,
   "id": "33ce53a2",
   "metadata": {},
   "outputs": [],
   "source": [
    "job = qiskit_sim.run(optimized_circuit, shots=int(1e4))\n",
    "job.result()"
   ]
  },
  {
   "cell_type": "code",
   "execution_count": null,
   "id": "48e3ce13",
   "metadata": {},
   "outputs": [],
   "source": [
    "{bin(int(k, 16)): v for k, v in job.result().results[0].data.counts.items()}"
   ]
  },
  {
   "cell_type": "code",
   "execution_count": null,
   "id": "37064e1d",
   "metadata": {},
   "outputs": [],
   "source": [
    "int(\"0x3\", 16)"
   ]
  },
  {
   "cell_type": "code",
   "execution_count": null,
   "id": "620d3035",
   "metadata": {},
   "outputs": [],
   "source": [
    "# #If using qiskit-ibm-runtime<0.24.0, change `mode=` to `backend=`\n",
    "# sampler = Sampler(mode=backend)\n",
    "# sampler.options.default_shots = 10000\n",
    "\n",
    "# # Set simple error suppression/mitigation options\n",
    "# sampler.options.dynamical_decoupling.enable = True\n",
    "# sampler.options.dynamical_decoupling.sequence_type = \"XY4\"\n",
    "# sampler.options.twirling.enable_gates = True\n",
    "# sampler.options.twirling.num_randomizations = \"auto\"\n",
    "\n",
    "job = qiskit_sim.run(optimized_circuit, shots=int(1e4))\n",
    "# counts_int = job.result().data.get_int_counts()\n",
    "# counts_bin = job.result()\n",
    "# print(counts_bin.data)\n",
    "# shots = sum(counts_int.values())\n",
    "# final_distribution_int = {key: val / shots for key, val in counts_int.items()}\n",
    "# final_distribution_bin = {key: val / shots for key, val in counts_bin.items()}\n",
    "# print(final_distribution_int)"
   ]
  },
  {
   "cell_type": "code",
   "execution_count": null,
   "id": "2eb1e4bd",
   "metadata": {},
   "outputs": [],
   "source": [
    "# qasm_3 = transpile(circuit.decompose(), 'qasm3')\n",
    "# print(qasm_3)\n",
    "\n",
    "braket_job = device.run(decomposed_qasm_string, shots=10)\n",
    "braket_job.status()"
   ]
  },
  {
   "cell_type": "code",
   "execution_count": null,
   "id": "7868eef9",
   "metadata": {},
   "outputs": [],
   "source": []
  }
 ],
 "metadata": {
  "kernelspec": {
   "display_name": "base",
   "language": "python",
   "name": "python3"
  },
  "language_info": {
   "codemirror_mode": {
    "name": "ipython",
    "version": 3
   },
   "file_extension": ".py",
   "mimetype": "text/x-python",
   "name": "python",
   "nbconvert_exporter": "python",
   "pygments_lexer": "ipython3",
   "version": "3.8.8"
  }
 },
 "nbformat": 4,
 "nbformat_minor": 5
}
