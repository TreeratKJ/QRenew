{
 "cells": [
  {
   "cell_type": "code",
   "execution_count": 16,
   "id": "32054105",
   "metadata": {},
   "outputs": [],
   "source": [
    "import os\n",
    "import sys\n",
    "from pathlib import Path\n",
    "path = str(Path(os.getcwd()))\n",
    "sys.path.insert(1, path+'/amazon-braket-community-detection/src')"
   ]
  },
  {
   "cell_type": "code",
   "execution_count": 17,
   "id": "74c15b66",
   "metadata": {},
   "outputs": [
    {
     "data": {
      "text/plain": [
       "['/Users/treerat/Documents/2025Quantathon/QRenew',\n",
       " '/Users/treerat/Documents/2025Quantathon/QRenew/amazon-braket-community-detection/src',\n",
       " '/Users/treerat/Documents/2025Quantathon/QRenew/amazon-braket-community-detection/src',\n",
       " '/opt/homebrew/Cellar/python@3.11/3.11.1/Frameworks/Python.framework/Versions/3.11/lib/python311.zip',\n",
       " '/opt/homebrew/Cellar/python@3.11/3.11.1/Frameworks/Python.framework/Versions/3.11/lib/python3.11',\n",
       " '/opt/homebrew/Cellar/python@3.11/3.11.1/Frameworks/Python.framework/Versions/3.11/lib/python3.11/lib-dynload',\n",
       " '',\n",
       " '/Users/treerat/Library/Python/3.11/lib/python/site-packages',\n",
       " '/opt/homebrew/lib/python3.11/site-packages',\n",
       " '/opt/homebrew/Cellar/pygments/2.14.0/libexec/lib/python3.11/site-packages']"
      ]
     },
     "execution_count": 17,
     "metadata": {},
     "output_type": "execute_result"
    }
   ],
   "source": [
    "sys.path"
   ]
  },
  {
   "cell_type": "code",
   "execution_count": 18,
   "id": "81ccca0c",
   "metadata": {},
   "outputs": [
    {
     "data": {
      "text/html": [
       "<div>\n",
       "<style scoped>\n",
       "    .dataframe tbody tr th:only-of-type {\n",
       "        vertical-align: middle;\n",
       "    }\n",
       "\n",
       "    .dataframe tbody tr th {\n",
       "        vertical-align: top;\n",
       "    }\n",
       "\n",
       "    .dataframe thead th {\n",
       "        text-align: right;\n",
       "    }\n",
       "</style>\n",
       "<table border=\"1\" class=\"dataframe\">\n",
       "  <thead>\n",
       "    <tr style=\"text-align: right;\">\n",
       "      <th></th>\n",
       "      <th>WKT</th>\n",
       "      <th>Index</th>\n",
       "      <th>latitude</th>\n",
       "      <th>longitude</th>\n",
       "      <th>name</th>\n",
       "      <th>capacity(MW)</th>\n",
       "    </tr>\n",
       "  </thead>\n",
       "  <tbody>\n",
       "    <tr>\n",
       "      <th>0</th>\n",
       "      <td>POINT (100.1995973 13.5797688)</td>\n",
       "      <td>1</td>\n",
       "      <td>13.579769</td>\n",
       "      <td>100.199597</td>\n",
       "      <td>Samut Sakhon</td>\n",
       "      <td>5.0</td>\n",
       "    </tr>\n",
       "    <tr>\n",
       "      <th>1</th>\n",
       "      <td>POINT (100.4800113 13.7131258)</td>\n",
       "      <td>2</td>\n",
       "      <td>13.713126</td>\n",
       "      <td>100.480011</td>\n",
       "      <td>The Mall - Tha Phra</td>\n",
       "      <td>1.0</td>\n",
       "    </tr>\n",
       "    <tr>\n",
       "      <th>2</th>\n",
       "      <td>POINT (100.4474445 13.8199492)</td>\n",
       "      <td>3</td>\n",
       "      <td>13.819949</td>\n",
       "      <td>100.447445</td>\n",
       "      <td>Ratchaphruek</td>\n",
       "      <td>1.0</td>\n",
       "    </tr>\n",
       "    <tr>\n",
       "      <th>3</th>\n",
       "      <td>POINT (100.5417601 13.8550947)</td>\n",
       "      <td>4</td>\n",
       "      <td>13.855095</td>\n",
       "      <td>100.541760</td>\n",
       "      <td>The Mall - Ngamwongwan</td>\n",
       "      <td>1.0</td>\n",
       "    </tr>\n",
       "    <tr>\n",
       "      <th>4</th>\n",
       "      <td>POINT (100.6421705 13.7658514)</td>\n",
       "      <td>5</td>\n",
       "      <td>13.765851</td>\n",
       "      <td>100.642171</td>\n",
       "      <td>The Mall - Bangkapi</td>\n",
       "      <td>1.0</td>\n",
       "    </tr>\n",
       "    <tr>\n",
       "      <th>5</th>\n",
       "      <td>POINT (100.6798205 13.8282182)</td>\n",
       "      <td>6</td>\n",
       "      <td>13.828218</td>\n",
       "      <td>100.679821</td>\n",
       "      <td>Akekamai-Ramintra</td>\n",
       "      <td>1.0</td>\n",
       "    </tr>\n",
       "    <tr>\n",
       "      <th>6</th>\n",
       "      <td>POINT (101.0033703 13.5759609)</td>\n",
       "      <td>7</td>\n",
       "      <td>13.575961</td>\n",
       "      <td>101.003370</td>\n",
       "      <td>Chachoengsao</td>\n",
       "      <td>1.3</td>\n",
       "    </tr>\n",
       "    <tr>\n",
       "      <th>7</th>\n",
       "      <td>POINT (100.5528226 14.1690859)</td>\n",
       "      <td>8</td>\n",
       "      <td>14.169086</td>\n",
       "      <td>100.552823</td>\n",
       "      <td>Bangchak</td>\n",
       "      <td>16.0</td>\n",
       "    </tr>\n",
       "    <tr>\n",
       "      <th>8</th>\n",
       "      <td>POINT (100.5530586 14.1689819)</td>\n",
       "      <td>9</td>\n",
       "      <td>14.168982</td>\n",
       "      <td>100.553059</td>\n",
       "      <td>Bangchak III</td>\n",
       "      <td>25.0</td>\n",
       "    </tr>\n",
       "    <tr>\n",
       "      <th>9</th>\n",
       "      <td>POINT (100.1837652 13.9754302)</td>\n",
       "      <td>10</td>\n",
       "      <td>13.975430</td>\n",
       "      <td>100.183765</td>\n",
       "      <td>Sai Thong</td>\n",
       "      <td>6.1</td>\n",
       "    </tr>\n",
       "    <tr>\n",
       "      <th>10</th>\n",
       "      <td>POINT (100.1962857 13.9840662)</td>\n",
       "      <td>11</td>\n",
       "      <td>13.984066</td>\n",
       "      <td>100.196286</td>\n",
       "      <td>Sai Yoi</td>\n",
       "      <td>3.0</td>\n",
       "    </tr>\n",
       "    <tr>\n",
       "      <th>11</th>\n",
       "      <td>POINT (100.200201 14.0004893)</td>\n",
       "      <td>12</td>\n",
       "      <td>14.000489</td>\n",
       "      <td>100.200201</td>\n",
       "      <td>Sai Prapa</td>\n",
       "      <td>7.2</td>\n",
       "    </tr>\n",
       "    <tr>\n",
       "      <th>12</th>\n",
       "      <td>POINT (100.1737777 14.1076288)</td>\n",
       "      <td>13</td>\n",
       "      <td>14.107629</td>\n",
       "      <td>100.173778</td>\n",
       "      <td>Sai Phet</td>\n",
       "      <td>35.9</td>\n",
       "    </tr>\n",
       "    <tr>\n",
       "      <th>13</th>\n",
       "      <td>POINT (100.1432434 14.1367617)</td>\n",
       "      <td>14</td>\n",
       "      <td>14.136762</td>\n",
       "      <td>100.143243</td>\n",
       "      <td>Sai Yai - Solarco</td>\n",
       "      <td>23.8</td>\n",
       "    </tr>\n",
       "    <tr>\n",
       "      <th>14</th>\n",
       "      <td>POINT (100.1506249 14.1383847)</td>\n",
       "      <td>15</td>\n",
       "      <td>14.138385</td>\n",
       "      <td>100.150625</td>\n",
       "      <td>Sai Yai - Solarta</td>\n",
       "      <td>9.7</td>\n",
       "    </tr>\n",
       "    <tr>\n",
       "      <th>15</th>\n",
       "      <td>POINT (100.1377288 14.1542604)</td>\n",
       "      <td>16</td>\n",
       "      <td>14.154260</td>\n",
       "      <td>100.137729</td>\n",
       "      <td>Sai Kyo</td>\n",
       "      <td>11.9</td>\n",
       "    </tr>\n",
       "    <tr>\n",
       "      <th>16</th>\n",
       "      <td>POINT (100.1128729 14.2224476)</td>\n",
       "      <td>17</td>\n",
       "      <td>14.222448</td>\n",
       "      <td>100.112873</td>\n",
       "      <td>Sai Saphan</td>\n",
       "      <td>7.0</td>\n",
       "    </tr>\n",
       "    <tr>\n",
       "      <th>17</th>\n",
       "      <td>POINT (100.1275879 14.2446193)</td>\n",
       "      <td>18</td>\n",
       "      <td>14.244619</td>\n",
       "      <td>100.127588</td>\n",
       "      <td>Sai Tatong</td>\n",
       "      <td>1.0</td>\n",
       "    </tr>\n",
       "    <tr>\n",
       "      <th>18</th>\n",
       "      <td>POINT (100.3022163 14.3219005)</td>\n",
       "      <td>19</td>\n",
       "      <td>14.321900</td>\n",
       "      <td>100.302216</td>\n",
       "      <td>Bang Sai</td>\n",
       "      <td>1.7</td>\n",
       "    </tr>\n",
       "    <tr>\n",
       "      <th>19</th>\n",
       "      <td>POINT (100.2778664 14.2172742)</td>\n",
       "      <td>20</td>\n",
       "      <td>14.217274</td>\n",
       "      <td>100.277866</td>\n",
       "      <td>Sai Sena - Solarta</td>\n",
       "      <td>3.0</td>\n",
       "    </tr>\n",
       "  </tbody>\n",
       "</table>\n",
       "</div>"
      ],
      "text/plain": [
       "                               WKT  Index   latitude   longitude  \\\n",
       "0   POINT (100.1995973 13.5797688)      1  13.579769  100.199597   \n",
       "1   POINT (100.4800113 13.7131258)      2  13.713126  100.480011   \n",
       "2   POINT (100.4474445 13.8199492)      3  13.819949  100.447445   \n",
       "3   POINT (100.5417601 13.8550947)      4  13.855095  100.541760   \n",
       "4   POINT (100.6421705 13.7658514)      5  13.765851  100.642171   \n",
       "5   POINT (100.6798205 13.8282182)      6  13.828218  100.679821   \n",
       "6   POINT (101.0033703 13.5759609)      7  13.575961  101.003370   \n",
       "7   POINT (100.5528226 14.1690859)      8  14.169086  100.552823   \n",
       "8   POINT (100.5530586 14.1689819)      9  14.168982  100.553059   \n",
       "9   POINT (100.1837652 13.9754302)     10  13.975430  100.183765   \n",
       "10  POINT (100.1962857 13.9840662)     11  13.984066  100.196286   \n",
       "11   POINT (100.200201 14.0004893)     12  14.000489  100.200201   \n",
       "12  POINT (100.1737777 14.1076288)     13  14.107629  100.173778   \n",
       "13  POINT (100.1432434 14.1367617)     14  14.136762  100.143243   \n",
       "14  POINT (100.1506249 14.1383847)     15  14.138385  100.150625   \n",
       "15  POINT (100.1377288 14.1542604)     16  14.154260  100.137729   \n",
       "16  POINT (100.1128729 14.2224476)     17  14.222448  100.112873   \n",
       "17  POINT (100.1275879 14.2446193)     18  14.244619  100.127588   \n",
       "18  POINT (100.3022163 14.3219005)     19  14.321900  100.302216   \n",
       "19  POINT (100.2778664 14.2172742)     20  14.217274  100.277866   \n",
       "\n",
       "                      name  capacity(MW)  \n",
       "0             Samut Sakhon           5.0  \n",
       "1      The Mall - Tha Phra           1.0  \n",
       "2             Ratchaphruek           1.0  \n",
       "3   The Mall - Ngamwongwan           1.0  \n",
       "4      The Mall - Bangkapi           1.0  \n",
       "5        Akekamai-Ramintra           1.0  \n",
       "6             Chachoengsao           1.3  \n",
       "7                 Bangchak          16.0  \n",
       "8             Bangchak III          25.0  \n",
       "9                Sai Thong           6.1  \n",
       "10                 Sai Yoi           3.0  \n",
       "11              Sai Prapa            7.2  \n",
       "12                Sai Phet          35.9  \n",
       "13       Sai Yai - Solarco          23.8  \n",
       "14       Sai Yai - Solarta           9.7  \n",
       "15                 Sai Kyo          11.9  \n",
       "16              Sai Saphan           7.0  \n",
       "17              Sai Tatong           1.0  \n",
       "18                Bang Sai           1.7  \n",
       "19      Sai Sena - Solarta           3.0  "
      ]
     },
     "execution_count": 18,
     "metadata": {},
     "output_type": "execute_result"
    }
   ],
   "source": [
    "# Required Libraries\n",
    "import numpy as np\n",
    "import matplotlib.pyplot as plt\n",
    "import pandas as pd\n",
    "from geopy.distance import geodesic\n",
    "import networkx as nx\n",
    "\n",
    "df = pd.read_csv(path+'/database/SolarPowerPlants_TH.csv', delimiter=',', skiprows=1)\n",
    "df"
   ]
  },
  {
   "cell_type": "code",
   "execution_count": 19,
   "id": "d70f7bb9",
   "metadata": {},
   "outputs": [],
   "source": [
    "ind = df['Index']\n",
    "name = df['name']\n",
    "lat = df['latitude']\n",
    "long = df['longitude']\n",
    "capacity = df['capacity(MW)']"
   ]
  },
  {
   "cell_type": "code",
   "execution_count": 20,
   "id": "b42db51f",
   "metadata": {},
   "outputs": [
    {
     "data": {
      "text/plain": [
       "{1: (13.5797688, 100.1995973),\n",
       " 2: (13.7131258, 100.4800113),\n",
       " 3: (13.8199492, 100.4474445),\n",
       " 4: (13.8550947, 100.5417601),\n",
       " 5: (13.7658514, 100.6421705),\n",
       " 6: (13.8282182, 100.6798205),\n",
       " 7: (13.5759609, 101.0033703),\n",
       " 8: (14.1690859, 100.5528226),\n",
       " 9: (14.1689819, 100.5530586),\n",
       " 10: (13.9754302, 100.1837652),\n",
       " 11: (13.9840662, 100.1962857),\n",
       " 12: (14.0004893, 100.200201),\n",
       " 13: (14.1076288, 100.1737777),\n",
       " 14: (14.1367617, 100.1432434),\n",
       " 15: (14.1383847, 100.1506249),\n",
       " 16: (14.1542604, 100.1377288),\n",
       " 17: (14.2224476, 100.1128729),\n",
       " 18: (14.2446193, 100.1275879),\n",
       " 19: (14.3219005, 100.3022163),\n",
       " 20: (14.2172742, 100.2778664)}"
      ]
     },
     "execution_count": 20,
     "metadata": {},
     "output_type": "execute_result"
    }
   ],
   "source": [
    "locations = {ind: (lat, long) for ind, lat, long in zip(ind, lat, long)}\n",
    "locations"
   ]
  },
  {
   "cell_type": "code",
   "execution_count": 32,
   "id": "ed6c3346",
   "metadata": {},
   "outputs": [
    {
     "data": {
      "text/plain": [
       "20"
      ]
     },
     "execution_count": 32,
     "metadata": {},
     "output_type": "execute_result"
    }
   ],
   "source": [
    "(len(locations.keys()))"
   ]
  },
  {
   "cell_type": "code",
   "execution_count": 22,
   "id": "b82fd62e",
   "metadata": {},
   "outputs": [],
   "source": [
    "\n",
    "# noconsumers = 10\n",
    "# c_energy = np.random.default_rng().normal(loc=np.average(capacity), scale=np.std(capacity)/2, size=noconsumers)\n",
    "# # c_energy = np.random.default_rng().integers(low=min(capacity), high=max(capacity), size=10)\n",
    "# c_energy"
   ]
  },
  {
   "cell_type": "code",
   "execution_count": 51,
   "id": "46624fa3",
   "metadata": {},
   "outputs": [],
   "source": [
    "def calculate_distance_mgpp(mglat, mglong, pplat, pplong):    \n",
    "    distance_matrix = np.zeros(len(pplat))\n",
    "    for i in range(len(pplat)):\n",
    "        distance_matrix[i] = geodesic((mglat, mglong), (pplat[i], pplong[i])).km\n",
    "    return distance_matrix\n"
   ]
  },
  {
   "cell_type": "code",
   "execution_count": 50,
   "id": "d2ace828",
   "metadata": {},
   "outputs": [],
   "source": [
    "def calculate_distance_mgmg(mglat, mglong):    \n",
    "    distance_matrix = np.zeros((len(mglat), len(mglat)))\n",
    "    for i in range(len(mglat)):\n",
    "        for j in range(len(mglat)):\n",
    "            if i < j:\n",
    "                distance_matrix[i][j] = geodesic((mglat[i], mglong[i]), (mglat[j], mglong[j])).km\n",
    "    return distance_matrix"
   ]
  },
  {
   "cell_type": "code",
   "execution_count": 24,
   "id": "ec9a3eff",
   "metadata": {},
   "outputs": [],
   "source": [
    "def create_transmission_network(locations, distance_matrix, threshold=45):\n",
    "    G = nx.Graph()\n",
    "    for i, label_i in enumerate(locations.keys()):\n",
    "        for j, label_j in enumerate(locations.keys()):\n",
    "            if i < j:\n",
    "                if distance_matrix[i][j] < threshold: # Only add edge if distance is below threshold\n",
    "                    G.add_edge(label_i, label_j)\n",
    "    return G"
   ]
  },
  {
   "cell_type": "code",
   "execution_count": 25,
   "id": "af0857bc",
   "metadata": {},
   "outputs": [
    {
     "name": "stdout",
     "output_type": "stream",
     "text": [
      "<enumerate object at 0x1150c17b0>\n"
     ]
    }
   ],
   "source": [
    "print(enumerate(locations.keys()))"
   ]
  },
  {
   "cell_type": "code",
   "execution_count": 26,
   "id": "addae2cf",
   "metadata": {},
   "outputs": [
    {
     "data": {
      "image/png": "[encoded data removed]",
      "text/plain": [
       "<Figure size 640x480 with 1 Axes>"
      ]
     },
     "metadata": {},
     "output_type": "display_data"
    }
   ],
   "source": [
    "distance_matrix = calculate_distance_matrix(lat, long)\n",
    "\n",
    "# Create Graph Based on Distance Threshold\n",
    "G = create_transmission_network(locations, distance_matrix, threshold=45)\n",
    "\n",
    "# Visualize Graph\n",
    "fig, ax = plt.subplots()\n",
    "pos = {label: (lon, lat) for label, (lat, lon) in locations.items()}\n",
    "nx.draw(G, pos, ax=ax, node_size=100, node_color='blue')\n",
    "# nx.draw(G, pos, ax=ax, node_size=800, with_labels=True)\n",
    "# with_labels=True, node_color='lightblue', node_size=800)\n",
    "plt.title(\"Solar Panel Proximity Graph\")\n",
    "plt.show()"
   ]
  },
  {
   "cell_type": "code",
   "execution_count": 27,
   "id": "3d4550fa",
   "metadata": {},
   "outputs": [
    {
     "data": {
      "text/plain": [
       "<networkx.classes.graph.Graph at 0x11615da10>"
      ]
     },
     "execution_count": 27,
     "metadata": {},
     "output_type": "execute_result"
    }
   ],
   "source": [
    "G"
   ]
  },
  {
   "cell_type": "code",
   "execution_count": 28,
   "id": "159ba4f2",
   "metadata": {},
   "outputs": [
    {
     "data": {
      "text/plain": [
       "EdgeDataView([(1, 2, {}), (1, 3, {}), (1, 10, {}), (1, 11, {}), (2, 3, {}), (2, 4, {}), (2, 5, {}), (2, 6, {}), (2, 10, {}), (2, 11, {}), (2, 12, {}), (3, 4, {}), (3, 5, {}), (3, 6, {}), (3, 8, {}), (3, 9, {}), (3, 10, {}), (3, 11, {}), (3, 12, {}), (3, 13, {}), (10, 4, {}), (10, 11, {}), (10, 12, {}), (10, 13, {}), (10, 14, {}), (10, 15, {}), (10, 16, {}), (10, 17, {}), (10, 18, {}), (10, 19, {}), (10, 20, {}), (11, 4, {}), (11, 8, {}), (11, 9, {}), (11, 12, {}), (11, 13, {}), (11, 14, {}), (11, 15, {}), (11, 16, {}), (11, 17, {}), (11, 18, {}), (11, 19, {}), (11, 20, {}), (4, 5, {}), (4, 6, {}), (4, 8, {}), (4, 9, {}), (4, 12, {}), (5, 6, {}), (5, 7, {}), (6, 7, {}), (6, 8, {}), (6, 9, {}), (12, 8, {}), (12, 9, {}), (12, 13, {}), (12, 14, {}), (12, 15, {}), (12, 16, {}), (12, 17, {}), (12, 18, {}), (12, 19, {}), (12, 20, {}), (8, 9, {}), (8, 13, {}), (8, 14, {}), (8, 15, {}), (8, 16, {}), (8, 19, {}), (8, 20, {}), (9, 13, {}), (9, 14, {}), (9, 15, {}), (9, 16, {}), (9, 19, {}), (9, 20, {}), (13, 14, {}), (13, 15, {}), (13, 16, {}), (13, 17, {}), (13, 18, {}), (13, 19, {}), (13, 20, {}), (14, 15, {}), (14, 16, {}), (14, 17, {}), (14, 18, {}), (14, 19, {}), (14, 20, {}), (15, 16, {}), (15, 17, {}), (15, 18, {}), (15, 19, {}), (15, 20, {}), (16, 17, {}), (16, 18, {}), (16, 19, {}), (16, 20, {}), (19, 17, {}), (19, 18, {}), (19, 20, {}), (20, 17, {}), (20, 18, {}), (17, 18, {})])"
      ]
     },
     "execution_count": 28,
     "metadata": {},
     "output_type": "execute_result"
    }
   ],
   "source": [
    "G.edges(data=True)"
   ]
  },
  {
   "cell_type": "code",
   "execution_count": 29,
   "id": "53351199",
   "metadata": {},
   "outputs": [],
   "source": [
    "total_nodes = len(G.nodes(data=True))\n",
    "total_edges = len(G.edges(data=True))"
   ]
  },
  {
   "cell_type": "code",
   "execution_count": null,
   "id": "8cc371a1",
   "metadata": {},
   "outputs": [],
   "source": [
    "def H_distance(distance_matrix, total_nodes, threshold=45, alpha=1):\n",
    "    H = np.zeros((total_nodes, total_nodes))\n",
    "    for i in range(total_nodes):\n",
    "        for j in range(total_nodes):\n",
    "            if i < j:\n",
    "                if distance_matrix[i][j] < threshold:\n",
    "                    delta = 1\n",
    "                else:\n",
    "                    delta = 0\n",
    "                H[i][j] = delta*distance_matrix[i][j]\n",
    "    return alpha*H"
   ]
  },
  {
   "cell_type": "code",
   "execution_count": 59,
   "id": "e280dc8c",
   "metadata": {},
   "outputs": [],
   "source": [
    "import scipy.sparse as sp\n",
    "from networkx.algorithms import community\n",
    "\n",
    "### create QUBO matrix\n",
    "\n",
    "# define the distance matrix\n",
    "num_powerplants = (len(locations.keys())) ## number of solar power plants\n",
    "pplat, pplong = zip(*locations.values())"
   ]
  },
  {
   "cell_type": "code",
   "execution_count": 60,
   "id": "b62f11bb",
   "metadata": {},
   "outputs": [],
   "source": [
    "# generate choices for microgrid locations\n",
    "num_microgrids = 20 ## number of microgrids\n",
    "random_lat = np.random.uniform(min(lat), max(lat), size=4*num_microgrids)\n",
    "lat_choices = np.random.choice(random_lat, size=num_microgrids, replace=False)\n",
    "\n",
    "random_long = np.random.uniform(min(long), max(long), size=4*num_microgrids)\n",
    "long_choices = np.random.choice(random_long, size=num_microgrids, replace=False)"
   ]
  },
  {
   "cell_type": "code",
   "execution_count": 61,
   "id": "f35de64e",
   "metadata": {},
   "outputs": [
    {
     "data": {
      "image/png": "[encoded data removed]",
      "text/plain": [
       "<Figure size 640x480 with 1 Axes>"
      ]
     },
     "metadata": {},
     "output_type": "display_data"
    }
   ],
   "source": [
    "# Visualize Graph\n",
    "fig, ax = plt.subplots()\n",
    "ax.plot(long, lat, 'o', markersize=5, color='blue')\n",
    "ax.plot(long_choices, lat_choices, 'o', markersize=5, color='red')\n",
    "plt.title(\"Solar Panel Proximity Graph\")\n",
    "plt.show()"
   ]
  },
  {
   "cell_type": "code",
   "execution_count": 62,
   "id": "f497bf6e",
   "metadata": {},
   "outputs": [
    {
     "data": {
      "text/plain": [
       "array([30.77906032,  8.87341403, 20.96680415, 25.50581089, 22.99230405,\n",
       "       30.6533552 , 57.11798799, 59.85663042, 59.84864344, 49.53183255,\n",
       "       49.41821052, 50.60528771, 62.01016178, 66.50248996, 66.22227266,\n",
       "       68.4518865 , 76.27376281, 77.59080323, 78.57773404, 68.19944837])"
      ]
     },
     "execution_count": 62,
     "metadata": {},
     "output_type": "execute_result"
    }
   ],
   "source": [
    "i=0\n",
    "mgpp_distance = calculate_distance_mgpp(lat_choices[i], long_choices[i],pplat, pplong)\n",
    "mgpp_distance"
   ]
  },
  {
   "cell_type": "code",
   "execution_count": 63,
   "id": "8c897fa5",
   "metadata": {},
   "outputs": [
    {
     "data": {
      "text/plain": [
       "array([[ 0.        , 44.87712962, 37.102229  , 49.26824463, 42.19636467,\n",
       "        45.44890888, 53.73732028, 58.55306216, 59.46786112, 43.65621193,\n",
       "        57.37261388, 80.79909097,  8.65934964, 52.75895018, 61.36888012,\n",
       "        26.97304766, 73.47489866, 34.4949735 , 56.37548283, 67.56949626],\n",
       "       [ 0.        ,  0.        , 66.0381127 , 24.22453155, 16.85033334,\n",
       "        18.44200406, 28.88209316, 28.57353777, 14.73684339, 60.26300108,\n",
       "        18.55566991, 42.88198852, 37.28283453, 25.83021126, 75.07227759,\n",
       "        18.37979896, 73.74650185, 70.67537711, 53.43686001, 23.5595534 ],\n",
       "       [ 0.        ,  0.        ,  0.        , 80.29148962, 53.65643244,\n",
       "        55.26410152, 56.51880512, 62.82737539, 77.64586042, 16.16801168,\n",
       "        83.39337536, 85.62794298, 43.46041567, 83.58818583, 28.68427517,\n",
       "        49.54847594, 47.69014036, 11.73445235, 39.60145971, 82.72275849],\n",
       "       [ 0.        ,  0.        ,  0.        ,  0.        , 40.16436078,\n",
       "        42.32657932, 53.07915961, 52.63959511, 31.2291184 , 78.48637758,\n",
       "        15.13711759, 63.47873842, 40.62751417,  3.49120292, 94.9645273 ,\n",
       "        31.78038141, 96.55420097, 81.79327729, 76.05565803, 40.03150665],\n",
       "       [ 0.        ,  0.        ,  0.        ,  0.        ,  0.        ,\n",
       "         3.45170246, 14.445536  , 17.24213879, 24.35808992, 45.34838481,\n",
       "        35.1396404 , 38.60474653, 36.96346749, 42.20738477, 58.97634869,\n",
       "        17.64406704, 56.90851134, 60.33659749, 36.58808141, 29.15049547],\n",
       "       [ 0.        ,  0.        ,  0.        ,  0.        ,  0.        ,\n",
       "         0.        , 11.32487724, 13.79194586, 23.75352342, 46.07194547,\n",
       "        36.18591198, 35.37017598, 40.36420512, 44.17993328, 58.9040133 ,\n",
       "        21.09101017, 55.5457483 , 62.42167781, 35.47317485, 27.50216616],\n",
       "       [ 0.        ,  0.        ,  0.        ,  0.        ,  0.        ,\n",
       "         0.        ,  0.        ,  6.31766727, 30.01529913, 44.58564419,\n",
       "        45.35339404, 29.43454555, 49.75581034, 54.68822133, 54.45042828,\n",
       "        31.65830854, 47.3680646 , 65.27811792, 28.60346726, 30.35635292],\n",
       "       [ 0.        ,  0.        ,  0.        ,  0.        ,  0.        ,\n",
       "         0.        ,  0.        ,  0.        , 26.59723696, 50.83155892,\n",
       "        43.31504894, 23.34638846, 53.95565547, 53.87457412, 60.16395115,\n",
       "        34.88202256, 51.61424907, 71.49717853, 33.82651071, 25.37515734],\n",
       "       [ 0.        ,  0.        ,  0.        ,  0.        ,  0.        ,\n",
       "         0.        ,  0.        ,  0.        ,  0.        , 69.66518375,\n",
       "        18.22770781, 32.28116569, 52.00027615, 31.21152568, 82.57860298,\n",
       "        32.65000355, 77.3772753 , 83.44967416, 58.15894567,  9.39296994],\n",
       "       [ 0.        ,  0.        ,  0.        ,  0.        ,  0.        ,\n",
       "         0.        ,  0.        ,  0.        ,  0.        ,  0.        ,\n",
       "        78.61740454, 72.59865303, 47.5461648 , 81.49153972, 17.88194182,\n",
       "        46.70619808, 32.53649596, 27.81920756, 23.72114559, 73.24523041],\n",
       "       [ 0.        ,  0.        ,  0.        ,  0.        ,  0.        ,\n",
       "         0.        ,  0.        ,  0.        ,  0.        ,  0.        ,\n",
       "         0.        , 50.10571472, 48.88050455, 13.9517514 , 93.62515204,\n",
       "        34.01939664, 91.72549539, 86.90523779, 71.61449232, 25.9838488 ],\n",
       "       [ 0.        ,  0.        ,  0.        ,  0.        ,  0.        ,\n",
       "         0.        ,  0.        ,  0.        ,  0.        ,  0.        ,\n",
       "         0.        ,  0.        , 75.3243247 , 63.47377032, 79.1983656 ,\n",
       "        55.2939033 , 65.72442021, 94.68219228, 52.29767939, 24.27539095],\n",
       "       [ 0.        ,  0.        ,  0.        ,  0.        ,  0.        ,\n",
       "         0.        ,  0.        ,  0.        ,  0.        ,  0.        ,\n",
       "         0.        ,  0.        ,  0.        , 44.1172556 , 65.42782496,\n",
       "        20.2433258 , 75.2467345 , 42.29444319, 56.80227808, 60.44831637],\n",
       "       [ 0.        ,  0.        ,  0.        ,  0.        ,  0.        ,\n",
       "         0.        ,  0.        ,  0.        ,  0.        ,  0.        ,\n",
       "         0.        ,  0.        ,  0.        ,  0.        , 97.8157513 ,\n",
       "        34.81707605, 98.87433145, 85.21855915, 78.39903548, 39.64734755],\n",
       "       [ 0.        ,  0.        ,  0.        ,  0.        ,  0.        ,\n",
       "         0.        ,  0.        ,  0.        ,  0.        ,  0.        ,\n",
       "         0.        ,  0.        ,  0.        ,  0.        ,  0.        ,\n",
       "        63.34922883, 22.18728859, 39.5973253 , 26.93192961, 84.64076743],\n",
       "       [ 0.        ,  0.        ,  0.        ,  0.        ,  0.        ,\n",
       "         0.        ,  0.        ,  0.        ,  0.        ,  0.        ,\n",
       "         0.        ,  0.        ,  0.        ,  0.        ,  0.        ,\n",
       "         0.        , 67.06215482, 52.96605286, 46.79516046, 40.59688532],\n",
       "       [ 0.        ,  0.        ,  0.        ,  0.        ,  0.        ,\n",
       "         0.        ,  0.        ,  0.        ,  0.        ,  0.        ,\n",
       "         0.        ,  0.        ,  0.        ,  0.        ,  0.        ,\n",
       "         0.        ,  0.        , 59.33910528, 20.50394329, 76.96664814],\n",
       "       [ 0.        ,  0.        ,  0.        ,  0.        ,  0.        ,\n",
       "         0.        ,  0.        ,  0.        ,  0.        ,  0.        ,\n",
       "         0.        ,  0.        ,  0.        ,  0.        ,  0.        ,\n",
       "         0.        ,  0.        ,  0.        , 50.92398786, 89.43131102],\n",
       "       [ 0.        ,  0.        ,  0.        ,  0.        ,  0.        ,\n",
       "         0.        ,  0.        ,  0.        ,  0.        ,  0.        ,\n",
       "         0.        ,  0.        ,  0.        ,  0.        ,  0.        ,\n",
       "         0.        ,  0.        ,  0.        ,  0.        , 58.93197589],\n",
       "       [ 0.        ,  0.        ,  0.        ,  0.        ,  0.        ,\n",
       "         0.        ,  0.        ,  0.        ,  0.        ,  0.        ,\n",
       "         0.        ,  0.        ,  0.        ,  0.        ,  0.        ,\n",
       "         0.        ,  0.        ,  0.        ,  0.        ,  0.        ]])"
      ]
     },
     "execution_count": 63,
     "metadata": {},
     "output_type": "execute_result"
    }
   ],
   "source": [
    "mgmg_distance = calculate_distance_mgmg(lat_choices, long_choices)\n",
    "mgmg_distance"
   ]
  },
  {
   "cell_type": "code",
   "execution_count": null,
   "id": "e36163ad",
   "metadata": {},
   "outputs": [],
   "source": []
  }
 ],
 "metadata": {
  "kernelspec": {
   "display_name": "Python 3",
   "language": "python",
   "name": "python3"
  },
  "language_info": {
   "codemirror_mode": {
    "name": "ipython",
    "version": 3
   },
   "file_extension": ".py",
   "mimetype": "text/x-python",
   "name": "python",
   "nbconvert_exporter": "python",
   "pygments_lexer": "ipython3",
   "version": "3.11.1"
  }
 },
 "nbformat": 4,
 "nbformat_minor": 5
}
