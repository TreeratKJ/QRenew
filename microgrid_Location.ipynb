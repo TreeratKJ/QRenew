{
 "cells": [
  {
   "cell_type": "code",
   "execution_count": 1,
   "id": "32054105",
   "metadata": {},
   "outputs": [],
   "source": [
    "import os\n",
    "import sys\n",
    "from pathlib import Path\n",
    "path = str(Path(os.getcwd()))\n",
    "sys.path.insert(1, path+'/amazon-braket-community-detection/src')"
   ]
  },
  {
   "cell_type": "code",
   "execution_count": 2,
   "id": "81ccca0c",
   "metadata": {},
   "outputs": [
    {
     "data": {
      "text/html": [
       "<div>\n",
       "<style scoped>\n",
       "    .dataframe tbody tr th:only-of-type {\n",
       "        vertical-align: middle;\n",
       "    }\n",
       "\n",
       "    .dataframe tbody tr th {\n",
       "        vertical-align: top;\n",
       "    }\n",
       "\n",
       "    .dataframe thead th {\n",
       "        text-align: right;\n",
       "    }\n",
       "</style>\n",
       "<table border=\"1\" class=\"dataframe\">\n",
       "  <thead>\n",
       "    <tr style=\"text-align: right;\">\n",
       "      <th></th>\n",
       "      <th>WKT</th>\n",
       "      <th>Index</th>\n",
       "      <th>latitude</th>\n",
       "      <th>longitude</th>\n",
       "      <th>name</th>\n",
       "      <th>capacity(MW)</th>\n",
       "      <th>year PV energy production</th>\n",
       "      <th>Price(0.057/kWh)(USD)</th>\n",
       "      <th>Num. Solar panel</th>\n",
       "      <th>Total price</th>\n",
       "    </tr>\n",
       "  </thead>\n",
       "  <tbody>\n",
       "    <tr>\n",
       "      <th>0</th>\n",
       "      <td>POINT (100.1995973 13.5797688)</td>\n",
       "      <td>1</td>\n",
       "      <td>13.579769</td>\n",
       "      <td>100.199597</td>\n",
       "      <td>Samut Sakhon</td>\n",
       "      <td>5.0</td>\n",
       "      <td>1408.14</td>\n",
       "      <td>80.26398</td>\n",
       "      <td>10000</td>\n",
       "      <td>802639.800</td>\n",
       "    </tr>\n",
       "    <tr>\n",
       "      <th>1</th>\n",
       "      <td>POINT (100.4800113 13.7131258)</td>\n",
       "      <td>2</td>\n",
       "      <td>13.713126</td>\n",
       "      <td>100.480011</td>\n",
       "      <td>The Mall - Tha Phra</td>\n",
       "      <td>1.0</td>\n",
       "      <td>1408.99</td>\n",
       "      <td>80.31243</td>\n",
       "      <td>2000</td>\n",
       "      <td>160624.860</td>\n",
       "    </tr>\n",
       "    <tr>\n",
       "      <th>2</th>\n",
       "      <td>POINT (100.4474445 13.8199492)</td>\n",
       "      <td>3</td>\n",
       "      <td>13.819949</td>\n",
       "      <td>100.447445</td>\n",
       "      <td>Ratchaphruek</td>\n",
       "      <td>1.0</td>\n",
       "      <td>1390.08</td>\n",
       "      <td>79.23456</td>\n",
       "      <td>2000</td>\n",
       "      <td>158469.120</td>\n",
       "    </tr>\n",
       "    <tr>\n",
       "      <th>3</th>\n",
       "      <td>POINT (100.5417601 13.8550947)</td>\n",
       "      <td>4</td>\n",
       "      <td>13.855095</td>\n",
       "      <td>100.541760</td>\n",
       "      <td>The Mall - Ngamwongwan</td>\n",
       "      <td>1.0</td>\n",
       "      <td>1385.64</td>\n",
       "      <td>78.98148</td>\n",
       "      <td>2000</td>\n",
       "      <td>157962.960</td>\n",
       "    </tr>\n",
       "    <tr>\n",
       "      <th>4</th>\n",
       "      <td>POINT (100.6421705 13.7658514)</td>\n",
       "      <td>5</td>\n",
       "      <td>13.765851</td>\n",
       "      <td>100.642171</td>\n",
       "      <td>The Mall - Bangkapi</td>\n",
       "      <td>1.0</td>\n",
       "      <td>1385.64</td>\n",
       "      <td>78.98148</td>\n",
       "      <td>2000</td>\n",
       "      <td>157962.960</td>\n",
       "    </tr>\n",
       "    <tr>\n",
       "      <th>5</th>\n",
       "      <td>POINT (100.6798205 13.8282182)</td>\n",
       "      <td>6</td>\n",
       "      <td>13.828218</td>\n",
       "      <td>100.679821</td>\n",
       "      <td>Akekamai-Ramintra</td>\n",
       "      <td>1.0</td>\n",
       "      <td>1385.15</td>\n",
       "      <td>78.95355</td>\n",
       "      <td>2000</td>\n",
       "      <td>157907.100</td>\n",
       "    </tr>\n",
       "    <tr>\n",
       "      <th>6</th>\n",
       "      <td>POINT (101.0033703 13.5759609)</td>\n",
       "      <td>7</td>\n",
       "      <td>13.575961</td>\n",
       "      <td>101.003370</td>\n",
       "      <td>Chachoengsao</td>\n",
       "      <td>1.3</td>\n",
       "      <td>1353.26</td>\n",
       "      <td>77.13582</td>\n",
       "      <td>2600</td>\n",
       "      <td>200553.132</td>\n",
       "    </tr>\n",
       "    <tr>\n",
       "      <th>7</th>\n",
       "      <td>POINT (100.5528226 14.1690859)</td>\n",
       "      <td>8</td>\n",
       "      <td>14.169086</td>\n",
       "      <td>100.552823</td>\n",
       "      <td>Bangchak</td>\n",
       "      <td>16.0</td>\n",
       "      <td>1371.40</td>\n",
       "      <td>78.16980</td>\n",
       "      <td>32000</td>\n",
       "      <td>2501433.600</td>\n",
       "    </tr>\n",
       "    <tr>\n",
       "      <th>8</th>\n",
       "      <td>POINT (100.5530586 14.1689819)</td>\n",
       "      <td>9</td>\n",
       "      <td>14.168982</td>\n",
       "      <td>100.553059</td>\n",
       "      <td>Bangchak III</td>\n",
       "      <td>25.0</td>\n",
       "      <td>1371.40</td>\n",
       "      <td>78.16980</td>\n",
       "      <td>50000</td>\n",
       "      <td>3908490.000</td>\n",
       "    </tr>\n",
       "    <tr>\n",
       "      <th>9</th>\n",
       "      <td>POINT (100.1837652 13.9754302)</td>\n",
       "      <td>10</td>\n",
       "      <td>13.975430</td>\n",
       "      <td>100.183765</td>\n",
       "      <td>Sai Thong</td>\n",
       "      <td>6.1</td>\n",
       "      <td>1378.22</td>\n",
       "      <td>78.55854</td>\n",
       "      <td>12200</td>\n",
       "      <td>958414.188</td>\n",
       "    </tr>\n",
       "    <tr>\n",
       "      <th>10</th>\n",
       "      <td>POINT (100.1962857 13.9840662)</td>\n",
       "      <td>11</td>\n",
       "      <td>13.984066</td>\n",
       "      <td>100.196286</td>\n",
       "      <td>Sai Yoi</td>\n",
       "      <td>3.0</td>\n",
       "      <td>1378.35</td>\n",
       "      <td>78.56595</td>\n",
       "      <td>6000</td>\n",
       "      <td>471395.700</td>\n",
       "    </tr>\n",
       "    <tr>\n",
       "      <th>11</th>\n",
       "      <td>POINT (100.200201 14.0004893)</td>\n",
       "      <td>12</td>\n",
       "      <td>14.000489</td>\n",
       "      <td>100.200201</td>\n",
       "      <td>Sai Prapa</td>\n",
       "      <td>7.2</td>\n",
       "      <td>1378.58</td>\n",
       "      <td>78.57906</td>\n",
       "      <td>14400</td>\n",
       "      <td>1131538.464</td>\n",
       "    </tr>\n",
       "    <tr>\n",
       "      <th>12</th>\n",
       "      <td>POINT (100.1737777 14.1076288)</td>\n",
       "      <td>13</td>\n",
       "      <td>14.107629</td>\n",
       "      <td>100.173778</td>\n",
       "      <td>Sai Phet</td>\n",
       "      <td>35.9</td>\n",
       "      <td>1378.08</td>\n",
       "      <td>78.55056</td>\n",
       "      <td>71800</td>\n",
       "      <td>5639930.208</td>\n",
       "    </tr>\n",
       "    <tr>\n",
       "      <th>13</th>\n",
       "      <td>POINT (100.1432434 14.1367617)</td>\n",
       "      <td>14</td>\n",
       "      <td>14.136762</td>\n",
       "      <td>100.143243</td>\n",
       "      <td>Sai Yai - Solarco</td>\n",
       "      <td>23.8</td>\n",
       "      <td>1377.98</td>\n",
       "      <td>78.54486</td>\n",
       "      <td>47600</td>\n",
       "      <td>3738735.336</td>\n",
       "    </tr>\n",
       "    <tr>\n",
       "      <th>14</th>\n",
       "      <td>POINT (100.1506249 14.1383847)</td>\n",
       "      <td>15</td>\n",
       "      <td>14.138385</td>\n",
       "      <td>100.150625</td>\n",
       "      <td>Sai Yai - Solarta</td>\n",
       "      <td>9.7</td>\n",
       "      <td>1377.99</td>\n",
       "      <td>78.54543</td>\n",
       "      <td>19400</td>\n",
       "      <td>1523781.342</td>\n",
       "    </tr>\n",
       "    <tr>\n",
       "      <th>15</th>\n",
       "      <td>POINT (100.1377288 14.1542604)</td>\n",
       "      <td>16</td>\n",
       "      <td>14.154260</td>\n",
       "      <td>100.137729</td>\n",
       "      <td>Sai Kyo</td>\n",
       "      <td>11.9</td>\n",
       "      <td>1378.22</td>\n",
       "      <td>78.55854</td>\n",
       "      <td>23800</td>\n",
       "      <td>1869693.252</td>\n",
       "    </tr>\n",
       "    <tr>\n",
       "      <th>16</th>\n",
       "      <td>POINT (100.1128729 14.2224476)</td>\n",
       "      <td>17</td>\n",
       "      <td>14.222448</td>\n",
       "      <td>100.112873</td>\n",
       "      <td>Sai Saphan</td>\n",
       "      <td>7.0</td>\n",
       "      <td>1379.27</td>\n",
       "      <td>78.61839</td>\n",
       "      <td>14000</td>\n",
       "      <td>1100657.460</td>\n",
       "    </tr>\n",
       "    <tr>\n",
       "      <th>17</th>\n",
       "      <td>POINT (100.1275879 14.2446193)</td>\n",
       "      <td>18</td>\n",
       "      <td>14.244619</td>\n",
       "      <td>100.127588</td>\n",
       "      <td>Sai Tatong</td>\n",
       "      <td>1.0</td>\n",
       "      <td>1379.74</td>\n",
       "      <td>78.64518</td>\n",
       "      <td>2000</td>\n",
       "      <td>157290.360</td>\n",
       "    </tr>\n",
       "    <tr>\n",
       "      <th>18</th>\n",
       "      <td>POINT (100.3022163 14.3219005)</td>\n",
       "      <td>19</td>\n",
       "      <td>14.321900</td>\n",
       "      <td>100.302216</td>\n",
       "      <td>Bang Sai</td>\n",
       "      <td>1.7</td>\n",
       "      <td>1379.01</td>\n",
       "      <td>78.60357</td>\n",
       "      <td>3400</td>\n",
       "      <td>267252.138</td>\n",
       "    </tr>\n",
       "    <tr>\n",
       "      <th>19</th>\n",
       "      <td>POINT (100.2778664 14.2172742)</td>\n",
       "      <td>20</td>\n",
       "      <td>14.217274</td>\n",
       "      <td>100.277866</td>\n",
       "      <td>Sai Sena - Solarta</td>\n",
       "      <td>3.0</td>\n",
       "      <td>1380.06</td>\n",
       "      <td>78.66342</td>\n",
       "      <td>6000</td>\n",
       "      <td>471980.520</td>\n",
       "    </tr>\n",
       "  </tbody>\n",
       "</table>\n",
       "</div>"
      ],
      "text/plain": [
       "                               WKT  Index   latitude   longitude  \\\n",
       "0   POINT (100.1995973 13.5797688)      1  13.579769  100.199597   \n",
       "1   POINT (100.4800113 13.7131258)      2  13.713126  100.480011   \n",
       "2   POINT (100.4474445 13.8199492)      3  13.819949  100.447445   \n",
       "3   POINT (100.5417601 13.8550947)      4  13.855095  100.541760   \n",
       "4   POINT (100.6421705 13.7658514)      5  13.765851  100.642171   \n",
       "5   POINT (100.6798205 13.8282182)      6  13.828218  100.679821   \n",
       "6   POINT (101.0033703 13.5759609)      7  13.575961  101.003370   \n",
       "7   POINT (100.5528226 14.1690859)      8  14.169086  100.552823   \n",
       "8   POINT (100.5530586 14.1689819)      9  14.168982  100.553059   \n",
       "9   POINT (100.1837652 13.9754302)     10  13.975430  100.183765   \n",
       "10  POINT (100.1962857 13.9840662)     11  13.984066  100.196286   \n",
       "11   POINT (100.200201 14.0004893)     12  14.000489  100.200201   \n",
       "12  POINT (100.1737777 14.1076288)     13  14.107629  100.173778   \n",
       "13  POINT (100.1432434 14.1367617)     14  14.136762  100.143243   \n",
       "14  POINT (100.1506249 14.1383847)     15  14.138385  100.150625   \n",
       "15  POINT (100.1377288 14.1542604)     16  14.154260  100.137729   \n",
       "16  POINT (100.1128729 14.2224476)     17  14.222448  100.112873   \n",
       "17  POINT (100.1275879 14.2446193)     18  14.244619  100.127588   \n",
       "18  POINT (100.3022163 14.3219005)     19  14.321900  100.302216   \n",
       "19  POINT (100.2778664 14.2172742)     20  14.217274  100.277866   \n",
       "\n",
       "                      name  capacity(MW)  year PV energy production  \\\n",
       "0             Samut Sakhon           5.0                    1408.14   \n",
       "1      The Mall - Tha Phra           1.0                    1408.99   \n",
       "2             Ratchaphruek           1.0                    1390.08   \n",
       "3   The Mall - Ngamwongwan           1.0                    1385.64   \n",
       "4      The Mall - Bangkapi           1.0                    1385.64   \n",
       "5        Akekamai-Ramintra           1.0                    1385.15   \n",
       "6             Chachoengsao           1.3                    1353.26   \n",
       "7                 Bangchak          16.0                    1371.40   \n",
       "8             Bangchak III          25.0                    1371.40   \n",
       "9                Sai Thong           6.1                    1378.22   \n",
       "10                 Sai Yoi           3.0                    1378.35   \n",
       "11              Sai Prapa            7.2                    1378.58   \n",
       "12                Sai Phet          35.9                    1378.08   \n",
       "13       Sai Yai - Solarco          23.8                    1377.98   \n",
       "14       Sai Yai - Solarta           9.7                    1377.99   \n",
       "15                 Sai Kyo          11.9                    1378.22   \n",
       "16              Sai Saphan           7.0                    1379.27   \n",
       "17              Sai Tatong           1.0                    1379.74   \n",
       "18                Bang Sai           1.7                    1379.01   \n",
       "19      Sai Sena - Solarta           3.0                    1380.06   \n",
       "\n",
       "    Price(0.057/kWh)(USD)  Num. Solar panel  Total price  \n",
       "0                80.26398             10000   802639.800  \n",
       "1                80.31243              2000   160624.860  \n",
       "2                79.23456              2000   158469.120  \n",
       "3                78.98148              2000   157962.960  \n",
       "4                78.98148              2000   157962.960  \n",
       "5                78.95355              2000   157907.100  \n",
       "6                77.13582              2600   200553.132  \n",
       "7                78.16980             32000  2501433.600  \n",
       "8                78.16980             50000  3908490.000  \n",
       "9                78.55854             12200   958414.188  \n",
       "10               78.56595              6000   471395.700  \n",
       "11               78.57906             14400  1131538.464  \n",
       "12               78.55056             71800  5639930.208  \n",
       "13               78.54486             47600  3738735.336  \n",
       "14               78.54543             19400  1523781.342  \n",
       "15               78.55854             23800  1869693.252  \n",
       "16               78.61839             14000  1100657.460  \n",
       "17               78.64518              2000   157290.360  \n",
       "18               78.60357              3400   267252.138  \n",
       "19               78.66342              6000   471980.520  "
      ]
     },
     "execution_count": 2,
     "metadata": {},
     "output_type": "execute_result"
    }
   ],
   "source": [
    "# Required Libraries\n",
    "import numpy as np\n",
    "import matplotlib.pyplot as plt\n",
    "import pandas as pd\n",
    "from geopy.distance import geodesic\n",
    "import networkx as nx\n",
    "\n",
    "df = pd.read_csv(path+'/database/SolarPowerPlants_TH.csv', delimiter=',', skiprows=1)\n",
    "df"
   ]
  },
  {
   "cell_type": "code",
   "execution_count": 3,
   "id": "d70f7bb9",
   "metadata": {},
   "outputs": [],
   "source": [
    "ind = df['Index']\n",
    "name = df['name']\n",
    "lat = df['latitude']\n",
    "long = df['longitude']\n",
    "capacity = df['capacity(MW)']\n",
    "penetration = df['Total price']\n"
   ]
  },
  {
   "cell_type": "code",
   "execution_count": 4,
   "id": "b42db51f",
   "metadata": {},
   "outputs": [
    {
     "data": {
      "text/plain": [
       "{1: (13.5797688, 100.1995973),\n",
       " 2: (13.7131258, 100.4800113),\n",
       " 3: (13.8199492, 100.4474445),\n",
       " 4: (13.8550947, 100.5417601),\n",
       " 5: (13.7658514, 100.6421705),\n",
       " 6: (13.8282182, 100.6798205),\n",
       " 7: (13.5759609, 101.0033703),\n",
       " 8: (14.1690859, 100.5528226),\n",
       " 9: (14.1689819, 100.5530586),\n",
       " 10: (13.9754302, 100.1837652),\n",
       " 11: (13.9840662, 100.1962857),\n",
       " 12: (14.0004893, 100.200201),\n",
       " 13: (14.1076288, 100.1737777),\n",
       " 14: (14.1367617, 100.1432434),\n",
       " 15: (14.1383847, 100.1506249),\n",
       " 16: (14.1542604, 100.1377288),\n",
       " 17: (14.2224476, 100.1128729),\n",
       " 18: (14.2446193, 100.1275879),\n",
       " 19: (14.3219005, 100.3022163),\n",
       " 20: (14.2172742, 100.2778664)}"
      ]
     },
     "execution_count": 4,
     "metadata": {},
     "output_type": "execute_result"
    }
   ],
   "source": [
    "locations = {ind: (lat, long) for ind, lat, long in zip(ind, lat, long)}\n",
    "locations"
   ]
  },
  {
   "cell_type": "code",
   "execution_count": 5,
   "id": "ed6c3346",
   "metadata": {},
   "outputs": [
    {
     "data": {
      "text/plain": [
       "20"
      ]
     },
     "execution_count": 5,
     "metadata": {},
     "output_type": "execute_result"
    }
   ],
   "source": [
    "(len(locations.keys()))"
   ]
  },
  {
   "cell_type": "code",
   "execution_count": 6,
   "id": "b82fd62e",
   "metadata": {},
   "outputs": [],
   "source": [
    "\n",
    "# noconsumers = 10\n",
    "# c_energy = np.random.default_rng().normal(loc=np.average(capacity), scale=np.std(capacity)/2, size=noconsumers)\n",
    "# # c_energy = np.random.default_rng().integers(low=min(capacity), high=max(capacity), size=10)\n",
    "# c_energy"
   ]
  },
  {
   "cell_type": "code",
   "execution_count": 7,
   "id": "46624fa3",
   "metadata": {},
   "outputs": [],
   "source": [
    "def calculate_distance_mgpp(mglat, mglong, pplat, pplong):    \n",
    "    distance_matrix = np.zeros(len(pplat))\n",
    "    for i in range(len(pplat)):\n",
    "        distance_matrix[i] = geodesic((mglat, mglong), (pplat[i], pplong[i])).km\n",
    "    return distance_matrix\n"
   ]
  },
  {
   "cell_type": "code",
   "execution_count": 8,
   "id": "d2ace828",
   "metadata": {},
   "outputs": [],
   "source": [
    "def calculate_distance_mgmg(mglat, mglong):    \n",
    "    distance_matrix = np.zeros((len(mglat), len(mglat)))\n",
    "    for i in range(len(mglat)):\n",
    "        for j in range(len(mglat)):\n",
    "            if i < j:\n",
    "                distance_matrix[i][j] = geodesic((mglat[i], mglong[i]), (mglat[j], mglong[j])).km\n",
    "    return distance_matrix"
   ]
  },
  {
   "cell_type": "code",
   "execution_count": 9,
   "id": "ec9a3eff",
   "metadata": {},
   "outputs": [],
   "source": [
    "# def create_transmission_network(locations, distance_matrix, threshold=45):\n",
    "#     G = nx.Graph()\n",
    "#     for i, label_i in enumerate(locations.keys()):\n",
    "#         for j, label_j in enumerate(locations.keys()):\n",
    "#             if i < j:\n",
    "#                 if distance_matrix[i][j] < threshold: # Only add edge if distance is below threshold\n",
    "#                     G.add_edge(label_i, label_j)\n",
    "#     return G"
   ]
  },
  {
   "cell_type": "code",
   "execution_count": 10,
   "id": "af0857bc",
   "metadata": {},
   "outputs": [
    {
     "name": "stdout",
     "output_type": "stream",
     "text": [
      "<enumerate object at 0x7f8ca0ac7500>\n"
     ]
    }
   ],
   "source": [
    "print(enumerate(locations.keys()))"
   ]
  },
  {
   "cell_type": "code",
   "execution_count": 11,
   "id": "addae2cf",
   "metadata": {},
   "outputs": [],
   "source": [
    "# distance_matrix = calculate_distance_matrix(lat, long)\n",
    "\n",
    "# # Create Graph Based on Distance Threshold\n",
    "# G = create_transmission_network(locations, distance_matrix, threshold=45)\n",
    "\n",
    "# # Visualize Graph\n",
    "# fig, ax = plt.subplots()\n",
    "# pos = {label: (lon, lat) for label, (lat, lon) in locations.items()}\n",
    "# nx.draw(G, pos, ax=ax, node_size=100, node_color='blue')\n",
    "# # nx.draw(G, pos, ax=ax, node_size=800, with_labels=True)\n",
    "# # with_labels=True, node_color='lightblue', node_size=800)\n",
    "# plt.title(\"Solar Panel Proximity Graph\")\n",
    "# plt.show()"
   ]
  },
  {
   "cell_type": "code",
   "execution_count": 12,
   "id": "53351199",
   "metadata": {},
   "outputs": [],
   "source": [
    "# total_nodes = len(G.nodes(data=True))\n",
    "# total_edges = len(G.edges(data=True))"
   ]
  },
  {
   "cell_type": "code",
   "execution_count": 13,
   "id": "e280dc8c",
   "metadata": {},
   "outputs": [],
   "source": [
    "import scipy.sparse as sp\n",
    "from networkx.algorithms import community\n",
    "\n",
    "### create QUBO matrix\n",
    "# define the distance matrix\n",
    "num_powerplants = (len(locations.keys())) ## number of solar power plants\n",
    "pplat, pplong = zip(*locations.values())"
   ]
  },
  {
   "cell_type": "code",
   "execution_count": 14,
   "id": "b62f11bb",
   "metadata": {},
   "outputs": [],
   "source": [
    "# generate choices for microgrid locations\n",
    "num_microgrids = 20 ## number of microgrids\n",
    "random_lat = np.random.uniform(min(lat), max(lat), size=4*num_microgrids)\n",
    "lat_choices = np.random.choice(random_lat, size=num_microgrids, replace=False)\n",
    "\n",
    "random_long = np.random.uniform(min(long), max(long), size=4*num_microgrids)\n",
    "long_choices = np.random.choice(random_long, size=num_microgrids, replace=False)"
   ]
  },
  {
   "cell_type": "code",
   "execution_count": 15,
   "id": "f35de64e",
   "metadata": {},
   "outputs": [
    {
     "data": {
      "image/png": "[encoded data removed]",
      "text/plain": [
       "<Figure size 640x480 with 1 Axes>"
      ]
     },
     "metadata": {},
     "output_type": "display_data"
    }
   ],
   "source": [
    "# Visualize Graph\n",
    "fig, ax = plt.subplots()\n",
    "ax.plot(long, lat, 'o', markersize=5, color='blue')\n",
    "ax.plot(long_choices, lat_choices, 'o', markersize=5, color='red')\n",
    "plt.title(\"Solar Panel Proximity Graph\")\n",
    "plt.show()"
   ]
  },
  {
   "cell_type": "code",
   "execution_count": 16,
   "id": "f497bf6e",
   "metadata": {},
   "outputs": [
    {
     "data": {
      "text/plain": [
       "array([ 789.2451159 , 1394.93108211, 1646.69806745,  890.55269626,\n",
       "        901.00090642, 1064.61387242,  780.08740305,  776.70217915,\n",
       "       1080.97845346,  901.36228816,  821.11094693,  769.84309724,\n",
       "       1503.59240466, 1135.23952078,  776.96540929,  723.95655848,\n",
       "       1155.38693455,  800.74079488, 1110.12174161, 1084.44263687])"
      ]
     },
     "execution_count": 16,
     "metadata": {},
     "output_type": "execute_result"
    }
   ],
   "source": [
    "mgpp_distance = np.zeros(num_microgrids)\n",
    "for i in range(num_microgrids):\n",
    "    mgpp_distance[i] = np.sum(calculate_distance_mgpp(lat_choices[i], long_choices[i],pplat, pplong))\n",
    "mgpp_distance"
   ]
  },
  {
   "cell_type": "code",
   "execution_count": 17,
   "id": "8c897fa5",
   "metadata": {},
   "outputs": [
    {
     "data": {
      "text/plain": [
       "array([[ 0.        , 65.36146683, 63.91024961,  9.47214856, 12.56417087,\n",
       "        44.32404003, 35.24964793, 24.04265476, 31.2955177 , 13.4507046 ,\n",
       "        38.86199462, 17.23987613, 56.99648795, 49.00481862, 38.41483189,\n",
       "         7.96308459, 43.34841383, 40.16089761, 28.66790977, 21.88842785],\n",
       "       [ 0.        ,  0.        , 56.2608167 , 66.49566366, 77.60733126,\n",
       "        21.05759292, 41.27442863, 82.93650342, 96.65596337, 59.749091  ,\n",
       "        37.93769564, 78.0118133 , 48.22864842, 16.35914798, 42.94333742,\n",
       "        64.0620181 , 28.19478624, 40.86895533, 93.17520882, 79.60762573],\n",
       "       [ 0.        ,  0.        ,  0.        , 57.12330587, 70.0255695 ,\n",
       "        51.04119087, 70.68144089, 87.9445121 , 87.06432089, 50.63632689,\n",
       "        70.53384796, 81.11906223,  9.21519734, 51.17254327, 74.88999413,\n",
       "        69.17176872, 35.94707559, 74.39551468, 79.09740444, 60.85110048],\n",
       "       [ 0.        ,  0.        ,  0.        ,  0.        , 13.36016145,\n",
       "        45.92675083, 41.63977506, 31.63995625, 32.34656508,  7.53249235,\n",
       "        44.85385824, 24.85202511, 51.00536636, 50.40572669, 45.27706103,\n",
       "        17.36826446, 41.69621599, 46.74642316, 27.01260081, 14.59465068],\n",
       "       [ 0.        ,  0.        ,  0.        ,  0.        ,  0.        ,\n",
       "        56.63199953, 47.24640673, 21.68459807, 19.40326543, 20.78930725,\n",
       "        51.00242897, 15.82500508, 64.22396913, 61.27906234, 50.0928187 ,\n",
       "        17.66298673, 54.30358825, 51.99166782, 16.12844259, 15.15597025],\n",
       "       [ 0.        ,  0.        ,  0.        ,  0.        ,  0.        ,\n",
       "         0.        , 24.35238611, 62.37037014, 75.61290027, 39.55280956,\n",
       "        22.34940575, 57.19033064, 41.86904986,  4.7144312 , 27.51011727,\n",
       "        43.1187259 , 15.27842782, 26.14249537, 72.3298241 , 59.55534571],\n",
       "       [ 0.        ,  0.        ,  0.        ,  0.        ,  0.        ,\n",
       "         0.        ,  0.        , 44.69323858, 63.51722387, 38.60687844,\n",
       "         4.08458923, 41.36193246, 61.58947681, 27.87248127,  4.40832777,\n",
       "        29.91651792, 35.96149623,  5.15768083, 63.18962312, 56.13422682],\n",
       "       [ 0.        ,  0.        ,  0.        ,  0.        ,  0.        ,\n",
       "         0.        ,  0.        ,  0.        , 23.98007851, 37.36092219,\n",
       "        48.77266816,  6.84358272, 80.99772546, 67.01584281, 45.74722131,\n",
       "        20.2798007 , 65.17958362, 48.08247341, 29.19829281, 36.73919169],\n",
       "       [ 0.        ,  0.        ,  0.        ,  0.        ,  0.        ,\n",
       "         0.        ,  0.        ,  0.        ,  0.        , 39.8784124 ,\n",
       "        67.50308895, 23.29588031, 82.09894898, 80.29822287, 65.64494922,\n",
       "        33.89582005, 73.6999315 , 67.79028166,  9.41502301, 26.65113612],\n",
       "       [ 0.        ,  0.        ,  0.        ,  0.        ,  0.        ,\n",
       "         0.        ,  0.        ,  0.        ,  0.        ,  0.        ,\n",
       "        41.36761251, 30.52101289, 44.06967613, 43.88697589, 42.60631226,\n",
       "        20.02487099, 34.31122299, 43.76336101, 34.36340686, 20.00443024],\n",
       "       [ 0.        ,  0.        ,  0.        ,  0.        ,  0.        ,\n",
       "         0.        ,  0.        ,  0.        ,  0.        ,  0.        ,\n",
       "         0.        , 45.43257621, 61.36634085, 25.4074463 ,  5.22840184,\n",
       "        33.80703259, 35.17427308,  3.91001999, 67.00581218, 59.41511711],\n",
       "       [ 0.        ,  0.        ,  0.        ,  0.        ,  0.        ,\n",
       "         0.        ,  0.        ,  0.        ,  0.        ,  0.        ,\n",
       "         0.        ,  0.        , 74.22900757, 61.88182195, 43.00501754,\n",
       "        14.27295495, 59.058147  , 45.24872765, 26.3362119 , 30.97467348],\n",
       "       [ 0.        ,  0.        ,  0.        ,  0.        ,  0.        ,\n",
       "         0.        ,  0.        ,  0.        ,  0.        ,  0.        ,\n",
       "         0.        ,  0.        ,  0.        , 42.13814149, 65.76991302,\n",
       "        61.68984127, 26.73834667, 65.23644303, 74.66324075, 56.59790151],\n",
       "       [ 0.        ,  0.        ,  0.        ,  0.        ,  0.        ,\n",
       "         0.        ,  0.        ,  0.        ,  0.        ,  0.        ,\n",
       "         0.        ,  0.        ,  0.        ,  0.        , 30.63412893,\n",
       "        47.82683342, 16.48502877, 29.02662075, 76.92355709, 63.86549674],\n",
       "       [ 0.        ,  0.        ,  0.        ,  0.        ,  0.        ,\n",
       "         0.        ,  0.        ,  0.        ,  0.        ,  0.        ,\n",
       "         0.        ,  0.        ,  0.        ,  0.        ,  0.        ,\n",
       "        32.52830799, 39.89318021,  2.38964824, 65.85641677, 59.66518365],\n",
       "       [ 0.        ,  0.        ,  0.        ,  0.        ,  0.        ,\n",
       "         0.        ,  0.        ,  0.        ,  0.        ,  0.        ,\n",
       "         0.        ,  0.        ,  0.        ,  0.        ,  0.        ,\n",
       "         0.        , 44.91120093, 34.50032262, 33.33375322, 29.46809911],\n",
       "       [ 0.        ,  0.        ,  0.        ,  0.        ,  0.        ,\n",
       "         0.        ,  0.        ,  0.        ,  0.        ,  0.        ,\n",
       "         0.        ,  0.        ,  0.        ,  0.        ,  0.        ,\n",
       "         0.        ,  0.        , 39.08252739, 68.66965531, 53.26335656],\n",
       "       [ 0.        ,  0.        ,  0.        ,  0.        ,  0.        ,\n",
       "         0.        ,  0.        ,  0.        ,  0.        ,  0.        ,\n",
       "         0.        ,  0.        ,  0.        ,  0.        ,  0.        ,\n",
       "         0.        ,  0.        ,  0.        , 67.8323893 , 61.21164745],\n",
       "       [ 0.        ,  0.        ,  0.        ,  0.        ,  0.        ,\n",
       "         0.        ,  0.        ,  0.        ,  0.        ,  0.        ,\n",
       "         0.        ,  0.        ,  0.        ,  0.        ,  0.        ,\n",
       "         0.        ,  0.        ,  0.        ,  0.        , 18.2505115 ],\n",
       "       [ 0.        ,  0.        ,  0.        ,  0.        ,  0.        ,\n",
       "         0.        ,  0.        ,  0.        ,  0.        ,  0.        ,\n",
       "         0.        ,  0.        ,  0.        ,  0.        ,  0.        ,\n",
       "         0.        ,  0.        ,  0.        ,  0.        ,  0.        ]])"
      ]
     },
     "execution_count": 17,
     "metadata": {},
     "output_type": "execute_result"
    }
   ],
   "source": [
    "mgmg_distance = calculate_distance_mgmg(lat_choices, long_choices)\n",
    "mgmg_distance"
   ]
  },
  {
   "cell_type": "code",
   "execution_count": 18,
   "id": "e36163ad",
   "metadata": {},
   "outputs": [],
   "source": [
    "costCoeff = 10000\n",
    "mgpp_cost = mgpp_distance * costCoeff\n",
    "mgmg_cost = mgmg_distance * costCoeff\n",
    "\n",
    "battery_cost = 38000  # Example fixed cost for battery and inverter installation\n",
    "solar_cost = 15000  # Example fixed cost for solar panel installation\n",
    "fixedCost = battery_cost + solar_cost"
   ]
  },
  {
   "cell_type": "code",
   "execution_count": 19,
   "id": "469e151b",
   "metadata": {},
   "outputs": [
    {
     "data": {
      "text/plain": [
       "array([ 802639.8  ,  160624.86 ,  158469.12 ,  157962.96 ,  157962.96 ,\n",
       "        157907.1  ,  200553.132, 2501433.6  , 3908490.   ,  958414.188,\n",
       "        471395.7  , 1131538.464, 5639930.208, 3738735.336, 1523781.342,\n",
       "       1869693.252, 1100657.46 ,  157290.36 ,  267252.138,  471980.52 ])"
      ]
     },
     "execution_count": 19,
     "metadata": {},
     "output_type": "execute_result"
    }
   ],
   "source": [
    "np.array(penetration)"
   ]
  },
  {
   "cell_type": "code",
   "execution_count": null,
   "id": "9c449e29",
   "metadata": {},
   "outputs": [],
   "source": []
  },
  {
   "cell_type": "code",
   "execution_count": 20,
   "id": "f711ae59",
   "metadata": {},
   "outputs": [],
   "source": [
    "### QUBO matrix\n",
    "term1 = (fixedCost*np.ones((1, num_microgrids))) + np.array(penetration) - mgpp_cost\n",
    "linearTerm = np.zeros((num_microgrids, num_microgrids))\n",
    "for i in range(num_microgrids):\n",
    "    linearTerm[i,i] = term1[0,i]\n",
    "quandTerm = mgmg_cost\n",
    "qubo_matrix = linearTerm + quandTerm"
   ]
  },
  {
   "cell_type": "code",
   "execution_count": 21,
   "id": "e7a9eb7c",
   "metadata": {},
   "outputs": [],
   "source": [
    "from autoqubo import SamplingCompiler, Utils\n",
    "import timeit"
   ]
  },
  {
   "cell_type": "code",
   "execution_count": 32,
   "id": "2ac0afa7",
   "metadata": {},
   "outputs": [
    {
     "name": "stdout",
     "output_type": "stream",
     "text": [
      "Time:  0.04560725000000332\n"
     ]
    }
   ],
   "source": [
    "start = timeit.default_timer()\n",
    "\n",
    "solutions, energy_values = Utils.solve(qubo_matrix)\n",
    "\n",
    "stop = timeit.default_timer()\n",
    "print('Time: ', stop - start)"
   ]
  },
  {
   "cell_type": "code",
   "execution_count": 27,
   "id": "d057e81c",
   "metadata": {},
   "outputs": [
    {
     "name": "stdout",
     "output_type": "stream",
     "text": [
      "x=[1, 1, 1, 1, 1, 1, 1, 0, 0, 1, 1, 0, 1, 1, 1, 0, 1, 1, 1, 1], energy=-98960594.88893345\n"
     ]
    }
   ],
   "source": [
    "for s, e in zip(solutions, energy_values):\n",
    "    print(f\"x={s}, energy={e}\")"
   ]
  },
  {
   "cell_type": "code",
   "execution_count": 24,
   "id": "8a01cd55",
   "metadata": {},
   "outputs": [
    {
     "data": {
      "text/plain": [
       "16"
      ]
     },
     "execution_count": 24,
     "metadata": {},
     "output_type": "execute_result"
    }
   ],
   "source": [
    "sum(solutions[0])"
   ]
  },
  {
   "cell_type": "code",
   "execution_count": 33,
   "id": "2383a273",
   "metadata": {},
   "outputs": [
    {
     "name": "stdout",
     "output_type": "stream",
     "text": [
      "New QUBO solution found with objective 0.0\n",
      "New QUBO solution found with objective -91097337.52583191\n",
      "New QUBO solution found with objective -98960594.88893348\n",
      "Time:  0.056943749999994964\n"
     ]
    }
   ],
   "source": [
    "from gurobi_optimods.qubo import solve_qubo\n",
    "\n",
    "\n",
    "start = timeit.default_timer()\n",
    " \n",
    "result = solve_qubo(qubo_matrix)\n",
    "\n",
    "stop = timeit.default_timer()\n",
    "print('Time: ', stop - start)"
   ]
  },
  {
   "cell_type": "code",
   "execution_count": null,
   "id": "506c4699",
   "metadata": {},
   "outputs": [],
   "source": []
  }
 ],
 "metadata": {
  "kernelspec": {
   "display_name": "base",
   "language": "python",
   "name": "python3"
  },
  "language_info": {
   "codemirror_mode": {
    "name": "ipython",
    "version": 3
   },
   "file_extension": ".py",
   "mimetype": "text/x-python",
   "name": "python",
   "nbconvert_exporter": "python",
   "pygments_lexer": "ipython3",
   "version": "3.8.8"
  }
 },
 "nbformat": 4,
 "nbformat_minor": 5
}
