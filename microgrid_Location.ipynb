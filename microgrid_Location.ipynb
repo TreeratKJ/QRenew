{
 "cells": [
  {
   "cell_type": "code",
   "execution_count": 1,
   "id": "32054105",
   "metadata": {},
   "outputs": [],
   "source": [
    "import os\n",
    "import sys\n",
    "from pathlib import Path\n",
    "path = str(Path(os.getcwd()))\n",
    "# sys.path.insert(1, path+'/amazon-braket-community-detection/src')"
   ]
  },
  {
   "cell_type": "code",
   "execution_count": 2,
   "id": "81ccca0c",
   "metadata": {},
   "outputs": [
    {
     "data": {
      "text/html": [
       "<div>\n",
       "<style scoped>\n",
       "    .dataframe tbody tr th:only-of-type {\n",
       "        vertical-align: middle;\n",
       "    }\n",
       "\n",
       "    .dataframe tbody tr th {\n",
       "        vertical-align: top;\n",
       "    }\n",
       "\n",
       "    .dataframe thead th {\n",
       "        text-align: right;\n",
       "    }\n",
       "</style>\n",
       "<table border=\"1\" class=\"dataframe\">\n",
       "  <thead>\n",
       "    <tr style=\"text-align: right;\">\n",
       "      <th></th>\n",
       "      <th>Number</th>\n",
       "      <th>name</th>\n",
       "      <th>capacity(MW)</th>\n",
       "      <th>latitude</th>\n",
       "      <th>longitude</th>\n",
       "      <th>primary_fuel</th>\n",
       "      <th>estimated_generation_gwh</th>\n",
       "      <th>Estimated cost for 1 year</th>\n",
       "    </tr>\n",
       "  </thead>\n",
       "  <tbody>\n",
       "    <tr>\n",
       "      <th>0</th>\n",
       "      <td>1</td>\n",
       "      <td>Bukit Palong Solar Power Plant</td>\n",
       "      <td>3.0</td>\n",
       "      <td>2.5823</td>\n",
       "      <td>101.8313</td>\n",
       "      <td>Solar</td>\n",
       "      <td>2.419183</td>\n",
       "      <td>2.935532e+05</td>\n",
       "    </tr>\n",
       "    <tr>\n",
       "      <th>1</th>\n",
       "      <td>2</td>\n",
       "      <td>Gebeng Solar Power Plant</td>\n",
       "      <td>10.0</td>\n",
       "      <td>3.9924</td>\n",
       "      <td>103.3682</td>\n",
       "      <td>Solar</td>\n",
       "      <td>8.063943</td>\n",
       "      <td>9.785106e+05</td>\n",
       "    </tr>\n",
       "    <tr>\n",
       "      <th>2</th>\n",
       "      <td>3</td>\n",
       "      <td>Gemas Solar Power Plant</td>\n",
       "      <td>10.2</td>\n",
       "      <td>2.5956</td>\n",
       "      <td>102.6216</td>\n",
       "      <td>Solar</td>\n",
       "      <td>8.225222</td>\n",
       "      <td>9.980809e+05</td>\n",
       "    </tr>\n",
       "    <tr>\n",
       "      <th>3</th>\n",
       "      <td>4</td>\n",
       "      <td>Hijau Solar Power Plant</td>\n",
       "      <td>8.0</td>\n",
       "      <td>2.3409</td>\n",
       "      <td>102.2168</td>\n",
       "      <td>Solar</td>\n",
       "      <td>6.451155</td>\n",
       "      <td>7.828085e+05</td>\n",
       "    </tr>\n",
       "    <tr>\n",
       "      <th>4</th>\n",
       "      <td>5</td>\n",
       "      <td>Jasin</td>\n",
       "      <td>50.0</td>\n",
       "      <td>2.3400</td>\n",
       "      <td>102.3500</td>\n",
       "      <td>Solar</td>\n",
       "      <td>40.319716</td>\n",
       "      <td>4.892553e+06</td>\n",
       "    </tr>\n",
       "    <tr>\n",
       "      <th>5</th>\n",
       "      <td>6</td>\n",
       "      <td>Kuala Langat</td>\n",
       "      <td>50.0</td>\n",
       "      <td>2.7450</td>\n",
       "      <td>101.5600</td>\n",
       "      <td>Solar</td>\n",
       "      <td>40.319716</td>\n",
       "      <td>4.892553e+06</td>\n",
       "    </tr>\n",
       "    <tr>\n",
       "      <th>6</th>\n",
       "      <td>7</td>\n",
       "      <td>Kuala Lumpur Airport Solar Power Plant</td>\n",
       "      <td>19.0</td>\n",
       "      <td>2.7791</td>\n",
       "      <td>101.7144</td>\n",
       "      <td>Solar</td>\n",
       "      <td>15.321492</td>\n",
       "      <td>1.859170e+06</td>\n",
       "    </tr>\n",
       "    <tr>\n",
       "      <th>7</th>\n",
       "      <td>8</td>\n",
       "      <td>Kuala Perlis Solar Power Plant</td>\n",
       "      <td>6.0</td>\n",
       "      <td>6.4105</td>\n",
       "      <td>100.1378</td>\n",
       "      <td>Solar</td>\n",
       "      <td>4.838366</td>\n",
       "      <td>5.871064e+05</td>\n",
       "    </tr>\n",
       "    <tr>\n",
       "      <th>8</th>\n",
       "      <td>9</td>\n",
       "      <td>Kuala Sawah Solar Power Plant</td>\n",
       "      <td>5.3</td>\n",
       "      <td>2.6355</td>\n",
       "      <td>101.9404</td>\n",
       "      <td>Solar</td>\n",
       "      <td>4.273890</td>\n",
       "      <td>5.186106e+05</td>\n",
       "    </tr>\n",
       "    <tr>\n",
       "      <th>9</th>\n",
       "      <td>10</td>\n",
       "      <td>Merchang</td>\n",
       "      <td>50.0</td>\n",
       "      <td>4.9340</td>\n",
       "      <td>103.3360</td>\n",
       "      <td>Solar</td>\n",
       "      <td>40.319716</td>\n",
       "      <td>4.892553e+06</td>\n",
       "    </tr>\n",
       "    <tr>\n",
       "      <th>10</th>\n",
       "      <td>12</td>\n",
       "      <td>Pajam Solar Power Plant</td>\n",
       "      <td>13.0</td>\n",
       "      <td>2.8357</td>\n",
       "      <td>101.8488</td>\n",
       "      <td>Solar</td>\n",
       "      <td>10.483126</td>\n",
       "      <td>1.272064e+06</td>\n",
       "    </tr>\n",
       "    <tr>\n",
       "      <th>11</th>\n",
       "      <td>13</td>\n",
       "      <td>Rimba Terjun Solar Power Plant</td>\n",
       "      <td>2.0</td>\n",
       "      <td>1.4721</td>\n",
       "      <td>103.3925</td>\n",
       "      <td>Solar</td>\n",
       "      <td>1.612789</td>\n",
       "      <td>1.957021e+05</td>\n",
       "    </tr>\n",
       "    <tr>\n",
       "      <th>12</th>\n",
       "      <td>14</td>\n",
       "      <td>Sepang 5</td>\n",
       "      <td>5.0</td>\n",
       "      <td>2.7150</td>\n",
       "      <td>101.7500</td>\n",
       "      <td>Solar</td>\n",
       "      <td>4.031972</td>\n",
       "      <td>4.892553e+05</td>\n",
       "    </tr>\n",
       "  </tbody>\n",
       "</table>\n",
       "</div>"
      ],
      "text/plain": [
       "    Number                                    name  capacity(MW)  latitude  \\\n",
       "0        1          Bukit Palong Solar Power Plant           3.0    2.5823   \n",
       "1        2                Gebeng Solar Power Plant          10.0    3.9924   \n",
       "2        3                 Gemas Solar Power Plant          10.2    2.5956   \n",
       "3        4                 Hijau Solar Power Plant           8.0    2.3409   \n",
       "4        5                                   Jasin          50.0    2.3400   \n",
       "5        6                            Kuala Langat          50.0    2.7450   \n",
       "6        7  Kuala Lumpur Airport Solar Power Plant          19.0    2.7791   \n",
       "7        8          Kuala Perlis Solar Power Plant           6.0    6.4105   \n",
       "8        9           Kuala Sawah Solar Power Plant           5.3    2.6355   \n",
       "9       10                                Merchang          50.0    4.9340   \n",
       "10      12                 Pajam Solar Power Plant          13.0    2.8357   \n",
       "11      13          Rimba Terjun Solar Power Plant           2.0    1.4721   \n",
       "12      14                                Sepang 5           5.0    2.7150   \n",
       "\n",
       "    longitude primary_fuel  estimated_generation_gwh  \\\n",
       "0    101.8313        Solar                  2.419183   \n",
       "1    103.3682        Solar                  8.063943   \n",
       "2    102.6216        Solar                  8.225222   \n",
       "3    102.2168        Solar                  6.451155   \n",
       "4    102.3500        Solar                 40.319716   \n",
       "5    101.5600        Solar                 40.319716   \n",
       "6    101.7144        Solar                 15.321492   \n",
       "7    100.1378        Solar                  4.838366   \n",
       "8    101.9404        Solar                  4.273890   \n",
       "9    103.3360        Solar                 40.319716   \n",
       "10   101.8488        Solar                 10.483126   \n",
       "11   103.3925        Solar                  1.612789   \n",
       "12   101.7500        Solar                  4.031972   \n",
       "\n",
       "    Estimated cost for 1 year  \n",
       "0                2.935532e+05  \n",
       "1                9.785106e+05  \n",
       "2                9.980809e+05  \n",
       "3                7.828085e+05  \n",
       "4                4.892553e+06  \n",
       "5                4.892553e+06  \n",
       "6                1.859170e+06  \n",
       "7                5.871064e+05  \n",
       "8                5.186106e+05  \n",
       "9                4.892553e+06  \n",
       "10               1.272064e+06  \n",
       "11               1.957021e+05  \n",
       "12               4.892553e+05  "
      ]
     },
     "execution_count": 2,
     "metadata": {},
     "output_type": "execute_result"
    }
   ],
   "source": [
    "# Required Libraries\n",
    "import numpy as np\n",
    "import matplotlib.pyplot as plt\n",
    "import pandas as pd\n",
    "from geopy.distance import geodesic\n",
    "import networkx as nx\n",
    "\n",
    "df = pd.read_csv(path+'/database/Peninsula_pp.csv', delimiter=',', skiprows=0)\n",
    "df"
   ]
  },
  {
   "cell_type": "code",
   "execution_count": 3,
   "id": "d70f7bb9",
   "metadata": {},
   "outputs": [],
   "source": [
    "ind = df['Number']\n",
    "name = df['name']\n",
    "lat = df['latitude']\n",
    "long = df['longitude']\n",
    "capacity = df['capacity(MW)']\n",
    "penetration = df['Estimated cost for 1 year']"
   ]
  },
  {
   "cell_type": "code",
   "execution_count": 4,
   "id": "b42db51f",
   "metadata": {},
   "outputs": [
    {
     "data": {
      "text/plain": [
       "{1: (2.5823, 101.8313),\n",
       " 2: (3.9924, 103.3682),\n",
       " 3: (2.5956, 102.6216),\n",
       " 4: (2.3409, 102.2168),\n",
       " 5: (2.34, 102.35),\n",
       " 6: (2.745, 101.56),\n",
       " 7: (2.7791, 101.7144),\n",
       " 8: (6.4105, 100.1378),\n",
       " 9: (2.6355, 101.9404),\n",
       " 10: (4.934, 103.336),\n",
       " 12: (2.8357, 101.8488),\n",
       " 13: (1.4721, 103.3925),\n",
       " 14: (2.715, 101.75)}"
      ]
     },
     "execution_count": 4,
     "metadata": {},
     "output_type": "execute_result"
    }
   ],
   "source": [
    "locations = {ind: (lat, long) for ind, lat, long in zip(ind, lat, long)}\n",
    "locations"
   ]
  },
  {
   "cell_type": "code",
   "execution_count": 5,
   "id": "ed6c3346",
   "metadata": {},
   "outputs": [
    {
     "data": {
      "text/plain": [
       "13"
      ]
     },
     "execution_count": 5,
     "metadata": {},
     "output_type": "execute_result"
    }
   ],
   "source": [
    "(len(locations.keys()))"
   ]
  },
  {
   "cell_type": "code",
   "execution_count": 6,
   "id": "b82fd62e",
   "metadata": {},
   "outputs": [],
   "source": [
    "\n",
    "# noconsumers = 10\n",
    "# c_energy = np.random.default_rng().normal(loc=np.average(capacity), scale=np.std(capacity)/2, size=noconsumers)\n",
    "# # c_energy = np.random.default_rng().integers(low=min(capacity), high=max(capacity), size=10)\n",
    "# c_energy"
   ]
  },
  {
   "cell_type": "code",
   "execution_count": 7,
   "id": "46624fa3",
   "metadata": {},
   "outputs": [],
   "source": [
    "def calculate_distance_mgpp(mglat, mglong, pplat, pplong):    \n",
    "    distance_matrix = np.zeros(len(pplat))\n",
    "    for i in range(len(pplat)):\n",
    "        distance_matrix[i] = geodesic((mglat, mglong), (pplat[i], pplong[i])).km\n",
    "    return distance_matrix\n"
   ]
  },
  {
   "cell_type": "code",
   "execution_count": 8,
   "id": "d2ace828",
   "metadata": {},
   "outputs": [],
   "source": [
    "def calculate_distance_mgmg(mglat, mglong):    \n",
    "    distance_matrix = np.zeros((len(mglat), len(mglat)))\n",
    "    for i in range(len(mglat)):\n",
    "        for j in range(len(mglat)):\n",
    "            if i < j:\n",
    "                distance_matrix[i][j] = geodesic((mglat[i], mglong[i]), (mglat[j], mglong[j])).km\n",
    "    return distance_matrix"
   ]
  },
  {
   "cell_type": "code",
   "execution_count": 9,
   "id": "ec9a3eff",
   "metadata": {},
   "outputs": [],
   "source": [
    "# def create_transmission_network(locations, distance_matrix, threshold=45):\n",
    "#     G = nx.Graph()\n",
    "#     for i, label_i in enumerate(locations.keys()):\n",
    "#         for j, label_j in enumerate(locations.keys()):\n",
    "#             if i < j:\n",
    "#                 if distance_matrix[i][j] < threshold: # Only add edge if distance is below threshold\n",
    "#                     G.add_edge(label_i, label_j)\n",
    "#     return G"
   ]
  },
  {
   "cell_type": "code",
   "execution_count": 10,
   "id": "af0857bc",
   "metadata": {},
   "outputs": [
    {
     "name": "stdout",
     "output_type": "stream",
     "text": [
      "<enumerate object at 0x144096d90>\n"
     ]
    }
   ],
   "source": [
    "print(enumerate(locations.keys()))"
   ]
  },
  {
   "cell_type": "code",
   "execution_count": 11,
   "id": "addae2cf",
   "metadata": {},
   "outputs": [],
   "source": [
    "# distance_matrix = calculate_distance_matrix(lat, long)\n",
    "\n",
    "# # Create Graph Based on Distance Threshold\n",
    "# G = create_transmission_network(locations, distance_matrix, threshold=45)\n",
    "\n",
    "# # Visualize Graph\n",
    "# fig, ax = plt.subplots()\n",
    "# pos = {label: (lon, lat) for label, (lat, lon) in locations.items()}\n",
    "# nx.draw(G, pos, ax=ax, node_size=100, node_color='blue')\n",
    "# # nx.draw(G, pos, ax=ax, node_size=800, with_labels=True)\n",
    "# # with_labels=True, node_color='lightblue', node_size=800)\n",
    "# plt.title(\"Solar Panel Proximity Graph\")\n",
    "# plt.show()"
   ]
  },
  {
   "cell_type": "code",
   "execution_count": 12,
   "id": "53351199",
   "metadata": {},
   "outputs": [],
   "source": [
    "# total_nodes = len(G.nodes(data=True))\n",
    "# total_edges = len(G.edges(data=True))"
   ]
  },
  {
   "cell_type": "code",
   "execution_count": 13,
   "id": "e280dc8c",
   "metadata": {},
   "outputs": [],
   "source": [
    "import scipy.sparse as sp\n",
    "from networkx.algorithms import community\n",
    "\n",
    "### create QUBO matrix\n",
    "# define the distance matrix\n",
    "num_powerplants = (len(locations.keys())) ## number of solar power plants\n",
    "pplat, pplong = zip(*locations.values())"
   ]
  },
  {
   "cell_type": "code",
   "execution_count": 14,
   "id": "b62f11bb",
   "metadata": {},
   "outputs": [],
   "source": [
    "# generate choices for microgrid locations\n",
    "num_microgrids = 5 ## number of microgrids\n",
    "random = np.random.default_rng(seed=45)\n",
    "random_lat = random.uniform(min(lat), max(lat), size=4*num_microgrids)\n",
    "lat_choices = random.choice(random_lat, size=num_microgrids, replace=False)\n",
    "\n",
    "random_long = random.uniform(min(long), max(long), size=4*num_microgrids)\n",
    "long_choices = random.choice(random_long, size=num_microgrids, replace=False)"
   ]
  },
  {
   "cell_type": "code",
   "execution_count": 15,
   "id": "f35de64e",
   "metadata": {},
   "outputs": [
    {
     "data": {
      "image/png": "[encoded data removed]",
      "text/plain": [
       "<Figure size 640x480 with 1 Axes>"
      ]
     },
     "metadata": {},
     "output_type": "display_data"
    }
   ],
   "source": [
    "# Visualize Graph\n",
    "fig, ax = plt.subplots()\n",
    "ax.plot(long, lat, 'o', markersize=5, color='blue')\n",
    "ax.plot(long_choices, lat_choices, 'o', markersize=5, color='red')\n",
    "plt.title(\"Solar Panel Proximity Graph\")\n",
    "plt.show()"
   ]
  },
  {
   "cell_type": "code",
   "execution_count": 16,
   "id": "f497bf6e",
   "metadata": {},
   "outputs": [
    {
     "data": {
      "text/plain": [
       "array([2260.49954445, 3808.23966157, 3854.7614119 , 2843.70812895,\n",
       "       4118.89200122])"
      ]
     },
     "execution_count": 16,
     "metadata": {},
     "output_type": "execute_result"
    }
   ],
   "source": [
    "mgpp_distance = np.zeros(num_microgrids)\n",
    "for i in range(num_microgrids):\n",
    "    mgpp_distance[i] = np.sum(calculate_distance_mgpp(lat_choices[i], long_choices[i],pplat, pplong))\n",
    "mgpp_distance"
   ]
  },
  {
   "cell_type": "code",
   "execution_count": 17,
   "id": "8c897fa5",
   "metadata": {},
   "outputs": [
    {
     "data": {
      "text/plain": [
       "array([[  0.        , 207.21760997, 244.03391925,  91.42159821,\n",
       "        202.64666019],\n",
       "       [  0.        ,   0.        ,  77.8520179 , 115.8657074 ,\n",
       "        103.21273445],\n",
       "       [  0.        ,   0.        ,   0.        , 160.55476875,\n",
       "        181.03576998],\n",
       "       [  0.        ,   0.        ,   0.        ,   0.        ,\n",
       "        128.64508345],\n",
       "       [  0.        ,   0.        ,   0.        ,   0.        ,\n",
       "          0.        ]])"
      ]
     },
     "execution_count": 17,
     "metadata": {},
     "output_type": "execute_result"
    }
   ],
   "source": [
    "mgmg_distance = calculate_distance_mgmg(lat_choices, long_choices)\n",
    "mgmg_distance"
   ]
  },
  {
   "cell_type": "code",
   "execution_count": 18,
   "id": "e36163ad",
   "metadata": {},
   "outputs": [],
   "source": [
    "costCoeff = 10000\n",
    "mgpp_cost = mgpp_distance * costCoeff\n",
    "mgmg_cost = mgmg_distance * costCoeff\n",
    "\n",
    "battery_cost = 38000  # Example fixed cost for battery and inverter installation\n",
    "land_cost = 13000  # Example fixed cost for land acquisition\n",
    "fixedCost = battery_cost + land_cost"
   ]
  },
  {
   "cell_type": "code",
   "execution_count": 19,
   "id": "77174273",
   "metadata": {},
   "outputs": [],
   "source": [
    "def add_count_constraint(K, delta, N):\n",
    "    \"\"\"\n",
    "    Adds a count constraint penalty to QUBO: (sum x_i - K)^2\n",
    "    Args:\n",
    "        Q: dict of QUBO terms (modified in-place)\n",
    "        K: number of locations to select\n",
    "        delta: penalty strength\n",
    "        N: total number of candidate locations\n",
    "    \"\"\"\n",
    "    Q = np.zeros((N, N))\n",
    "    for i in range(N):\n",
    "        Q[(i, i)] += delta * (1 - 2 * K)\n",
    "        for j in range(i + 1, N):\n",
    "            Q[(i, j)] += 2 * delta\n",
    "    return Q\n"
   ]
  },
  {
   "cell_type": "code",
   "execution_count": 20,
   "id": "66ea0eee",
   "metadata": {},
   "outputs": [
    {
     "data": {
      "text/plain": [
       "array([[-900000.,  200000.,  200000.,  200000.,  200000.],\n",
       "       [      0., -900000.,  200000.,  200000.,  200000.],\n",
       "       [      0.,       0., -900000.,  200000.,  200000.],\n",
       "       [      0.,       0.,       0., -900000.,  200000.],\n",
       "       [      0.,       0.,       0.,       0., -900000.]])"
      ]
     },
     "execution_count": 20,
     "metadata": {},
     "output_type": "execute_result"
    }
   ],
   "source": [
    "## budget constraint\n",
    "panaltyTerm = add_count_constraint(5, 100000, num_microgrids)\n",
    "panaltyTerm\n"
   ]
  },
  {
   "cell_type": "code",
   "execution_count": 21,
   "id": "8e20b393",
   "metadata": {},
   "outputs": [
    {
     "data": {
      "text/plain": [
       "array([22604995.44446766, 38082396.61573182, 38547614.11904076,\n",
       "       28437081.28948206, 41188920.01221374])"
      ]
     },
     "execution_count": 21,
     "metadata": {},
     "output_type": "execute_result"
    }
   ],
   "source": [
    "mgpp_cost"
   ]
  },
  {
   "cell_type": "code",
   "execution_count": 22,
   "id": "d16c545c",
   "metadata": {},
   "outputs": [
    {
     "data": {
      "text/plain": [
       "1742501.6365846156"
      ]
     },
     "execution_count": 22,
     "metadata": {},
     "output_type": "execute_result"
    }
   ],
   "source": [
    "np.average(np.array(penetration))"
   ]
  },
  {
   "cell_type": "code",
   "execution_count": 23,
   "id": "8daf9315",
   "metadata": {},
   "outputs": [
    {
     "data": {
      "text/plain": [
       "22652521.2756"
      ]
     },
     "execution_count": 23,
     "metadata": {},
     "output_type": "execute_result"
    }
   ],
   "source": [
    "sum(np.array(penetration))"
   ]
  },
  {
   "cell_type": "code",
   "execution_count": 24,
   "id": "f711ae59",
   "metadata": {},
   "outputs": [],
   "source": [
    "### QUBO matrix\n",
    "term1 = (fixedCost*np.ones((1, num_microgrids))) - (sum(np.array(penetration)))*np.ones((1, num_microgrids)) + mgpp_cost\n",
    "linearTerm = np.zeros((num_microgrids, num_microgrids))\n",
    "for i in range(num_microgrids):\n",
    "    linearTerm[i,i] = term1[0,i]\n",
    "quandTerm = mgmg_cost\n",
    "\n",
    "qubo_matrix = linearTerm + quandTerm + panaltyTerm"
   ]
  },
  {
   "cell_type": "code",
   "execution_count": 25,
   "id": "0b2a3302",
   "metadata": {},
   "outputs": [
    {
     "data": {
      "text/plain": [
       "array([[ -896525.83113234,  2272176.09971071,  2640339.19246615,\n",
       "         1114215.98209531,  2226466.60194067],\n",
       "       [       0.        , 14580875.34013182,   978520.17895724,\n",
       "         1358657.07403534,  1232127.34454473],\n",
       "       [       0.        ,        0.        , 15046092.84344076,\n",
       "         1805547.68752224,  2010357.6997879 ],\n",
       "       [       0.        ,        0.        ,        0.        ,\n",
       "         4935560.01388206,  1486450.83451591],\n",
       "       [       0.        ,        0.        ,        0.        ,\n",
       "               0.        , 17687398.73661374]])"
      ]
     },
     "execution_count": 25,
     "metadata": {},
     "output_type": "execute_result"
    }
   ],
   "source": [
    "qubo_matrix"
   ]
  },
  {
   "cell_type": "code",
   "execution_count": 26,
   "id": "e7a9eb7c",
   "metadata": {},
   "outputs": [],
   "source": [
    "from autoqubo import SamplingCompiler, Utils\n",
    "import timeit"
   ]
  },
  {
   "cell_type": "code",
   "execution_count": null,
   "id": "2ac0afa7",
   "metadata": {},
   "outputs": [],
   "source": [
    "start = timeit.default_timer()\n",
    "\n",
    "solutions, energy_values = Utils.solve(qubo_matrix)\n",
    "\n",
    "stop = timeit.default_timer()\n",
    "print('Time: ', stop - start)"
   ]
  },
  {
   "cell_type": "code",
   "execution_count": null,
   "id": "d057e81c",
   "metadata": {},
   "outputs": [],
   "source": [
    "for s, e in zip(solutions, energy_values):\n",
    "    print(f\"x={s}, energy={e}\")"
   ]
  },
  {
   "cell_type": "code",
   "execution_count": null,
   "id": "8a01cd55",
   "metadata": {},
   "outputs": [],
   "source": [
    "sum(solutions[0])"
   ]
  },
  {
   "cell_type": "code",
   "execution_count": 27,
   "id": "2383a273",
   "metadata": {},
   "outputs": [
    {
     "name": "stdout",
     "output_type": "stream",
     "text": [
      "New QUBO solution found with objective 0.0\n",
      "New QUBO solution found with objective -896525.8311323412\n",
      "Time:  0.0393087089760229\n"
     ]
    }
   ],
   "source": [
    "from gurobi_optimods.qubo import solve_qubo\n",
    "\n",
    "\n",
    "start = timeit.default_timer()\n",
    "\n",
    "result = solve_qubo(qubo_matrix)\n",
    "\n",
    "stop = timeit.default_timer()\n",
    "print('Time: ', stop - start)"
   ]
  },
  {
   "cell_type": "code",
   "execution_count": 28,
   "id": "bf3bdefc",
   "metadata": {},
   "outputs": [
    {
     "data": {
      "text/plain": [
       "QuboResult(solution=array([1., 0., 0., 0., 0.]), objective_value=-896525.8311323412)"
      ]
     },
     "execution_count": 28,
     "metadata": {},
     "output_type": "execute_result"
    }
   ],
   "source": [
    "result"
   ]
  },
  {
   "cell_type": "code",
   "execution_count": 29,
   "id": "38dfbfac",
   "metadata": {},
   "outputs": [
    {
     "data": {
      "text/plain": [
       "1.0"
      ]
     },
     "execution_count": 29,
     "metadata": {},
     "output_type": "execute_result"
    }
   ],
   "source": [
    "sum(result.solution)"
   ]
  },
  {
   "cell_type": "code",
   "execution_count": 30,
   "id": "c7675c33",
   "metadata": {},
   "outputs": [
    {
     "ename": "NameError",
     "evalue": "name 'solutions' is not defined",
     "output_type": "error",
     "traceback": [
      "\u001b[31m---------------------------------------------------------------------------\u001b[39m",
      "\u001b[31mNameError\u001b[39m                                 Traceback (most recent call last)",
      "\u001b[36mCell\u001b[39m\u001b[36m \u001b[39m\u001b[32mIn[30]\u001b[39m\u001b[32m, line 1\u001b[39m\n\u001b[32m----> \u001b[39m\u001b[32m1\u001b[39m result.solution == \u001b[43msolutions\u001b[49m[\u001b[32m0\u001b[39m]\n",
      "\u001b[31mNameError\u001b[39m: name 'solutions' is not defined"
     ]
    }
   ],
   "source": [
    "result.solution == solutions[0]"
   ]
  },
  {
   "cell_type": "markdown",
   "id": "91d8f414",
   "metadata": {},
   "source": [
    "## qiskit"
   ]
  },
  {
   "cell_type": "code",
   "execution_count": 31,
   "id": "506c4699",
   "metadata": {},
   "outputs": [],
   "source": [
    "import rustworkx as rx\n",
    "from rustworkx.visualization import mpl_draw as draw_graph\n",
    "import numpy as np\n",
    "from scipy.optimize import minimize\n",
    "from collections import defaultdict\n",
    "from typing import Sequence\n",
    " \n",
    " \n",
    "from qiskit.quantum_info import SparsePauliOp\n",
    "from qiskit.circuit.library import QAOAAnsatz\n",
    "from qiskit.transpiler.preset_passmanagers import generate_preset_pass_manager\n",
    " \n",
    "from qiskit_aer import AerSimulator\n",
    "from qiskit_ibm_runtime import QiskitRuntimeService\n",
    "from qiskit_ibm_runtime import Session, EstimatorV2 as Estimator\n",
    "from qiskit_ibm_runtime import SamplerV2 as Sampler\n"
   ]
  },
  {
   "cell_type": "code",
   "execution_count": 32,
   "id": "e40e389f",
   "metadata": {},
   "outputs": [],
   "source": [
    "from qiskit import QuantumCircuit\n",
    "qiskit_circuit = QuantumCircuit(num_microgrids + 1)\n"
   ]
  },
  {
   "cell_type": "code",
   "execution_count": 33,
   "id": "01aa7800",
   "metadata": {},
   "outputs": [
    {
     "name": "stdout",
     "output_type": "stream",
     "text": [
      "Cost Function Hamiltonian: SparsePauliOp(['IIIIZ', 'IIIZZ', 'IIZIZ', 'IZIIZ', 'ZIIIZ', 'IIIZZ', 'IIIZI', 'IIZZI', 'IZIZI', 'ZIIZI', 'IIZIZ', 'IIZZI', 'IIZII', 'IZZII', 'ZIZII', 'IZIIZ', 'IZIZI', 'IZZII', 'IZIII', 'ZZIII', 'ZIIIZ', 'ZIIZI', 'ZIZII', 'ZZIII', 'ZIIII'],\n",
      "              coeffs=[-2.87404289e+06+0.j,  2.27217610e+06+0.j,  2.64033919e+06+0.j,\n",
      "  1.11421598e+06+0.j,  2.22646660e+06+0.j,  0.00000000e+00+0.j,\n",
      " -9.10545566e+07+0.j,  9.78520179e+05+0.j,  1.35865707e+06+0.j,\n",
      "  1.23212734e+06+0.j,  0.00000000e+00+0.j,  0.00000000e+00+0.j,\n",
      " -9.40924624e+07+0.j,  1.80554769e+06+0.j,  2.01035770e+06+0.j,\n",
      "  0.00000000e+00+0.j,  0.00000000e+00+0.j,  0.00000000e+00+0.j,\n",
      " -3.10998109e+07+0.j,  1.48645083e+06+0.j,  0.00000000e+00+0.j,\n",
      "  0.00000000e+00+0.j,  0.00000000e+00+0.j,  0.00000000e+00+0.j,\n",
      " -1.06124392e+08+0.j])\n"
     ]
    }
   ],
   "source": [
    "def build_qubo_paulis(qubo) -> list[tuple[str, float]]:\n",
    "    pauli_list = []\n",
    "    for i in range(num_microgrids):\n",
    "        for j in range(num_microgrids):\n",
    "            if i == j:\n",
    "                pauli_list.append((\"Z\", [i], (-1)*sum([qubo[i][j]+qubo[i][i] for j in range(num_microgrids)])))\n",
    "            else:\n",
    "                pauli_list.append((\"ZZ\", [i, j], qubo[i][j]))\n",
    "    return pauli_list\n",
    "    # for edge in list(graph.edge_list()):\n",
    "    #     weight = graph.get_edge_data(edge[0], edge[1])\n",
    "    #     pauli_list.append((\"ZZ\", [edge[0], edge[1]], weight))\n",
    "    # return pauli_list\n",
    " \n",
    "qubo_paulis = build_qubo_paulis(qubo_matrix)\n",
    "cost_hamiltonian = SparsePauliOp.from_sparse_list(qubo_paulis, num_microgrids)\n",
    "print(\"Cost Function Hamiltonian:\", cost_hamiltonian)"
   ]
  },
  {
   "cell_type": "code",
   "execution_count": 34,
   "id": "e7516837",
   "metadata": {},
   "outputs": [
    {
     "data": {
      "image/png": "[encoded data removed]",
      "text/plain": [
       "<Figure size 831.22x535.111 with 1 Axes>"
      ]
     },
     "execution_count": 34,
     "metadata": {},
     "output_type": "execute_result"
    }
   ],
   "source": [
    "circuit = QAOAAnsatz(cost_operator=cost_hamiltonian, reps=2)\n",
    "circuit.measure_all()\n",
    " \n",
    "circuit.draw(\"mpl\")"
   ]
  },
  {
   "cell_type": "code",
   "execution_count": 35,
   "id": "8db0c1b8",
   "metadata": {},
   "outputs": [],
   "source": [
    "# decomposed = circuit.decompose().decompose().decompose()\n",
    "# from qiskit.qasm3 import dumps\n",
    "\n",
    "# decomposed_qasm_string = dumps(decomposed)"
   ]
  },
  {
   "cell_type": "code",
   "execution_count": 36,
   "id": "d22a2a96",
   "metadata": {},
   "outputs": [],
   "source": [
    "# import qbraid \n",
    "# provider = qbraid.QbraidProvider()\n",
    "# aws_device_id = \"aws_sv1\"\n",
    "# device = provider.get_device(aws_device_id)\n",
    "# device"
   ]
  },
  {
   "cell_type": "code",
   "execution_count": 37,
   "id": "7873fc45",
   "metadata": {},
   "outputs": [],
   "source": [
    "qiskit_sim = AerSimulator()"
   ]
  },
  {
   "cell_type": "code",
   "execution_count": 38,
   "id": "6f1b382f",
   "metadata": {},
   "outputs": [],
   "source": [
    "estimator = Estimator(qiskit_sim)"
   ]
  },
  {
   "cell_type": "code",
   "execution_count": 39,
   "id": "e195819b",
   "metadata": {},
   "outputs": [
    {
     "name": "stdout",
     "output_type": "stream",
     "text": [
      "AerSimulator('aer_simulator')\n"
     ]
    },
    {
     "data": {
      "image/png": "[encoded data removed]",
      "text/plain": [
       "<Figure size 14459.8x535.111 with 1 Axes>"
      ]
     },
     "execution_count": 39,
     "metadata": {},
     "output_type": "execute_result"
    }
   ],
   "source": [
    "# service = QiskitRuntimeService()\n",
    "backend = qiskit_sim\n",
    "print(backend)\n",
    " \n",
    "# Create pass manager for transpilation\n",
    "pm = generate_preset_pass_manager(optimization_level=3, backend=backend)\n",
    " \n",
    "candidate_circuit = pm.run(circuit)\n",
    "candidate_circuit.draw(\"mpl\", fold=False, idle_wires=False)"
   ]
  },
  {
   "cell_type": "code",
   "execution_count": 40,
   "id": "562eb6c7",
   "metadata": {},
   "outputs": [],
   "source": [
    "initial_gamma = np.pi\n",
    "initial_beta = np.pi / 2\n",
    "init_params = [initial_beta, initial_beta, initial_gamma, initial_gamma]"
   ]
  },
  {
   "cell_type": "code",
   "execution_count": 41,
   "id": "e9a29310",
   "metadata": {},
   "outputs": [],
   "source": [
    "def cost_func_estimator(params, ansatz, hamiltonian, estimator):\n",
    "    # transform the observable defined on virtual qubits to\n",
    "    # an observable defined on all physical qubits\n",
    "    isa_hamiltonian = hamiltonian.apply_layout(ansatz.layout)\n",
    " \n",
    "    pub = (ansatz, isa_hamiltonian, params)\n",
    "    job = estimator.run([pub])\n",
    " \n",
    "    results = job.result()[0]\n",
    "    cost = results.data.evs\n",
    " \n",
    "    objective_func_vals.append(cost)\n",
    " \n",
    "    return cost"
   ]
  },
  {
   "cell_type": "code",
   "execution_count": 42,
   "id": "2435e2d8",
   "metadata": {},
   "outputs": [
    {
     "name": "stderr",
     "output_type": "stream",
     "text": [
      "/Users/treerat/Documents/2025Quantathon/QRenew/.venv/lib/python3.11/site-packages/qiskit_ibm_runtime/fake_provider/local_service.py:269: UserWarning: Options {'dynamical_decoupling': {'enable': True, 'sequence_type': 'XY4'}, 'twirling': {'enable_gates': True, 'num_randomizations': 'auto'}} have no effect in local testing mode.\n",
      "  warnings.warn(f\"Options {options_copy} have no effect in local testing mode.\")\n"
     ]
    },
    {
     "name": "stdout",
     "output_type": "stream",
     "text": [
      " message: Return from COBYLA because the trust region radius reaches its lower bound.\n",
      " success: True\n",
      "  status: 0\n",
      "     fun: -65784780.33348861\n",
      "       x: [ 5.743e-01  1.566e+00  3.119e+00  3.061e+00]\n",
      "    nfev: 15\n",
      "   maxcv: 0.0\n"
     ]
    }
   ],
   "source": [
    "objective_func_vals = []  # Global variable\n",
    "with Session(backend=backend) as session:\n",
    "    # If using qiskit-ibm-runtime<0.24.0, change `mode=` to `session=`\n",
    "    estimator = Estimator(mode=session)\n",
    "    estimator.options.default_shots = 50000\n",
    " \n",
    "    # Set simple error suppression/mitigation options\n",
    "    estimator.options.dynamical_decoupling.enable = True\n",
    "    estimator.options.dynamical_decoupling.sequence_type = \"XY4\"\n",
    "    estimator.options.twirling.enable_gates = True\n",
    "    estimator.options.twirling.num_randomizations = \"auto\"\n",
    " \n",
    "    result = minimize(\n",
    "        cost_func_estimator,\n",
    "        init_params,\n",
    "        args=(candidate_circuit, cost_hamiltonian, estimator),\n",
    "        method=\"COBYLA\",\n",
    "        # method=\"dogleg\",\n",
    "        tol=1e-2\n",
    "    )\n",
    "    print(result)"
   ]
  },
  {
   "cell_type": "code",
   "execution_count": 43,
   "id": "d27ab5c5",
   "metadata": {},
   "outputs": [
    {
     "data": {
      "image/png": "[encoded data removed]",
      "text/plain": [
       "<Figure size 1000x500 with 1 Axes>"
      ]
     },
     "metadata": {},
     "output_type": "display_data"
    }
   ],
   "source": [
    "plt.figure(figsize=(10, 5))\n",
    "plt.plot(objective_func_vals)\n",
    "plt.xlabel(\"Iteration\")\n",
    "plt.ylabel(\"Cost\")\n",
    "\n",
    "plt.show()"
   ]
  },
  {
   "cell_type": "code",
   "execution_count": 44,
   "id": "96736a51",
   "metadata": {},
   "outputs": [],
   "source": [
    "optimized_circuit = candidate_circuit.assign_parameters(result.x)\n",
    "\n",
    "# optimized_circuit.draw(\"mpl\", fold=False, idle_wires=False)"
   ]
  },
  {
   "cell_type": "code",
   "execution_count": 45,
   "id": "33ce53a2",
   "metadata": {},
   "outputs": [
    {
     "data": {
      "text/plain": [
       "Result(backend_name='aer_simulator', backend_version='0.17.1', job_id='9ddc2c0e-9e4d-48cc-a376-e9302f62d40c', success=True, results=[ExperimentResult(shots=10000, success=True, meas_level=2, data=ExperimentResultData(counts={'0x1f': 2, '0x11': 30, '0xf': 15, '0x18': 144, '0xe': 1, '0x13': 63, '0x8': 155, '0x17': 167, '0xd': 327, '0x7': 71, '0x14': 343, '0x1e': 45, '0xb': 581, '0x0': 272, '0x1b': 6, '0x9': 414, '0x12': 199, '0x1c': 137, '0xa': 346, '0x6': 1173, '0x1d': 361, '0x10': 11, '0x19': 87, '0x4': 619, '0xc': 743, '0x15': 349, '0x5': 619, '0x3': 605, '0x1a': 18, '0x1': 257, '0x16': 228, '0x2': 1612}), header={'creg_sizes': [['meas', 5]], 'global_phase': 0.0, 'memory_slots': 5, 'n_qubits': 5, 'name': 'QAOA-238', 'qreg_sizes': [['q', 5]], 'metadata': {}}, status=DONE, seed_simulator=3661179150, metadata={'num_bind_params': 1, 'runtime_parameter_bind': False, 'parallel_state_update': 8, 'parallel_shots': 1, 'sample_measure_time': 0.002598, 'noise': 'ideal', 'batched_shots_optimization': False, 'remapped_qubits': False, 'active_input_qubits': [0, 1, 2, 3, 4], 'device': 'CPU', 'time_taken': 0.010167375, 'measure_sampling': True, 'num_clbits': 5, 'max_memory_mb': 8192, 'input_qubit_map': [[4, 4], [3, 3], [2, 2], [1, 1], [0, 0]], 'num_qubits': 5, 'method': 'statevector', 'required_memory_mb': 1, 'fusion': {'enabled': True, 'threshold': 14, 'applied': False, 'max_fused_qubits': 5}}, time_taken=0.010167375)], date=2025-08-04T22:22:19.550512, status=COMPLETED, header=None, qobj_id='', metadata={'time_taken_parameter_binding': 5.5959e-05, 'max_memory_mb': 8192, 'time_taken_execute': 0.010352292, 'omp_enabled': True, 'max_gpu_memory_mb': 0, 'parallel_experiments': 1}, time_taken=0.015384912490844727)"
      ]
     },
     "execution_count": 45,
     "metadata": {},
     "output_type": "execute_result"
    }
   ],
   "source": [
    "job = qiskit_sim.run(optimized_circuit, shots=int(1e4))\n",
    "job.result()"
   ]
  },
  {
   "cell_type": "code",
   "execution_count": 46,
   "id": "48e3ce13",
   "metadata": {},
   "outputs": [
    {
     "data": {
      "text/plain": [
       "{'0b11111': 2,\n",
       " '0b10001': 30,\n",
       " '0b1111': 15,\n",
       " '0b11000': 144,\n",
       " '0b1110': 1,\n",
       " '0b10011': 63,\n",
       " '0b1000': 155,\n",
       " '0b10111': 167,\n",
       " '0b1101': 327,\n",
       " '0b111': 71,\n",
       " '0b10100': 343,\n",
       " '0b11110': 45,\n",
       " '0b1011': 581,\n",
       " '0b0': 272,\n",
       " '0b11011': 6,\n",
       " '0b1001': 414,\n",
       " '0b10010': 199,\n",
       " '0b11100': 137,\n",
       " '0b1010': 346,\n",
       " '0b110': 1173,\n",
       " '0b11101': 361,\n",
       " '0b10000': 11,\n",
       " '0b11001': 87,\n",
       " '0b100': 619,\n",
       " '0b1100': 743,\n",
       " '0b10101': 349,\n",
       " '0b101': 619,\n",
       " '0b11': 605,\n",
       " '0b11010': 18,\n",
       " '0b1': 257,\n",
       " '0b10110': 228,\n",
       " '0b10': 1612}"
      ]
     },
     "execution_count": 46,
     "metadata": {},
     "output_type": "execute_result"
    }
   ],
   "source": [
    "{bin(int(k, 16)): v for k, v in job.result().results[0].data.counts.items()}"
   ]
  },
  {
   "cell_type": "code",
   "execution_count": null,
   "id": "37064e1d",
   "metadata": {},
   "outputs": [],
   "source": [
    "int(\"0x3\", 16)"
   ]
  },
  {
   "cell_type": "code",
   "execution_count": null,
   "id": "620d3035",
   "metadata": {},
   "outputs": [],
   "source": [
    "# #If using qiskit-ibm-runtime<0.24.0, change `mode=` to `backend=`\n",
    "# sampler = Sampler(mode=backend)\n",
    "# sampler.options.default_shots = 10000\n",
    "\n",
    "# # Set simple error suppression/mitigation options\n",
    "# sampler.options.dynamical_decoupling.enable = True\n",
    "# sampler.options.dynamical_decoupling.sequence_type = \"XY4\"\n",
    "# sampler.options.twirling.enable_gates = True\n",
    "# sampler.options.twirling.num_randomizations = \"auto\"\n",
    "\n",
    "job = qiskit_sim.run(optimized_circuit, shots=int(1e4))\n",
    "# counts_int = job.result().data.get_int_counts()\n",
    "# counts_bin = job.result()\n",
    "# print(counts_bin.data)\n",
    "# shots = sum(counts_int.values())\n",
    "# final_distribution_int = {key: val / shots for key, val in counts_int.items()}\n",
    "# final_distribution_bin = {key: val / shots for key, val in counts_bin.items()}\n",
    "# print(final_distribution_int)"
   ]
  },
  {
   "cell_type": "code",
   "execution_count": null,
   "id": "2eb1e4bd",
   "metadata": {},
   "outputs": [],
   "source": [
    "# qasm_3 = transpile(circuit.decompose(), 'qasm3')\n",
    "# print(qasm_3)\n",
    "\n",
    "braket_job = device.run(decomposed_qasm_string, shots=10)\n",
    "braket_job.status()"
   ]
  },
  {
   "cell_type": "code",
   "execution_count": null,
   "id": "7868eef9",
   "metadata": {},
   "outputs": [],
   "source": []
  }
 ],
 "metadata": {
  "kernelspec": {
   "display_name": ".venv",
   "language": "python",
   "name": "python3"
  },
  "language_info": {
   "codemirror_mode": {
    "name": "ipython",
    "version": 3
   },
   "file_extension": ".py",
   "mimetype": "text/x-python",
   "name": "python",
   "nbconvert_exporter": "python",
   "pygments_lexer": "ipython3",
   "version": "3.11.1"
  }
 },
 "nbformat": 4,
 "nbformat_minor": 5
}
