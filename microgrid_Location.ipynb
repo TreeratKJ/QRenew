{
 "cells": [
  {
   "cell_type": "code",
   "execution_count": 1,
   "id": "32054105",
   "metadata": {},
   "outputs": [],
   "source": [
    "import os\n",
    "import sys\n",
    "from pathlib import Path\n",
    "path = str(Path(os.getcwd()))\n",
    "sys.path.insert(1, path+'/amazon-braket-community-detection/src')"
   ]
  },
  {
   "cell_type": "code",
   "execution_count": 2,
   "id": "81ccca0c",
   "metadata": {},
   "outputs": [
    {
     "data": {
      "text/html": [
       "<div>\n",
       "<style scoped>\n",
       "    .dataframe tbody tr th:only-of-type {\n",
       "        vertical-align: middle;\n",
       "    }\n",
       "\n",
       "    .dataframe tbody tr th {\n",
       "        vertical-align: top;\n",
       "    }\n",
       "\n",
       "    .dataframe thead th {\n",
       "        text-align: right;\n",
       "    }\n",
       "</style>\n",
       "<table border=\"1\" class=\"dataframe\">\n",
       "  <thead>\n",
       "    <tr style=\"text-align: right;\">\n",
       "      <th></th>\n",
       "      <th>WKT</th>\n",
       "      <th>Index</th>\n",
       "      <th>latitude</th>\n",
       "      <th>longitude</th>\n",
       "      <th>name</th>\n",
       "      <th>capacity(MW)</th>\n",
       "    </tr>\n",
       "  </thead>\n",
       "  <tbody>\n",
       "    <tr>\n",
       "      <th>0</th>\n",
       "      <td>POINT (100.1995973 13.5797688)</td>\n",
       "      <td>1</td>\n",
       "      <td>13.579769</td>\n",
       "      <td>100.199597</td>\n",
       "      <td>Samut Sakhon</td>\n",
       "      <td>5.0</td>\n",
       "    </tr>\n",
       "    <tr>\n",
       "      <th>1</th>\n",
       "      <td>POINT (100.4800113 13.7131258)</td>\n",
       "      <td>2</td>\n",
       "      <td>13.713126</td>\n",
       "      <td>100.480011</td>\n",
       "      <td>The Mall - Tha Phra</td>\n",
       "      <td>1.0</td>\n",
       "    </tr>\n",
       "    <tr>\n",
       "      <th>2</th>\n",
       "      <td>POINT (100.4474445 13.8199492)</td>\n",
       "      <td>3</td>\n",
       "      <td>13.819949</td>\n",
       "      <td>100.447445</td>\n",
       "      <td>Ratchaphruek</td>\n",
       "      <td>1.0</td>\n",
       "    </tr>\n",
       "    <tr>\n",
       "      <th>3</th>\n",
       "      <td>POINT (100.5417601 13.8550947)</td>\n",
       "      <td>4</td>\n",
       "      <td>13.855095</td>\n",
       "      <td>100.541760</td>\n",
       "      <td>The Mall - Ngamwongwan</td>\n",
       "      <td>1.0</td>\n",
       "    </tr>\n",
       "    <tr>\n",
       "      <th>4</th>\n",
       "      <td>POINT (100.6421705 13.7658514)</td>\n",
       "      <td>5</td>\n",
       "      <td>13.765851</td>\n",
       "      <td>100.642171</td>\n",
       "      <td>The Mall - Bangkapi</td>\n",
       "      <td>1.0</td>\n",
       "    </tr>\n",
       "    <tr>\n",
       "      <th>5</th>\n",
       "      <td>POINT (100.6798205 13.8282182)</td>\n",
       "      <td>6</td>\n",
       "      <td>13.828218</td>\n",
       "      <td>100.679821</td>\n",
       "      <td>Akekamai-Ramintra</td>\n",
       "      <td>1.0</td>\n",
       "    </tr>\n",
       "    <tr>\n",
       "      <th>6</th>\n",
       "      <td>POINT (101.0033703 13.5759609)</td>\n",
       "      <td>7</td>\n",
       "      <td>13.575961</td>\n",
       "      <td>101.003370</td>\n",
       "      <td>Chachoengsao</td>\n",
       "      <td>1.3</td>\n",
       "    </tr>\n",
       "    <tr>\n",
       "      <th>7</th>\n",
       "      <td>POINT (100.5528226 14.1690859)</td>\n",
       "      <td>8</td>\n",
       "      <td>14.169086</td>\n",
       "      <td>100.552823</td>\n",
       "      <td>Bangchak</td>\n",
       "      <td>16.0</td>\n",
       "    </tr>\n",
       "    <tr>\n",
       "      <th>8</th>\n",
       "      <td>POINT (100.5530586 14.1689819)</td>\n",
       "      <td>9</td>\n",
       "      <td>14.168982</td>\n",
       "      <td>100.553059</td>\n",
       "      <td>Bangchak III</td>\n",
       "      <td>25.0</td>\n",
       "    </tr>\n",
       "    <tr>\n",
       "      <th>9</th>\n",
       "      <td>POINT (100.1837652 13.9754302)</td>\n",
       "      <td>10</td>\n",
       "      <td>13.975430</td>\n",
       "      <td>100.183765</td>\n",
       "      <td>Sai Thong</td>\n",
       "      <td>6.1</td>\n",
       "    </tr>\n",
       "    <tr>\n",
       "      <th>10</th>\n",
       "      <td>POINT (100.1962857 13.9840662)</td>\n",
       "      <td>11</td>\n",
       "      <td>13.984066</td>\n",
       "      <td>100.196286</td>\n",
       "      <td>Sai Yoi</td>\n",
       "      <td>3.0</td>\n",
       "    </tr>\n",
       "    <tr>\n",
       "      <th>11</th>\n",
       "      <td>POINT (100.200201 14.0004893)</td>\n",
       "      <td>12</td>\n",
       "      <td>14.000489</td>\n",
       "      <td>100.200201</td>\n",
       "      <td>Sai Prapa</td>\n",
       "      <td>7.2</td>\n",
       "    </tr>\n",
       "    <tr>\n",
       "      <th>12</th>\n",
       "      <td>POINT (100.1737777 14.1076288)</td>\n",
       "      <td>13</td>\n",
       "      <td>14.107629</td>\n",
       "      <td>100.173778</td>\n",
       "      <td>Sai Phet</td>\n",
       "      <td>35.9</td>\n",
       "    </tr>\n",
       "    <tr>\n",
       "      <th>13</th>\n",
       "      <td>POINT (100.1432434 14.1367617)</td>\n",
       "      <td>14</td>\n",
       "      <td>14.136762</td>\n",
       "      <td>100.143243</td>\n",
       "      <td>Sai Yai - Solarco</td>\n",
       "      <td>23.8</td>\n",
       "    </tr>\n",
       "    <tr>\n",
       "      <th>14</th>\n",
       "      <td>POINT (100.1506249 14.1383847)</td>\n",
       "      <td>15</td>\n",
       "      <td>14.138385</td>\n",
       "      <td>100.150625</td>\n",
       "      <td>Sai Yai - Solarta</td>\n",
       "      <td>9.7</td>\n",
       "    </tr>\n",
       "    <tr>\n",
       "      <th>15</th>\n",
       "      <td>POINT (100.1377288 14.1542604)</td>\n",
       "      <td>16</td>\n",
       "      <td>14.154260</td>\n",
       "      <td>100.137729</td>\n",
       "      <td>Sai Kyo</td>\n",
       "      <td>11.9</td>\n",
       "    </tr>\n",
       "    <tr>\n",
       "      <th>16</th>\n",
       "      <td>POINT (100.1128729 14.2224476)</td>\n",
       "      <td>17</td>\n",
       "      <td>14.222448</td>\n",
       "      <td>100.112873</td>\n",
       "      <td>Sai Saphan</td>\n",
       "      <td>7.0</td>\n",
       "    </tr>\n",
       "    <tr>\n",
       "      <th>17</th>\n",
       "      <td>POINT (100.1275879 14.2446193)</td>\n",
       "      <td>18</td>\n",
       "      <td>14.244619</td>\n",
       "      <td>100.127588</td>\n",
       "      <td>Sai Tatong</td>\n",
       "      <td>1.0</td>\n",
       "    </tr>\n",
       "    <tr>\n",
       "      <th>18</th>\n",
       "      <td>POINT (100.3022163 14.3219005)</td>\n",
       "      <td>19</td>\n",
       "      <td>14.321900</td>\n",
       "      <td>100.302216</td>\n",
       "      <td>Bang Sai</td>\n",
       "      <td>1.7</td>\n",
       "    </tr>\n",
       "    <tr>\n",
       "      <th>19</th>\n",
       "      <td>POINT (100.2778664 14.2172742)</td>\n",
       "      <td>20</td>\n",
       "      <td>14.217274</td>\n",
       "      <td>100.277866</td>\n",
       "      <td>Sai Sena - Solarta</td>\n",
       "      <td>3.0</td>\n",
       "    </tr>\n",
       "  </tbody>\n",
       "</table>\n",
       "</div>"
      ],
      "text/plain": [
       "                               WKT  Index   latitude   longitude  \\\n",
       "0   POINT (100.1995973 13.5797688)      1  13.579769  100.199597   \n",
       "1   POINT (100.4800113 13.7131258)      2  13.713126  100.480011   \n",
       "2   POINT (100.4474445 13.8199492)      3  13.819949  100.447445   \n",
       "3   POINT (100.5417601 13.8550947)      4  13.855095  100.541760   \n",
       "4   POINT (100.6421705 13.7658514)      5  13.765851  100.642171   \n",
       "5   POINT (100.6798205 13.8282182)      6  13.828218  100.679821   \n",
       "6   POINT (101.0033703 13.5759609)      7  13.575961  101.003370   \n",
       "7   POINT (100.5528226 14.1690859)      8  14.169086  100.552823   \n",
       "8   POINT (100.5530586 14.1689819)      9  14.168982  100.553059   \n",
       "9   POINT (100.1837652 13.9754302)     10  13.975430  100.183765   \n",
       "10  POINT (100.1962857 13.9840662)     11  13.984066  100.196286   \n",
       "11   POINT (100.200201 14.0004893)     12  14.000489  100.200201   \n",
       "12  POINT (100.1737777 14.1076288)     13  14.107629  100.173778   \n",
       "13  POINT (100.1432434 14.1367617)     14  14.136762  100.143243   \n",
       "14  POINT (100.1506249 14.1383847)     15  14.138385  100.150625   \n",
       "15  POINT (100.1377288 14.1542604)     16  14.154260  100.137729   \n",
       "16  POINT (100.1128729 14.2224476)     17  14.222448  100.112873   \n",
       "17  POINT (100.1275879 14.2446193)     18  14.244619  100.127588   \n",
       "18  POINT (100.3022163 14.3219005)     19  14.321900  100.302216   \n",
       "19  POINT (100.2778664 14.2172742)     20  14.217274  100.277866   \n",
       "\n",
       "                      name  capacity(MW)  \n",
       "0             Samut Sakhon           5.0  \n",
       "1      The Mall - Tha Phra           1.0  \n",
       "2             Ratchaphruek           1.0  \n",
       "3   The Mall - Ngamwongwan           1.0  \n",
       "4      The Mall - Bangkapi           1.0  \n",
       "5        Akekamai-Ramintra           1.0  \n",
       "6             Chachoengsao           1.3  \n",
       "7                 Bangchak          16.0  \n",
       "8             Bangchak III          25.0  \n",
       "9                Sai Thong           6.1  \n",
       "10                 Sai Yoi           3.0  \n",
       "11              Sai Prapa            7.2  \n",
       "12                Sai Phet          35.9  \n",
       "13       Sai Yai - Solarco          23.8  \n",
       "14       Sai Yai - Solarta           9.7  \n",
       "15                 Sai Kyo          11.9  \n",
       "16              Sai Saphan           7.0  \n",
       "17              Sai Tatong           1.0  \n",
       "18                Bang Sai           1.7  \n",
       "19      Sai Sena - Solarta           3.0  "
      ]
     },
     "execution_count": 2,
     "metadata": {},
     "output_type": "execute_result"
    }
   ],
   "source": [
    "# Required Libraries\n",
    "import numpy as np\n",
    "import matplotlib.pyplot as plt\n",
    "import pandas as pd\n",
    "from geopy.distance import geodesic\n",
    "import networkx as nx\n",
    "\n",
    "df = pd.read_csv(path+'/database/SolarPowerPlants_TH.csv', delimiter=',', skiprows=1)\n",
    "df"
   ]
  },
  {
   "cell_type": "code",
   "execution_count": 3,
   "id": "d70f7bb9",
   "metadata": {},
   "outputs": [],
   "source": [
    "ind = df['Index']\n",
    "name = df['name']\n",
    "lat = df['latitude']\n",
    "long = df['longitude']\n",
    "capacity = df['capacity(MW)']"
   ]
  },
  {
   "cell_type": "code",
   "execution_count": 4,
   "id": "b42db51f",
   "metadata": {},
   "outputs": [
    {
     "data": {
      "text/plain": [
       "{1: (13.5797688, 100.1995973),\n",
       " 2: (13.7131258, 100.4800113),\n",
       " 3: (13.8199492, 100.4474445),\n",
       " 4: (13.8550947, 100.5417601),\n",
       " 5: (13.7658514, 100.6421705),\n",
       " 6: (13.8282182, 100.6798205),\n",
       " 7: (13.5759609, 101.0033703),\n",
       " 8: (14.1690859, 100.5528226),\n",
       " 9: (14.1689819, 100.5530586),\n",
       " 10: (13.9754302, 100.1837652),\n",
       " 11: (13.9840662, 100.1962857),\n",
       " 12: (14.0004893, 100.200201),\n",
       " 13: (14.1076288, 100.1737777),\n",
       " 14: (14.1367617, 100.1432434),\n",
       " 15: (14.1383847, 100.1506249),\n",
       " 16: (14.1542604, 100.1377288),\n",
       " 17: (14.2224476, 100.1128729),\n",
       " 18: (14.2446193, 100.1275879),\n",
       " 19: (14.3219005, 100.3022163),\n",
       " 20: (14.2172742, 100.2778664)}"
      ]
     },
     "execution_count": 4,
     "metadata": {},
     "output_type": "execute_result"
    }
   ],
   "source": [
    "locations = {ind: (lat, long) for ind, lat, long in zip(ind, lat, long)}\n",
    "locations"
   ]
  },
  {
   "cell_type": "code",
   "execution_count": 5,
   "id": "ed6c3346",
   "metadata": {},
   "outputs": [
    {
     "data": {
      "text/plain": [
       "20"
      ]
     },
     "execution_count": 5,
     "metadata": {},
     "output_type": "execute_result"
    }
   ],
   "source": [
    "(len(locations.keys()))"
   ]
  },
  {
   "cell_type": "code",
   "execution_count": 6,
   "id": "b82fd62e",
   "metadata": {},
   "outputs": [],
   "source": [
    "\n",
    "# noconsumers = 10\n",
    "# c_energy = np.random.default_rng().normal(loc=np.average(capacity), scale=np.std(capacity)/2, size=noconsumers)\n",
    "# # c_energy = np.random.default_rng().integers(low=min(capacity), high=max(capacity), size=10)\n",
    "# c_energy"
   ]
  },
  {
   "cell_type": "code",
   "execution_count": 18,
   "id": "46624fa3",
   "metadata": {},
   "outputs": [],
   "source": [
    "def calculate_distance_mgpp(mglat, mglong, pplat, pplong):    \n",
    "    distance_matrix = np.zeros(len(pplat))\n",
    "    for i in range(len(pplat)):\n",
    "        distance_matrix[i] = geodesic((mglat, mglong), (pplat[i], pplong[i])).km\n",
    "    return distance_matrix\n"
   ]
  },
  {
   "cell_type": "code",
   "execution_count": 8,
   "id": "d2ace828",
   "metadata": {},
   "outputs": [],
   "source": [
    "def calculate_distance_mgmg(mglat, mglong):    \n",
    "    distance_matrix = np.zeros((len(mglat), len(mglat)))\n",
    "    for i in range(len(mglat)):\n",
    "        for j in range(len(mglat)):\n",
    "            if i < j:\n",
    "                distance_matrix[i][j] = geodesic((mglat[i], mglong[i]), (mglat[j], mglong[j])).km\n",
    "    return distance_matrix"
   ]
  },
  {
   "cell_type": "code",
   "execution_count": 9,
   "id": "ec9a3eff",
   "metadata": {},
   "outputs": [],
   "source": [
    "def create_transmission_network(locations, distance_matrix, threshold=45):\n",
    "    G = nx.Graph()\n",
    "    for i, label_i in enumerate(locations.keys()):\n",
    "        for j, label_j in enumerate(locations.keys()):\n",
    "            if i < j:\n",
    "                if distance_matrix[i][j] < threshold: # Only add edge if distance is below threshold\n",
    "                    G.add_edge(label_i, label_j)\n",
    "    return G"
   ]
  },
  {
   "cell_type": "code",
   "execution_count": 10,
   "id": "af0857bc",
   "metadata": {},
   "outputs": [
    {
     "name": "stdout",
     "output_type": "stream",
     "text": [
      "<enumerate object at 0x11ab98310>\n"
     ]
    }
   ],
   "source": [
    "print(enumerate(locations.keys()))"
   ]
  },
  {
   "cell_type": "code",
   "execution_count": 12,
   "id": "addae2cf",
   "metadata": {},
   "outputs": [],
   "source": [
    "# distance_matrix = calculate_distance_matrix(lat, long)\n",
    "\n",
    "# # Create Graph Based on Distance Threshold\n",
    "# G = create_transmission_network(locations, distance_matrix, threshold=45)\n",
    "\n",
    "# # Visualize Graph\n",
    "# fig, ax = plt.subplots()\n",
    "# pos = {label: (lon, lat) for label, (lat, lon) in locations.items()}\n",
    "# nx.draw(G, pos, ax=ax, node_size=100, node_color='blue')\n",
    "# # nx.draw(G, pos, ax=ax, node_size=800, with_labels=True)\n",
    "# # with_labels=True, node_color='lightblue', node_size=800)\n",
    "# plt.title(\"Solar Panel Proximity Graph\")\n",
    "# plt.show()"
   ]
  },
  {
   "cell_type": "code",
   "execution_count": null,
   "id": "53351199",
   "metadata": {},
   "outputs": [],
   "source": [
    "# total_nodes = len(G.nodes(data=True))\n",
    "# total_edges = len(G.edges(data=True))"
   ]
  },
  {
   "cell_type": "code",
   "execution_count": null,
   "id": "e280dc8c",
   "metadata": {},
   "outputs": [],
   "source": [
    "import scipy.sparse as sp\n",
    "from networkx.algorithms import community\n",
    "\n",
    "### create QUBO matrix\n",
    "# define the distance matrix\n",
    "num_powerplants = (len(locations.keys())) ## number of solar power plants\n",
    "pplat, pplong = zip(*locations.values())"
   ]
  },
  {
   "cell_type": "code",
   "execution_count": 14,
   "id": "b62f11bb",
   "metadata": {},
   "outputs": [],
   "source": [
    "# generate choices for microgrid locations\n",
    "num_microgrids = 20 ## number of microgrids\n",
    "random_lat = np.random.uniform(min(lat), max(lat), size=4*num_microgrids)\n",
    "lat_choices = np.random.choice(random_lat, size=num_microgrids, replace=False)\n",
    "\n",
    "random_long = np.random.uniform(min(long), max(long), size=4*num_microgrids)\n",
    "long_choices = np.random.choice(random_long, size=num_microgrids, replace=False)"
   ]
  },
  {
   "cell_type": "code",
   "execution_count": 15,
   "id": "f35de64e",
   "metadata": {},
   "outputs": [
    {
     "data": {
      "image/png": "[encoded data removed]",
      "text/plain": [
       "<Figure size 640x480 with 1 Axes>"
      ]
     },
     "metadata": {},
     "output_type": "display_data"
    }
   ],
   "source": [
    "# Visualize Graph\n",
    "fig, ax = plt.subplots()\n",
    "ax.plot(long, lat, 'o', markersize=5, color='blue')\n",
    "ax.plot(long_choices, lat_choices, 'o', markersize=5, color='red')\n",
    "plt.title(\"Solar Panel Proximity Graph\")\n",
    "plt.show()"
   ]
  },
  {
   "cell_type": "code",
   "execution_count": 16,
   "id": "f497bf6e",
   "metadata": {},
   "outputs": [
    {
     "data": {
      "text/plain": [
       "array([64.46915991, 30.85308571, 29.83216333, 19.25155552, 13.76196422,\n",
       "        5.88825864, 44.29308131, 38.20368723, 38.18152424, 59.19120468,\n",
       "       58.07710857, 58.10670875, 64.81092829, 69.16399808, 68.52597795,\n",
       "       70.5567392 , 76.56533957, 76.52669704, 67.76093535, 61.63692012])"
      ]
     },
     "execution_count": 16,
     "metadata": {},
     "output_type": "execute_result"
    }
   ],
   "source": [
    "i=0\n",
    "mgpp_distance = calculate_distance_mgpp(lat_choices[i], long_choices[i],pplat, pplong)\n",
    "mgpp_distance"
   ]
  },
  {
   "cell_type": "code",
   "execution_count": 17,
   "id": "8c897fa5",
   "metadata": {},
   "outputs": [
    {
     "data": {
      "text/plain": [
       "array([[ 0.        , 53.17234796, 66.32371485, 33.02556399, 31.99189238,\n",
       "        34.63143781, 25.46211619, 14.1568824 ,  9.25791071, 19.78760135,\n",
       "        41.98551582, 20.75584163, 20.83086021, 38.92104567, 22.53131018,\n",
       "        34.13714589, 58.26563484, 41.54546756, 23.53564737, 21.58675173],\n",
       "       [ 0.        ,  0.        , 18.48200548, 48.00332564, 73.7591111 ,\n",
       "        44.7677008 , 74.63231253, 42.19333933, 59.42363565, 72.55518926,\n",
       "        49.13977307, 45.9449753 , 73.8700617 , 54.05442027, 42.99483745,\n",
       "        25.26895105, 59.31423491, 40.60942302, 72.67272898, 32.69327557],\n",
       "       [ 0.        ,  0.        ,  0.        , 66.1104884 , 80.88372564,\n",
       "        47.97187345, 84.44966531, 53.40371751, 73.78967228, 84.53789554,\n",
       "        49.5574281 , 54.05262985, 87.09639793, 72.37766256, 50.8651074 ,\n",
       "        43.09335602, 77.54389338, 41.06414962, 87.79436923, 44.75194309],\n",
       "       [ 0.        ,  0.        ,  0.        ,  0.        , 65.01682844,\n",
       "        58.40213118, 57.30167361, 37.41812282, 30.49711734, 48.35972719,\n",
       "        66.20973646, 47.26982256, 44.5935417 ,  7.4500962 , 47.02053109,\n",
       "        23.07960418, 25.26543984, 61.84432877, 35.89020393, 35.14041407],\n",
       "       [ 0.        ,  0.        ,  0.        ,  0.        ,  0.        ,\n",
       "        33.97233764, 13.04049647, 33.5590373 , 36.64732465, 24.02145376,\n",
       "        36.38177663, 27.81457201, 31.57430493, 70.7507973 , 30.81067019,\n",
       "        62.21382306, 90.24516815, 42.36503406, 43.7018259 , 42.57971568],\n",
       "       [ 0.        ,  0.        ,  0.        ,  0.        ,  0.        ,\n",
       "         0.        , 40.77446975, 22.2439591 , 43.85466362, 45.3140625 ,\n",
       "         7.85589759, 13.9069885 , 50.78330854, 65.7445236 , 12.34617269,\n",
       "        43.82909764, 81.61910617,  8.62216573, 57.61614101, 23.68383673],\n",
       "       [ 0.        ,  0.        ,  0.        ,  0.        ,  0.        ,\n",
       "         0.        ,  0.        , 32.47975255, 27.15967672, 11.49911319,\n",
       "        45.09248727, 30.52291183, 18.9337342 , 62.20288738, 33.70616206,\n",
       "        58.97054055, 82.07829818, 49.39055003, 31.51102543, 42.02396094],\n",
       "       [ 0.        ,  0.        ,  0.        ,  0.        ,  0.        ,\n",
       "         0.        ,  0.        ,  0.        , 23.16719384, 31.13681973,\n",
       "        30.03478361,  9.85175307, 34.0972588 , 44.51369629, 10.0016698 ,\n",
       "        28.85919029, 61.88565574, 28.09729882, 37.63456217,  9.54558139],\n",
       "       [ 0.        ,  0.        ,  0.        ,  0.        ,  0.        ,\n",
       "         0.        ,  0.        ,  0.        ,  0.        , 17.90665171,\n",
       "        51.13404737, 29.95774954, 15.48158196, 35.05672513, 31.78891596,\n",
       "        37.80891781, 54.96073255, 50.79778236, 14.53089215, 29.52540925],\n",
       "       [ 0.        ,  0.        ,  0.        ,  0.        ,  0.        ,\n",
       "         0.        ,  0.        ,  0.        ,  0.        ,  0.        ,\n",
       "        50.99309795, 32.74807218,  7.55306754, 52.53601337, 35.67303423,\n",
       "        53.77352045, 72.47027586, 53.63752922, 20.0148295 , 40.15683123],\n",
       "       [ 0.        ,  0.        ,  0.        ,  0.        ,  0.        ,\n",
       "         0.        ,  0.        ,  0.        ,  0.        ,  0.        ,\n",
       "         0.        , 21.25871908, 56.96093419, 73.56689429, 20.06790331,\n",
       "        50.94596807, 89.22895631,  8.6985441 , 64.58377483, 31.3342314 ],\n",
       "       [ 0.        ,  0.        ,  0.        ,  0.        ,  0.        ,\n",
       "         0.        ,  0.        ,  0.        ,  0.        ,  0.        ,\n",
       "         0.        ,  0.        , 37.5289548 , 54.35124617,  3.1905715 ,\n",
       "        37.13315745, 71.66860146, 21.3843181 , 43.74367659, 16.01020968],\n",
       "       [ 0.        ,  0.        ,  0.        ,  0.        ,  0.        ,\n",
       "         0.        ,  0.        ,  0.        ,  0.        ,  0.        ,\n",
       "         0.        ,  0.        ,  0.        , 47.93332375, 40.2077325 ,\n",
       "        53.19042634, 67.73575194, 58.83110195, 12.85210406, 42.34595603],\n",
       "       [ 0.        ,  0.        ,  0.        ,  0.        ,  0.        ,\n",
       "         0.        ,  0.        ,  0.        ,  0.        ,  0.        ,\n",
       "         0.        ,  0.        ,  0.        ,  0.        , 54.23357506,\n",
       "        29.71259322, 19.9368139 , 69.28641246, 37.76132911, 42.56963567],\n",
       "       [ 0.        ,  0.        ,  0.        ,  0.        ,  0.        ,\n",
       "         0.        ,  0.        ,  0.        ,  0.        ,  0.        ,\n",
       "         0.        ,  0.        ,  0.        ,  0.        ,  0.        ,\n",
       "        35.39659572, 71.0258711 , 19.07098778, 45.85306849, 14.15541543],\n",
       "       [ 0.        ,  0.        ,  0.        ,  0.        ,  0.        ,\n",
       "         0.        ,  0.        ,  0.        ,  0.        ,  0.        ,\n",
       "         0.        ,  0.        ,  0.        ,  0.        ,  0.        ,\n",
       "         0.        , 39.83670342, 44.57007745, 49.45907585, 21.24172314],\n",
       "       [ 0.        ,  0.        ,  0.        ,  0.        ,  0.        ,\n",
       "         0.        ,  0.        ,  0.        ,  0.        ,  0.        ,\n",
       "         0.        ,  0.        ,  0.        ,  0.        ,  0.        ,\n",
       "         0.        ,  0.        , 83.75482297, 57.01896125, 57.93531602],\n",
       "       [ 0.        ,  0.        ,  0.        ,  0.        ,  0.        ,\n",
       "         0.        ,  0.        ,  0.        ,  0.        ,  0.        ,\n",
       "         0.        ,  0.        ,  0.        ,  0.        ,  0.        ,\n",
       "         0.        ,  0.        ,  0.        , 64.92378208, 26.74907507],\n",
       "       [ 0.        ,  0.        ,  0.        ,  0.        ,  0.        ,\n",
       "         0.        ,  0.        ,  0.        ,  0.        ,  0.        ,\n",
       "         0.        ,  0.        ,  0.        ,  0.        ,  0.        ,\n",
       "         0.        ,  0.        ,  0.        ,  0.        , 43.94123491],\n",
       "       [ 0.        ,  0.        ,  0.        ,  0.        ,  0.        ,\n",
       "         0.        ,  0.        ,  0.        ,  0.        ,  0.        ,\n",
       "         0.        ,  0.        ,  0.        ,  0.        ,  0.        ,\n",
       "         0.        ,  0.        ,  0.        ,  0.        ,  0.        ]])"
      ]
     },
     "execution_count": 17,
     "metadata": {},
     "output_type": "execute_result"
    }
   ],
   "source": [
    "mgmg_distance = calculate_distance_mgmg(lat_choices, long_choices)\n",
    "mgmg_distance"
   ]
  },
  {
   "cell_type": "code",
   "execution_count": 19,
   "id": "e36163ad",
   "metadata": {},
   "outputs": [],
   "source": [
    "costCoeff = 10000\n",
    "mgpp_cost = mgpp_distance * costCoeff\n",
    "mgmg_cost = mgmg_distance * costCoeff\n",
    "\n",
    "battery_cost = 38000  # Example fixed cost for battery and inverter installation\n",
    "solar_cost = 15000  # Example fixed cost for solar panel installation\n",
    "fixedCost = battery_cost + solar_cost"
   ]
  },
  {
   "cell_type": "code",
   "execution_count": null,
   "id": "f711ae59",
   "metadata": {},
   "outputs": [],
   "source": []
  }
 ],
 "metadata": {
  "kernelspec": {
   "display_name": "Python 3",
   "language": "python",
   "name": "python3"
  },
  "language_info": {
   "codemirror_mode": {
    "name": "ipython",
    "version": 3
   },
   "file_extension": ".py",
   "mimetype": "text/x-python",
   "name": "python",
   "nbconvert_exporter": "python",
   "pygments_lexer": "ipython3",
   "version": "3.11.1"
  }
 },
 "nbformat": 4,
 "nbformat_minor": 5
}
