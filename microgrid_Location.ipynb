{
 "cells": [
  {
   "cell_type": "code",
   "execution_count": 1,
   "id": "32054105",
   "metadata": {},
   "outputs": [],
   "source": [
    "import os\n",
    "import sys\n",
    "from pathlib import Path\n",
    "path = str(Path(os.getcwd()))\n",
    "# sys.path.insert(1, path+'/amazon-braket-community-detection/src')"
   ]
  },
  {
   "cell_type": "code",
   "execution_count": 4,
   "id": "81ccca0c",
   "metadata": {},
   "outputs": [
    {
     "data": {
      "text/html": [
       "<div>\n",
       "<style scoped>\n",
       "    .dataframe tbody tr th:only-of-type {\n",
       "        vertical-align: middle;\n",
       "    }\n",
       "\n",
       "    .dataframe tbody tr th {\n",
       "        vertical-align: top;\n",
       "    }\n",
       "\n",
       "    .dataframe thead th {\n",
       "        text-align: right;\n",
       "    }\n",
       "</style>\n",
       "<table border=\"1\" class=\"dataframe\">\n",
       "  <thead>\n",
       "    <tr style=\"text-align: right;\">\n",
       "      <th></th>\n",
       "      <th>Number</th>\n",
       "      <th>name</th>\n",
       "      <th>capacity(MW)</th>\n",
       "      <th>latitude</th>\n",
       "      <th>longitude</th>\n",
       "      <th>primary_fuel</th>\n",
       "      <th>estimated_generation_gwh</th>\n",
       "      <th>Estimated cost for 1 year</th>\n",
       "    </tr>\n",
       "  </thead>\n",
       "  <tbody>\n",
       "    <tr>\n",
       "      <th>0</th>\n",
       "      <td>1</td>\n",
       "      <td>Bukit Palong Solar Power Plant</td>\n",
       "      <td>3.0</td>\n",
       "      <td>2.5823</td>\n",
       "      <td>101.8313</td>\n",
       "      <td>Solar</td>\n",
       "      <td>2.419183</td>\n",
       "      <td>2.935532e+05</td>\n",
       "    </tr>\n",
       "    <tr>\n",
       "      <th>1</th>\n",
       "      <td>2</td>\n",
       "      <td>Gebeng Solar Power Plant</td>\n",
       "      <td>10.0</td>\n",
       "      <td>3.9924</td>\n",
       "      <td>103.3682</td>\n",
       "      <td>Solar</td>\n",
       "      <td>8.063943</td>\n",
       "      <td>9.785106e+05</td>\n",
       "    </tr>\n",
       "    <tr>\n",
       "      <th>2</th>\n",
       "      <td>3</td>\n",
       "      <td>Gemas Solar Power Plant</td>\n",
       "      <td>10.2</td>\n",
       "      <td>2.5956</td>\n",
       "      <td>102.6216</td>\n",
       "      <td>Solar</td>\n",
       "      <td>8.225222</td>\n",
       "      <td>9.980809e+05</td>\n",
       "    </tr>\n",
       "    <tr>\n",
       "      <th>3</th>\n",
       "      <td>4</td>\n",
       "      <td>Hijau Solar Power Plant</td>\n",
       "      <td>8.0</td>\n",
       "      <td>2.3409</td>\n",
       "      <td>102.2168</td>\n",
       "      <td>Solar</td>\n",
       "      <td>6.451155</td>\n",
       "      <td>7.828085e+05</td>\n",
       "    </tr>\n",
       "    <tr>\n",
       "      <th>4</th>\n",
       "      <td>5</td>\n",
       "      <td>Jasin</td>\n",
       "      <td>50.0</td>\n",
       "      <td>2.3400</td>\n",
       "      <td>102.3500</td>\n",
       "      <td>Solar</td>\n",
       "      <td>40.319716</td>\n",
       "      <td>4.892553e+06</td>\n",
       "    </tr>\n",
       "    <tr>\n",
       "      <th>5</th>\n",
       "      <td>6</td>\n",
       "      <td>Kuala Langat</td>\n",
       "      <td>50.0</td>\n",
       "      <td>2.7450</td>\n",
       "      <td>101.5600</td>\n",
       "      <td>Solar</td>\n",
       "      <td>40.319716</td>\n",
       "      <td>4.892553e+06</td>\n",
       "    </tr>\n",
       "    <tr>\n",
       "      <th>6</th>\n",
       "      <td>7</td>\n",
       "      <td>Kuala Lumpur Airport Solar Power Plant</td>\n",
       "      <td>19.0</td>\n",
       "      <td>2.7791</td>\n",
       "      <td>101.7144</td>\n",
       "      <td>Solar</td>\n",
       "      <td>15.321492</td>\n",
       "      <td>1.859170e+06</td>\n",
       "    </tr>\n",
       "    <tr>\n",
       "      <th>7</th>\n",
       "      <td>8</td>\n",
       "      <td>Kuala Perlis Solar Power Plant</td>\n",
       "      <td>6.0</td>\n",
       "      <td>6.4105</td>\n",
       "      <td>100.1378</td>\n",
       "      <td>Solar</td>\n",
       "      <td>4.838366</td>\n",
       "      <td>5.871064e+05</td>\n",
       "    </tr>\n",
       "    <tr>\n",
       "      <th>8</th>\n",
       "      <td>9</td>\n",
       "      <td>Kuala Sawah Solar Power Plant</td>\n",
       "      <td>5.3</td>\n",
       "      <td>2.6355</td>\n",
       "      <td>101.9404</td>\n",
       "      <td>Solar</td>\n",
       "      <td>4.273890</td>\n",
       "      <td>5.186106e+05</td>\n",
       "    </tr>\n",
       "    <tr>\n",
       "      <th>9</th>\n",
       "      <td>10</td>\n",
       "      <td>Merchang</td>\n",
       "      <td>50.0</td>\n",
       "      <td>4.9340</td>\n",
       "      <td>103.3360</td>\n",
       "      <td>Solar</td>\n",
       "      <td>40.319716</td>\n",
       "      <td>4.892553e+06</td>\n",
       "    </tr>\n",
       "    <tr>\n",
       "      <th>10</th>\n",
       "      <td>12</td>\n",
       "      <td>Pajam Solar Power Plant</td>\n",
       "      <td>13.0</td>\n",
       "      <td>2.8357</td>\n",
       "      <td>101.8488</td>\n",
       "      <td>Solar</td>\n",
       "      <td>10.483126</td>\n",
       "      <td>1.272064e+06</td>\n",
       "    </tr>\n",
       "    <tr>\n",
       "      <th>11</th>\n",
       "      <td>13</td>\n",
       "      <td>Rimba Terjun Solar Power Plant</td>\n",
       "      <td>2.0</td>\n",
       "      <td>1.4721</td>\n",
       "      <td>103.3925</td>\n",
       "      <td>Solar</td>\n",
       "      <td>1.612789</td>\n",
       "      <td>1.957021e+05</td>\n",
       "    </tr>\n",
       "    <tr>\n",
       "      <th>12</th>\n",
       "      <td>14</td>\n",
       "      <td>Sepang 5</td>\n",
       "      <td>5.0</td>\n",
       "      <td>2.7150</td>\n",
       "      <td>101.7500</td>\n",
       "      <td>Solar</td>\n",
       "      <td>4.031972</td>\n",
       "      <td>4.892553e+05</td>\n",
       "    </tr>\n",
       "  </tbody>\n",
       "</table>\n",
       "</div>"
      ],
      "text/plain": [
       "    Number                                    name  capacity(MW)  latitude  \\\n",
       "0        1          Bukit Palong Solar Power Plant           3.0    2.5823   \n",
       "1        2                Gebeng Solar Power Plant          10.0    3.9924   \n",
       "2        3                 Gemas Solar Power Plant          10.2    2.5956   \n",
       "3        4                 Hijau Solar Power Plant           8.0    2.3409   \n",
       "4        5                                   Jasin          50.0    2.3400   \n",
       "5        6                            Kuala Langat          50.0    2.7450   \n",
       "6        7  Kuala Lumpur Airport Solar Power Plant          19.0    2.7791   \n",
       "7        8          Kuala Perlis Solar Power Plant           6.0    6.4105   \n",
       "8        9           Kuala Sawah Solar Power Plant           5.3    2.6355   \n",
       "9       10                                Merchang          50.0    4.9340   \n",
       "10      12                 Pajam Solar Power Plant          13.0    2.8357   \n",
       "11      13          Rimba Terjun Solar Power Plant           2.0    1.4721   \n",
       "12      14                                Sepang 5           5.0    2.7150   \n",
       "\n",
       "    longitude primary_fuel  estimated_generation_gwh  \\\n",
       "0    101.8313        Solar                  2.419183   \n",
       "1    103.3682        Solar                  8.063943   \n",
       "2    102.6216        Solar                  8.225222   \n",
       "3    102.2168        Solar                  6.451155   \n",
       "4    102.3500        Solar                 40.319716   \n",
       "5    101.5600        Solar                 40.319716   \n",
       "6    101.7144        Solar                 15.321492   \n",
       "7    100.1378        Solar                  4.838366   \n",
       "8    101.9404        Solar                  4.273890   \n",
       "9    103.3360        Solar                 40.319716   \n",
       "10   101.8488        Solar                 10.483126   \n",
       "11   103.3925        Solar                  1.612789   \n",
       "12   101.7500        Solar                  4.031972   \n",
       "\n",
       "    Estimated cost for 1 year  \n",
       "0                2.935532e+05  \n",
       "1                9.785106e+05  \n",
       "2                9.980809e+05  \n",
       "3                7.828085e+05  \n",
       "4                4.892553e+06  \n",
       "5                4.892553e+06  \n",
       "6                1.859170e+06  \n",
       "7                5.871064e+05  \n",
       "8                5.186106e+05  \n",
       "9                4.892553e+06  \n",
       "10               1.272064e+06  \n",
       "11               1.957021e+05  \n",
       "12               4.892553e+05  "
      ]
     },
     "execution_count": 4,
     "metadata": {},
     "output_type": "execute_result"
    }
   ],
   "source": [
    "# Required Libraries\n",
    "import numpy as np\n",
    "import matplotlib.pyplot as plt\n",
    "import pandas as pd\n",
    "from geopy.distance import geodesic\n",
    "import networkx as nx\n",
    "\n",
    "df = pd.read_csv(path+'/database/Peninsula_pp.csv', delimiter=',', skiprows=0)\n",
    "df"
   ]
  },
  {
   "cell_type": "code",
   "execution_count": null,
   "id": "d70f7bb9",
   "metadata": {},
   "outputs": [],
   "source": [
    "ind = df['Number']\n",
    "name = df['name']\n",
    "lat = df['latitude']\n",
    "long = df['longitude']\n",
    "capacity = df['capacity(MW)']\n",
    "penetration = df['Estimated cost for 1 year']"
   ]
  },
  {
   "cell_type": "code",
   "execution_count": 6,
   "id": "b42db51f",
   "metadata": {},
   "outputs": [
    {
     "data": {
      "text/plain": [
       "{1: (2.5823, 101.8313),\n",
       " 2: (3.9924, 103.3682),\n",
       " 3: (2.5956, 102.6216),\n",
       " 4: (2.3409, 102.2168),\n",
       " 5: (2.34, 102.35),\n",
       " 6: (2.745, 101.56),\n",
       " 7: (2.7791, 101.7144),\n",
       " 8: (6.4105, 100.1378),\n",
       " 9: (2.6355, 101.9404),\n",
       " 10: (4.934, 103.336),\n",
       " 12: (2.8357, 101.8488),\n",
       " 13: (1.4721, 103.3925),\n",
       " 14: (2.715, 101.75)}"
      ]
     },
     "execution_count": 6,
     "metadata": {},
     "output_type": "execute_result"
    }
   ],
   "source": [
    "locations = {ind: (lat, long) for ind, lat, long in zip(ind, lat, long)}\n",
    "locations"
   ]
  },
  {
   "cell_type": "code",
   "execution_count": 7,
   "id": "ed6c3346",
   "metadata": {},
   "outputs": [
    {
     "data": {
      "text/plain": [
       "13"
      ]
     },
     "execution_count": 7,
     "metadata": {},
     "output_type": "execute_result"
    }
   ],
   "source": [
    "(len(locations.keys()))"
   ]
  },
  {
   "cell_type": "code",
   "execution_count": null,
   "id": "b82fd62e",
   "metadata": {},
   "outputs": [],
   "source": [
    "\n",
    "# noconsumers = 10\n",
    "# c_energy = np.random.default_rng().normal(loc=np.average(capacity), scale=np.std(capacity)/2, size=noconsumers)\n",
    "# # c_energy = np.random.default_rng().integers(low=min(capacity), high=max(capacity), size=10)\n",
    "# c_energy"
   ]
  },
  {
   "cell_type": "code",
   "execution_count": 8,
   "id": "46624fa3",
   "metadata": {},
   "outputs": [],
   "source": [
    "def calculate_distance_mgpp(mglat, mglong, pplat, pplong):    \n",
    "    distance_matrix = np.zeros(len(pplat))\n",
    "    for i in range(len(pplat)):\n",
    "        distance_matrix[i] = geodesic((mglat, mglong), (pplat[i], pplong[i])).km\n",
    "    return distance_matrix\n"
   ]
  },
  {
   "cell_type": "code",
   "execution_count": 9,
   "id": "d2ace828",
   "metadata": {},
   "outputs": [],
   "source": [
    "def calculate_distance_mgmg(mglat, mglong):    \n",
    "    distance_matrix = np.zeros((len(mglat), len(mglat)))\n",
    "    for i in range(len(mglat)):\n",
    "        for j in range(len(mglat)):\n",
    "            if i < j:\n",
    "                distance_matrix[i][j] = geodesic((mglat[i], mglong[i]), (mglat[j], mglong[j])).km\n",
    "    return distance_matrix"
   ]
  },
  {
   "cell_type": "code",
   "execution_count": 10,
   "id": "ec9a3eff",
   "metadata": {},
   "outputs": [],
   "source": [
    "# def create_transmission_network(locations, distance_matrix, threshold=45):\n",
    "#     G = nx.Graph()\n",
    "#     for i, label_i in enumerate(locations.keys()):\n",
    "#         for j, label_j in enumerate(locations.keys()):\n",
    "#             if i < j:\n",
    "#                 if distance_matrix[i][j] < threshold: # Only add edge if distance is below threshold\n",
    "#                     G.add_edge(label_i, label_j)\n",
    "#     return G"
   ]
  },
  {
   "cell_type": "code",
   "execution_count": 11,
   "id": "af0857bc",
   "metadata": {},
   "outputs": [
    {
     "name": "stdout",
     "output_type": "stream",
     "text": [
      "<enumerate object at 0x7f7f12eb0ec0>\n"
     ]
    }
   ],
   "source": [
    "print(enumerate(locations.keys()))"
   ]
  },
  {
   "cell_type": "code",
   "execution_count": 12,
   "id": "addae2cf",
   "metadata": {},
   "outputs": [],
   "source": [
    "# distance_matrix = calculate_distance_matrix(lat, long)\n",
    "\n",
    "# # Create Graph Based on Distance Threshold\n",
    "# G = create_transmission_network(locations, distance_matrix, threshold=45)\n",
    "\n",
    "# # Visualize Graph\n",
    "# fig, ax = plt.subplots()\n",
    "# pos = {label: (lon, lat) for label, (lat, lon) in locations.items()}\n",
    "# nx.draw(G, pos, ax=ax, node_size=100, node_color='blue')\n",
    "# # nx.draw(G, pos, ax=ax, node_size=800, with_labels=True)\n",
    "# # with_labels=True, node_color='lightblue', node_size=800)\n",
    "# plt.title(\"Solar Panel Proximity Graph\")\n",
    "# plt.show()"
   ]
  },
  {
   "cell_type": "code",
   "execution_count": 13,
   "id": "53351199",
   "metadata": {},
   "outputs": [],
   "source": [
    "# total_nodes = len(G.nodes(data=True))\n",
    "# total_edges = len(G.edges(data=True))"
   ]
  },
  {
   "cell_type": "code",
   "execution_count": 14,
   "id": "e280dc8c",
   "metadata": {},
   "outputs": [],
   "source": [
    "import scipy.sparse as sp\n",
    "from networkx.algorithms import community\n",
    "\n",
    "### create QUBO matrix\n",
    "# define the distance matrix\n",
    "num_powerplants = (len(locations.keys())) ## number of solar power plants\n",
    "pplat, pplong = zip(*locations.values())"
   ]
  },
  {
   "cell_type": "code",
   "execution_count": 25,
   "id": "b62f11bb",
   "metadata": {},
   "outputs": [],
   "source": [
    "# generate choices for microgrid locations\n",
    "num_microgrids = 20 ## number of microgrids\n",
    "random = np.random.default_rng(seed=45)\n",
    "random_lat = random.uniform(min(lat), max(lat), size=4*num_microgrids)\n",
    "lat_choices = random.choice(random_lat, size=num_microgrids, replace=False)\n",
    "\n",
    "random_long = random.uniform(min(long), max(long), size=4*num_microgrids)\n",
    "long_choices = random.choice(random_long, size=num_microgrids, replace=False)"
   ]
  },
  {
   "cell_type": "code",
   "execution_count": 26,
   "id": "f35de64e",
   "metadata": {},
   "outputs": [
    {
     "data": {
      "image/png": "[encoded data removed]",
      "text/plain": [
       "<Figure size 640x480 with 1 Axes>"
      ]
     },
     "metadata": {},
     "output_type": "display_data"
    }
   ],
   "source": [
    "# Visualize Graph\n",
    "fig, ax = plt.subplots()\n",
    "ax.plot(long, lat, 'o', markersize=5, color='blue')\n",
    "ax.plot(long_choices, lat_choices, 'o', markersize=5, color='red')\n",
    "plt.title(\"Solar Panel Proximity Graph\")\n",
    "plt.show()"
   ]
  },
  {
   "cell_type": "code",
   "execution_count": 22,
   "id": "f497bf6e",
   "metadata": {},
   "outputs": [
    {
     "data": {
      "text/plain": [
       "array([5235.16512456, 2071.40522355, 3742.54389198, 1858.82005563,\n",
       "       2597.5958179 , 3152.81997222, 3126.345144  , 3100.45011568,\n",
       "       3391.49418581, 3861.31079696, 3381.18465818, 3142.1802956 ,\n",
       "       1929.91437721, 2540.72542745, 4120.61353282, 2090.03357763,\n",
       "       3775.08086024, 4269.34581697, 2876.54170764, 2772.37989782])"
      ]
     },
     "execution_count": 22,
     "metadata": {},
     "output_type": "execute_result"
    }
   ],
   "source": [
    "mgpp_distance = np.zeros(num_microgrids)\n",
    "for i in range(num_microgrids):\n",
    "    mgpp_distance[i] = np.sum(calculate_distance_mgpp(lat_choices[i], long_choices[i],pplat, pplong))\n",
    "mgpp_distance"
   ]
  },
  {
   "cell_type": "code",
   "execution_count": 23,
   "id": "8c897fa5",
   "metadata": {},
   "outputs": [
    {
     "data": {
      "text/plain": [
       "array([[  0.        , 474.43897796, 181.99217627, 359.54143009,\n",
       "        344.81084608, 329.48510906, 209.29347207, 333.24362739,\n",
       "        500.39262117, 178.29967535, 267.10082372, 351.02779404,\n",
       "        464.90888112, 555.70839111, 118.06875953, 333.10256412,\n",
       "        242.1801934 , 283.67409149, 287.33073916, 398.55729921],\n",
       "       [  0.        ,   0.        , 305.40596583, 153.14390304,\n",
       "        259.23248065, 193.15665065, 265.57861831, 316.93520999,\n",
       "        127.4316449 , 370.88002075, 338.71343058, 180.89517344,\n",
       "         13.39798003, 131.26135226, 382.70039584, 141.53567067,\n",
       "        374.17284058, 423.3464216 , 285.37369271, 278.03949554],\n",
       "       [  0.        ,   0.        ,   0.        , 224.92346371,\n",
       "        265.4290402 , 147.60729628,  73.03745953, 286.00607327,\n",
       "        318.67416493, 186.62707943, 240.8046026 , 169.15323768,\n",
       "        297.7784694 , 405.7197211 , 142.54271612, 170.21820882,\n",
       "        243.9339835 , 307.15563205, 223.8517294 , 323.74109839],\n",
       "       [  0.        ,   0.        ,   0.        ,   0.        ,\n",
       "        112.01286655, 195.92319106, 159.7098175 , 167.95843672,\n",
       "        253.64442076, 226.33894868, 185.66203226, 200.42713712,\n",
       "        139.93646101, 197.17719847, 252.04557401,  82.70498647,\n",
       "        221.82345636, 270.28036653, 132.2497768 , 148.0532207 ],\n",
       "       [  0.        ,   0.        ,   0.        ,   0.        ,\n",
       "          0.        , 289.65531793, 192.48538551,  57.799698  ,\n",
       "        365.62560525, 175.59561839, 100.21243801, 298.99939744,\n",
       "        245.83714451, 263.07182971, 226.85597822, 182.35968803,\n",
       "        140.28759739, 171.9567252 ,  58.23667827,  58.5844334 ],\n",
       "       [  0.        ,   0.        ,   0.        ,   0.        ,\n",
       "          0.        ,   0.        , 154.61880568, 333.40055613,\n",
       "        173.08804762, 297.26159637, 315.32264719,  21.54674203,\n",
       "        190.59629288, 317.13642586, 274.84430417, 113.21934252,\n",
       "        335.12807331, 398.14694519, 275.53646237, 338.51501738],\n",
       "       [  0.        ,   0.        ,   0.        ,   0.        ,\n",
       "          0.        ,   0.        ,   0.        , 215.7513556 ,\n",
       "        307.25695074, 143.09202176, 177.04801533, 173.87827452,\n",
       "        255.76517656, 350.31961207, 124.96520648, 124.04941958,\n",
       "        187.96315187, 252.16779627, 153.19241288, 250.73057929],\n",
       "       [  0.        ,   0.        ,   0.        ,   0.        ,\n",
       "          0.        ,   0.        ,   0.        ,   0.        ,\n",
       "        421.30027003, 155.58783682,  67.29726091, 344.92007586,\n",
       "        303.53764112, 316.24413349, 216.75221725, 231.90459793,\n",
       "        102.42419448, 118.65600742,  62.5823401 ,  75.5694673 ],\n",
       "       [  0.        ,   0.        ,   0.        ,   0.        ,\n",
       "          0.        ,   0.        ,   0.        ,   0.        ,\n",
       "          0.        , 438.86238077, 428.63112215, 152.11275466,\n",
       "        137.73813851, 245.61837518, 432.22062971, 201.4377731 ,\n",
       "        458.77101214, 515.44749602, 378.11695867, 394.64270901],\n",
       "       [  0.        ,   0.        ,   0.        ,   0.        ,\n",
       "          0.        ,   0.        ,   0.        ,   0.        ,\n",
       "          0.        ,   0.        ,  88.87331513, 315.85122206,\n",
       "        358.69638034, 419.00827024,  66.20596931, 239.57487889,\n",
       "         67.65152964, 124.33323377, 117.64925558, 224.46216511],\n",
       "       [  0.        ,   0.        ,   0.        ,   0.        ,\n",
       "          0.        ,   0.        ,   0.        ,   0.        ,\n",
       "          0.        ,   0.        ,   0.        , 330.19449037,\n",
       "        325.55872989, 360.89499596, 152.16882723, 228.94448746,\n",
       "         40.10497894,  86.82389601,  53.5359729 , 139.80265385],\n",
       "       [  0.        ,   0.        ,   0.        ,   0.        ,\n",
       "          0.        ,   0.        ,   0.        ,   0.        ,\n",
       "          0.        ,   0.        ,   0.        ,   0.        ,\n",
       "        179.62866494, 307.82858293, 295.31300158, 118.57595114,\n",
       "        351.53162526, 414.03260933, 288.51703567, 345.73736196],\n",
       "       [  0.        ,   0.        ,   0.        ,   0.        ,\n",
       "          0.        ,   0.        ,   0.        ,   0.        ,\n",
       "          0.        ,   0.        ,   0.        ,   0.        ,\n",
       "          0.        , 129.18638958, 371.67834747, 131.80712321,\n",
       "        361.17202114, 410.07589587, 272.18386706, 265.00061016],\n",
       "       [  0.        ,   0.        ,   0.        ,   0.        ,\n",
       "          0.        ,   0.        ,   0.        ,   0.        ,\n",
       "          0.        ,   0.        ,   0.        ,   0.        ,\n",
       "          0.        ,   0.        , 449.14900185, 235.97836081,\n",
       "        400.64320295, 434.30636205, 310.03968198, 252.83911093],\n",
       "       [  0.        ,   0.        ,   0.        ,   0.        ,\n",
       "          0.        ,   0.        ,   0.        ,   0.        ,\n",
       "          0.        ,   0.        ,   0.        ,   0.        ,\n",
       "          0.        ,   0.        ,   0.        , 243.06065107,\n",
       "        133.81544445, 187.42001506, 169.26545607, 280.55102508],\n",
       "       [  0.        ,   0.        ,   0.        ,   0.        ,\n",
       "          0.        ,   0.        ,   0.        ,   0.        ,\n",
       "          0.        ,   0.        ,   0.        ,   0.        ,\n",
       "          0.        ,   0.        ,   0.        ,   0.        ,\n",
       "        257.57257299, 315.61313521, 180.86488037, 227.2476842 ],\n",
       "       [  0.        ,   0.        ,   0.        ,   0.        ,\n",
       "          0.        ,   0.        ,   0.        ,   0.        ,\n",
       "          0.        ,   0.        ,   0.        ,   0.        ,\n",
       "          0.        ,   0.        ,   0.        ,   0.        ,\n",
       "          0.        ,  64.21589777,  91.48623975, 177.27370387],\n",
       "       [  0.        ,   0.        ,   0.        ,   0.        ,\n",
       "          0.        ,   0.        ,   0.        ,   0.        ,\n",
       "          0.        ,   0.        ,   0.        ,   0.        ,\n",
       "          0.        ,   0.        ,   0.        ,   0.        ,\n",
       "          0.        ,   0.        , 138.55358261, 190.7391439 ],\n",
       "       [  0.        ,   0.        ,   0.        ,   0.        ,\n",
       "          0.        ,   0.        ,   0.        ,   0.        ,\n",
       "          0.        ,   0.        ,   0.        ,   0.        ,\n",
       "          0.        ,   0.        ,   0.        ,   0.        ,\n",
       "          0.        ,   0.        ,   0.        , 111.79166491],\n",
       "       [  0.        ,   0.        ,   0.        ,   0.        ,\n",
       "          0.        ,   0.        ,   0.        ,   0.        ,\n",
       "          0.        ,   0.        ,   0.        ,   0.        ,\n",
       "          0.        ,   0.        ,   0.        ,   0.        ,\n",
       "          0.        ,   0.        ,   0.        ,   0.        ]])"
      ]
     },
     "execution_count": 23,
     "metadata": {},
     "output_type": "execute_result"
    }
   ],
   "source": [
    "mgmg_distance = calculate_distance_mgmg(lat_choices, long_choices)\n",
    "mgmg_distance"
   ]
  },
  {
   "cell_type": "code",
   "execution_count": 27,
   "id": "e36163ad",
   "metadata": {},
   "outputs": [],
   "source": [
    "costCoeff = 10000\n",
    "mgpp_cost = mgpp_distance * costCoeff\n",
    "mgmg_cost = mgmg_distance * costCoeff\n",
    "\n",
    "battery_cost = 38000  # Example fixed cost for battery and inverter installation\n",
    "land_cost = 13000  # Example fixed cost for land acquisition\n",
    "fixedCost = battery_cost + land_cost"
   ]
  },
  {
   "cell_type": "code",
   "execution_count": 28,
   "id": "77174273",
   "metadata": {},
   "outputs": [],
   "source": [
    "def add_count_constraint(K, delta, N):\n",
    "    \"\"\"\n",
    "    Adds a count constraint penalty to QUBO: (sum x_i - K)^2\n",
    "    Args:\n",
    "        Q: dict of QUBO terms (modified in-place)\n",
    "        K: number of locations to select\n",
    "        delta: penalty strength\n",
    "        N: total number of candidate locations\n",
    "    \"\"\"\n",
    "    Q = np.zeros((N, N))\n",
    "    for i in range(N):\n",
    "        Q[(i, i)] += delta * (1 - 2 * K)\n",
    "        for j in range(i + 1, N):\n",
    "            Q[(i, j)] += 2 * delta\n",
    "    return Q\n"
   ]
  },
  {
   "cell_type": "code",
   "execution_count": 37,
   "id": "66ea0eee",
   "metadata": {},
   "outputs": [
    {
     "data": {
      "text/plain": [
       "array([[-900000.,  200000.,  200000.,  200000.,  200000.,  200000.,\n",
       "         200000.,  200000.,  200000.,  200000.,  200000.,  200000.,\n",
       "         200000.,  200000.,  200000.,  200000.,  200000.,  200000.,\n",
       "         200000.,  200000.],\n",
       "       [      0., -900000.,  200000.,  200000.,  200000.,  200000.,\n",
       "         200000.,  200000.,  200000.,  200000.,  200000.,  200000.,\n",
       "         200000.,  200000.,  200000.,  200000.,  200000.,  200000.,\n",
       "         200000.,  200000.],\n",
       "       [      0.,       0., -900000.,  200000.,  200000.,  200000.,\n",
       "         200000.,  200000.,  200000.,  200000.,  200000.,  200000.,\n",
       "         200000.,  200000.,  200000.,  200000.,  200000.,  200000.,\n",
       "         200000.,  200000.],\n",
       "       [      0.,       0.,       0., -900000.,  200000.,  200000.,\n",
       "         200000.,  200000.,  200000.,  200000.,  200000.,  200000.,\n",
       "         200000.,  200000.,  200000.,  200000.,  200000.,  200000.,\n",
       "         200000.,  200000.],\n",
       "       [      0.,       0.,       0.,       0., -900000.,  200000.,\n",
       "         200000.,  200000.,  200000.,  200000.,  200000.,  200000.,\n",
       "         200000.,  200000.,  200000.,  200000.,  200000.,  200000.,\n",
       "         200000.,  200000.],\n",
       "       [      0.,       0.,       0.,       0.,       0., -900000.,\n",
       "         200000.,  200000.,  200000.,  200000.,  200000.,  200000.,\n",
       "         200000.,  200000.,  200000.,  200000.,  200000.,  200000.,\n",
       "         200000.,  200000.],\n",
       "       [      0.,       0.,       0.,       0.,       0.,       0.,\n",
       "        -900000.,  200000.,  200000.,  200000.,  200000.,  200000.,\n",
       "         200000.,  200000.,  200000.,  200000.,  200000.,  200000.,\n",
       "         200000.,  200000.],\n",
       "       [      0.,       0.,       0.,       0.,       0.,       0.,\n",
       "              0., -900000.,  200000.,  200000.,  200000.,  200000.,\n",
       "         200000.,  200000.,  200000.,  200000.,  200000.,  200000.,\n",
       "         200000.,  200000.],\n",
       "       [      0.,       0.,       0.,       0.,       0.,       0.,\n",
       "              0.,       0., -900000.,  200000.,  200000.,  200000.,\n",
       "         200000.,  200000.,  200000.,  200000.,  200000.,  200000.,\n",
       "         200000.,  200000.],\n",
       "       [      0.,       0.,       0.,       0.,       0.,       0.,\n",
       "              0.,       0.,       0., -900000.,  200000.,  200000.,\n",
       "         200000.,  200000.,  200000.,  200000.,  200000.,  200000.,\n",
       "         200000.,  200000.],\n",
       "       [      0.,       0.,       0.,       0.,       0.,       0.,\n",
       "              0.,       0.,       0.,       0., -900000.,  200000.,\n",
       "         200000.,  200000.,  200000.,  200000.,  200000.,  200000.,\n",
       "         200000.,  200000.],\n",
       "       [      0.,       0.,       0.,       0.,       0.,       0.,\n",
       "              0.,       0.,       0.,       0.,       0., -900000.,\n",
       "         200000.,  200000.,  200000.,  200000.,  200000.,  200000.,\n",
       "         200000.,  200000.],\n",
       "       [      0.,       0.,       0.,       0.,       0.,       0.,\n",
       "              0.,       0.,       0.,       0.,       0.,       0.,\n",
       "        -900000.,  200000.,  200000.,  200000.,  200000.,  200000.,\n",
       "         200000.,  200000.],\n",
       "       [      0.,       0.,       0.,       0.,       0.,       0.,\n",
       "              0.,       0.,       0.,       0.,       0.,       0.,\n",
       "              0., -900000.,  200000.,  200000.,  200000.,  200000.,\n",
       "         200000.,  200000.],\n",
       "       [      0.,       0.,       0.,       0.,       0.,       0.,\n",
       "              0.,       0.,       0.,       0.,       0.,       0.,\n",
       "              0.,       0., -900000.,  200000.,  200000.,  200000.,\n",
       "         200000.,  200000.],\n",
       "       [      0.,       0.,       0.,       0.,       0.,       0.,\n",
       "              0.,       0.,       0.,       0.,       0.,       0.,\n",
       "              0.,       0.,       0., -900000.,  200000.,  200000.,\n",
       "         200000.,  200000.],\n",
       "       [      0.,       0.,       0.,       0.,       0.,       0.,\n",
       "              0.,       0.,       0.,       0.,       0.,       0.,\n",
       "              0.,       0.,       0.,       0., -900000.,  200000.,\n",
       "         200000.,  200000.],\n",
       "       [      0.,       0.,       0.,       0.,       0.,       0.,\n",
       "              0.,       0.,       0.,       0.,       0.,       0.,\n",
       "              0.,       0.,       0.,       0.,       0., -900000.,\n",
       "         200000.,  200000.],\n",
       "       [      0.,       0.,       0.,       0.,       0.,       0.,\n",
       "              0.,       0.,       0.,       0.,       0.,       0.,\n",
       "              0.,       0.,       0.,       0.,       0.,       0.,\n",
       "        -900000.,  200000.],\n",
       "       [      0.,       0.,       0.,       0.,       0.,       0.,\n",
       "              0.,       0.,       0.,       0.,       0.,       0.,\n",
       "              0.,       0.,       0.,       0.,       0.,       0.,\n",
       "              0., -900000.]])"
      ]
     },
     "execution_count": 37,
     "metadata": {},
     "output_type": "execute_result"
    }
   ],
   "source": [
    "## budget constraint\n",
    "panaltyTerm = add_count_constraint(5, 100000, num_microgrids)\n",
    "panaltyTerm\n"
   ]
  },
  {
   "cell_type": "code",
   "execution_count": 46,
   "id": "8e20b393",
   "metadata": {},
   "outputs": [
    {
     "data": {
      "text/plain": [
       "array([52351651.24560628, 20714052.23551929, 37425438.9197676 ,\n",
       "       18588200.55632364, 25975958.17900284, 31528199.72218921,\n",
       "       31263451.44001994, 31004501.1568433 , 33914941.85810149,\n",
       "       38613107.96960946, 33811846.58178946, 31421802.95603348,\n",
       "       19299143.77210243, 25407254.27448013, 41206135.32822228,\n",
       "       20900335.77629681, 37750808.60239761, 42693458.16965186,\n",
       "       28765417.07635994, 27723798.97824029])"
      ]
     },
     "execution_count": 46,
     "metadata": {},
     "output_type": "execute_result"
    }
   ],
   "source": [
    "mgpp_cost"
   ]
  },
  {
   "cell_type": "code",
   "execution_count": 57,
   "id": "d16c545c",
   "metadata": {},
   "outputs": [
    {
     "data": {
      "text/plain": [
       "1742501.6365846156"
      ]
     },
     "execution_count": 57,
     "metadata": {},
     "output_type": "execute_result"
    }
   ],
   "source": [
    "np.average(np.array(penetration))"
   ]
  },
  {
   "cell_type": "code",
   "execution_count": 58,
   "id": "8daf9315",
   "metadata": {},
   "outputs": [
    {
     "data": {
      "text/plain": [
       "22652521.2756"
      ]
     },
     "execution_count": 58,
     "metadata": {},
     "output_type": "execute_result"
    }
   ],
   "source": [
    "sum(np.array(penetration))"
   ]
  },
  {
   "cell_type": "code",
   "execution_count": 61,
   "id": "f711ae59",
   "metadata": {},
   "outputs": [],
   "source": [
    "### QUBO matrix\n",
    "term1 = (fixedCost*np.ones((1, num_microgrids))) - (sum(np.array(penetration)))*np.ones((1, num_microgrids)) + mgpp_cost\n",
    "linearTerm = np.zeros((num_microgrids, num_microgrids))\n",
    "for i in range(num_microgrids):\n",
    "    linearTerm[i,i] = term1[0,i]\n",
    "quandTerm = mgmg_cost\n",
    "\n",
    "qubo_matrix = linearTerm + quandTerm + panaltyTerm"
   ]
  },
  {
   "cell_type": "code",
   "execution_count": 62,
   "id": "0b2a3302",
   "metadata": {},
   "outputs": [
    {
     "data": {
      "text/plain": [
       "array([[28850129.97000628,  4944389.77961912,  2019921.76266059,\n",
       "         3795414.30091116,  3648108.46077349,  3494851.09063751,\n",
       "         2292934.72065946,  3532436.27390516,  5203926.21166013,\n",
       "         1982996.75349264,  2871008.23723226,  3710277.94044724,\n",
       "         4849088.81118743,  5757083.91114101,  1380687.59528399,\n",
       "         3531025.64118459,  2621801.93397259,  3036740.91485226,\n",
       "         3073307.39159241,  4185572.99209836],\n",
       "       [       0.        , -2787469.04008071,  3254059.65829595,\n",
       "         1731439.03037949,  2792324.80654259,  2131566.50651133,\n",
       "         2855786.18309045,  3369352.09991853,  1474316.4489769 ,\n",
       "         3908800.20747158,  3587134.30582728,  2008951.73439954,\n",
       "          333979.80033436,  1512613.52258039,  4027003.95837261,\n",
       "         1615356.70666206,  3941728.40582065,  4433464.21601129,\n",
       "         3053736.92708567,  2980394.95535929],\n",
       "       [       0.        ,        0.        , 13923917.64416759,\n",
       "         2449234.63706643,  2854290.4020083 ,  1676072.96280352,\n",
       "          930374.59534247,  3060060.7327181 ,  3386741.64926944,\n",
       "         2066270.79429452,  2608046.0260181 ,  1891532.37683966,\n",
       "         3177784.69396337,  4257197.21097842,  1625427.16117425,\n",
       "         1902182.08815484,  2639339.83502186,  3271556.32054127,\n",
       "         2438517.29404092,  3437410.98387044],\n",
       "       [       0.        ,        0.        ,        0.        ,\n",
       "        -4913320.71927636,  1320128.66554821,  2159231.91057102,\n",
       "         1797098.17495711,  1879584.36718681,  2736444.2075973 ,\n",
       "         2463389.48681325,  2056620.32255583,  2204271.37120363,\n",
       "         1599364.61012639,  2171771.98473791,  2720455.74012817,\n",
       "         1027049.86474243,  2418234.56357612,  2902803.66534743,\n",
       "         1522497.76803443,  1680532.20695834],\n",
       "       [       0.        ,        0.        ,        0.        ,\n",
       "               0.        ,  2474436.90340284,  3096553.1793234 ,\n",
       "         2124853.85513276,   777996.97997864,  3856256.05245209,\n",
       "         1955956.1839062 ,  1202124.38013518,  3189993.97435622,\n",
       "         2658371.44508003,  2830718.29709901,  2468559.78219494,\n",
       "         2023596.88034457,  1602875.97391986,  1919567.25199245,\n",
       "          782366.78269067,   785844.3339546 ],\n",
       "       [       0.        ,        0.        ,        0.        ,\n",
       "               0.        ,        0.        ,  8026678.44658921,\n",
       "         1746188.05675706,  3534005.56129534,  1930880.47621928,\n",
       "         3172615.96367931,  3353226.47185443,   415467.42034286,\n",
       "         2105962.92878587,  3371364.25864022,  2948443.04172603,\n",
       "         1332193.42521004,  3551280.73310222,  4181469.45190685,\n",
       "         2955364.62372979,  3585150.17380987],\n",
       "       [       0.        ,        0.        ,        0.        ,\n",
       "               0.        ,        0.        ,        0.        ,\n",
       "         7761930.16441993,  2357513.55601066,  3272569.50735707,\n",
       "         1630920.21759349,  1970480.15331836,  1938782.74515718,\n",
       "         2757651.76556553,  3703196.12066869,  1449652.06484637,\n",
       "         1440494.19581926,  2079631.51865935,  2721677.96274313,\n",
       "         1731924.12879005,  2707305.79289079],\n",
       "       [       0.        ,        0.        ,        0.        ,\n",
       "               0.        ,        0.        ,        0.        ,\n",
       "               0.        ,  7502979.8812433 ,  4413002.70026741,\n",
       "         1755878.36819344,   872972.60909734,  3649200.75858488,\n",
       "         3235376.41115046,  3362441.33489027,  2367522.17251921,\n",
       "         2519045.97928501,  1224241.94482254,  1386560.07417905,\n",
       "          825823.40100082,   955694.67304261],\n",
       "       [       0.        ,        0.        ,        0.        ,\n",
       "               0.        ,        0.        ,        0.        ,\n",
       "               0.        ,        0.        , 10413420.58250149,\n",
       "         4588623.80774464,  4486311.22149851,  1721127.54656118,\n",
       "         1577381.38506244,  2656183.75180313,  4522206.29709038,\n",
       "         2214377.73100707,  4787710.1213693 ,  5354474.96019294,\n",
       "         3981169.58673447,  4146427.09006647],\n",
       "       [       0.        ,        0.        ,        0.        ,\n",
       "               0.        ,        0.        ,        0.        ,\n",
       "               0.        ,        0.        ,        0.        ,\n",
       "        15111586.69400946,  1088733.15130489,  3358512.22061602,\n",
       "         3786963.80335727,  4390082.70236194,   862059.693083  ,\n",
       "         2595748.78894896,   876515.2964009 ,  1443332.33772649,\n",
       "         1376492.55579328,  2444621.65105624],\n",
       "       [       0.        ,        0.        ,        0.        ,\n",
       "               0.        ,        0.        ,        0.        ,\n",
       "               0.        ,        0.        ,        0.        ,\n",
       "               0.        , 10310325.30618946,  3501944.90371197,\n",
       "         3455587.29894316,  3808949.95963445,  1721688.27226183,\n",
       "         2489444.87458876,   601049.78938766,  1068238.96009054,\n",
       "          735359.72902146,  1598026.53845556],\n",
       "       [       0.        ,        0.        ,        0.        ,\n",
       "               0.        ,        0.        ,        0.        ,\n",
       "               0.        ,        0.        ,        0.        ,\n",
       "               0.        ,        0.        ,  7920281.68043347,\n",
       "         1996286.64937771,  3278285.82931846,  3153130.01575254,\n",
       "         1385759.51141444,  3715316.25263645,  4340326.0932967 ,\n",
       "         3085170.35668349,  3657373.61961654],\n",
       "       [       0.        ,        0.        ,        0.        ,\n",
       "               0.        ,        0.        ,        0.        ,\n",
       "               0.        ,        0.        ,        0.        ,\n",
       "               0.        ,        0.        ,        0.        ,\n",
       "        -4202377.50349757,  1491863.89581919,  3916783.47468912,\n",
       "         1518071.2321381 ,  3811720.21144987,  4300758.95874679,\n",
       "         2921838.67060366,  2850006.10163207],\n",
       "       [       0.        ,        0.        ,        0.        ,\n",
       "               0.        ,        0.        ,        0.        ,\n",
       "               0.        ,        0.        ,        0.        ,\n",
       "               0.        ,        0.        ,        0.        ,\n",
       "               0.        ,  1905732.99888013,  4691490.01847239,\n",
       "         2559783.60814735,  4206432.02954901,  4543063.62053354,\n",
       "         3300396.81978507,  2728391.10925855],\n",
       "       [       0.        ,        0.        ,        0.        ,\n",
       "               0.        ,        0.        ,        0.        ,\n",
       "               0.        ,        0.        ,        0.        ,\n",
       "               0.        ,        0.        ,        0.        ,\n",
       "               0.        ,        0.        , 17704614.05262228,\n",
       "         2630606.51068662,  1538154.4444568 ,  2074200.15057657,\n",
       "         1892654.56073967,  3005510.25080555],\n",
       "       [       0.        ,        0.        ,        0.        ,\n",
       "               0.        ,        0.        ,        0.        ,\n",
       "               0.        ,        0.        ,        0.        ,\n",
       "               0.        ,        0.        ,        0.        ,\n",
       "               0.        ,        0.        ,        0.        ,\n",
       "        -2601185.4993032 ,  2775725.72990102,  3356131.35210559,\n",
       "         2008648.80367583,  2472476.84200893],\n",
       "       [       0.        ,        0.        ,        0.        ,\n",
       "               0.        ,        0.        ,        0.        ,\n",
       "               0.        ,        0.        ,        0.        ,\n",
       "               0.        ,        0.        ,        0.        ,\n",
       "               0.        ,        0.        ,        0.        ,\n",
       "               0.        , 14249287.32679761,   842158.97772235,\n",
       "         1114862.3974792 ,  1972737.03868336],\n",
       "       [       0.        ,        0.        ,        0.        ,\n",
       "               0.        ,        0.        ,        0.        ,\n",
       "               0.        ,        0.        ,        0.        ,\n",
       "               0.        ,        0.        ,        0.        ,\n",
       "               0.        ,        0.        ,        0.        ,\n",
       "               0.        ,        0.        , 19191936.89405186,\n",
       "         1585535.82613551,  2107391.43897147],\n",
       "       [       0.        ,        0.        ,        0.        ,\n",
       "               0.        ,        0.        ,        0.        ,\n",
       "               0.        ,        0.        ,        0.        ,\n",
       "               0.        ,        0.        ,        0.        ,\n",
       "               0.        ,        0.        ,        0.        ,\n",
       "               0.        ,        0.        ,        0.        ,\n",
       "         5263895.80075993,  1317916.6490552 ],\n",
       "       [       0.        ,        0.        ,        0.        ,\n",
       "               0.        ,        0.        ,        0.        ,\n",
       "               0.        ,        0.        ,        0.        ,\n",
       "               0.        ,        0.        ,        0.        ,\n",
       "               0.        ,        0.        ,        0.        ,\n",
       "               0.        ,        0.        ,        0.        ,\n",
       "               0.        ,  4222277.70264029]])"
      ]
     },
     "execution_count": 62,
     "metadata": {},
     "output_type": "execute_result"
    }
   ],
   "source": [
    "qubo_matrix"
   ]
  },
  {
   "cell_type": "code",
   "execution_count": 63,
   "id": "e7a9eb7c",
   "metadata": {},
   "outputs": [],
   "source": [
    "from autoqubo import SamplingCompiler, Utils\n",
    "import timeit"
   ]
  },
  {
   "cell_type": "code",
   "execution_count": 64,
   "id": "2ac0afa7",
   "metadata": {},
   "outputs": [
    {
     "name": "stdout",
     "output_type": "stream",
     "text": [
      "Time:  0.03355575000000499\n"
     ]
    }
   ],
   "source": [
    "start = timeit.default_timer()\n",
    "\n",
    "solutions, energy_values = Utils.solve(qubo_matrix)\n",
    "\n",
    "stop = timeit.default_timer()\n",
    "print('Time: ', stop - start)"
   ]
  },
  {
   "cell_type": "code",
   "execution_count": 65,
   "id": "d057e81c",
   "metadata": {},
   "outputs": [
    {
     "name": "stdout",
     "output_type": "stream",
     "text": [
      "x=[0, 1, 0, 1, 0, 0, 0, 0, 0, 0, 0, 0, 1, 0, 0, 0, 0, 0, 0, 0], energy=-8238383.8220144035\n"
     ]
    }
   ],
   "source": [
    "for s, e in zip(solutions, energy_values):\n",
    "    print(f\"x={s}, energy={e}\")"
   ]
  },
  {
   "cell_type": "code",
   "execution_count": 66,
   "id": "8a01cd55",
   "metadata": {},
   "outputs": [
    {
     "data": {
      "text/plain": [
       "3"
      ]
     },
     "execution_count": 66,
     "metadata": {},
     "output_type": "execute_result"
    }
   ],
   "source": [
    "sum(solutions[0])"
   ]
  },
  {
   "cell_type": "code",
   "execution_count": 67,
   "id": "2383a273",
   "metadata": {},
   "outputs": [
    {
     "name": "stdout",
     "output_type": "stream",
     "text": [
      "New QUBO solution found with objective 0.0\n",
      "New QUBO solution found with objective -8238383.8220144035\n"
     ]
    },
    {
     "name": "stdout",
     "output_type": "stream",
     "text": [
      "Time:  0.13993525000000773\n"
     ]
    }
   ],
   "source": [
    "from gurobi_optimods.qubo import solve_qubo\n",
    "\n",
    "\n",
    "start = timeit.default_timer()\n",
    " \n",
    "result = solve_qubo(qubo_matrix)\n",
    "\n",
    "stop = timeit.default_timer()\n",
    "print('Time: ', stop - start)"
   ]
  },
  {
   "cell_type": "code",
   "execution_count": 68,
   "id": "bf3bdefc",
   "metadata": {},
   "outputs": [
    {
     "data": {
      "text/plain": [
       "QuboResult(solution=array([0., 1., 0., 1., 0., 0., 0., 0., 0., 0., 0., 0., 1., 0., 0., 0., 0.,\n",
       "       0., 0., 0.]), objective_value=-8238383.8220144035)"
      ]
     },
     "execution_count": 68,
     "metadata": {},
     "output_type": "execute_result"
    }
   ],
   "source": [
    "result"
   ]
  },
  {
   "cell_type": "code",
   "execution_count": 69,
   "id": "38dfbfac",
   "metadata": {},
   "outputs": [
    {
     "data": {
      "text/plain": [
       "3.0"
      ]
     },
     "execution_count": 69,
     "metadata": {},
     "output_type": "execute_result"
    }
   ],
   "source": [
    "sum(result.solution)"
   ]
  },
  {
   "cell_type": "code",
   "execution_count": 70,
   "id": "c7675c33",
   "metadata": {},
   "outputs": [
    {
     "data": {
      "text/plain": [
       "array([ True,  True,  True,  True,  True,  True,  True,  True,  True,\n",
       "        True,  True,  True,  True,  True,  True,  True,  True,  True,\n",
       "        True,  True])"
      ]
     },
     "execution_count": 70,
     "metadata": {},
     "output_type": "execute_result"
    }
   ],
   "source": [
    "result.solution == solutions[0]"
   ]
  },
  {
   "cell_type": "markdown",
   "id": "91d8f414",
   "metadata": {},
   "source": [
    "## qiskit"
   ]
  },
  {
   "cell_type": "code",
   "execution_count": null,
   "id": "506c4699",
   "metadata": {},
   "outputs": [],
   "source": [
    "import rustworkx as rx\n",
    "from rustworkx.visualization import mpl_draw as draw_graph\n",
    "import numpy as np\n",
    "from scipy.optimize import minimize\n",
    "from collections import defaultdict\n",
    "from typing import Sequence\n",
    " \n",
    " \n",
    "from qiskit.quantum_info import SparsePauliOp\n",
    "from qiskit.circuit.library import QAOAAnsatz\n",
    "from qiskit.transpiler.preset_passmanagers import generate_preset_pass_manager\n",
    " \n",
    "from qiskit_aer import AerSimulator\n",
    "from qiskit_ibm_runtime import QiskitRuntimeService\n",
    "from qiskit_ibm_runtime import Session, EstimatorV2 as Estimator\n",
    "from qiskit_ibm_runtime import SamplerV2 as Sampler\n"
   ]
  },
  {
   "cell_type": "code",
   "execution_count": null,
   "id": "e40e389f",
   "metadata": {},
   "outputs": [],
   "source": [
    "from qiskit import QuantumCircuit\n",
    "qiskit_circuit = QuantumCircuit(num_microgrids + 1)\n"
   ]
  },
  {
   "cell_type": "code",
   "execution_count": null,
   "id": "217f00d9",
   "metadata": {},
   "outputs": [],
   "source": [
    "sum([qubo_matrix[0][m] for m in range(num_microgrids)])"
   ]
  },
  {
   "cell_type": "code",
   "execution_count": null,
   "id": "01aa7800",
   "metadata": {},
   "outputs": [],
   "source": [
    "def build_qubo_paulis(qubo) -> list[tuple[str, float]]:\n",
    "    pauli_list = []\n",
    "    for i in range(num_microgrids):\n",
    "        for j in range(num_microgrids):\n",
    "            if i == j:\n",
    "                pauli_list.append((\"Z\", [i], (-1)*sum([qubo[i][j]+qubo[i][i] for j in range(num_microgrids)])))\n",
    "            else:\n",
    "                pauli_list.append((\"ZZ\", [i, j], qubo[i][j]))\n",
    "    return pauli_list\n",
    "    # for edge in list(graph.edge_list()):\n",
    "    #     weight = graph.get_edge_data(edge[0], edge[1])\n",
    "    #     pauli_list.append((\"ZZ\", [edge[0], edge[1]], weight))\n",
    "    # return pauli_list\n",
    " \n",
    "qubo_paulis = build_qubo_paulis(qubo_matrix)\n",
    "cost_hamiltonian = SparsePauliOp.from_sparse_list(qubo_paulis, num_microgrids)\n",
    "print(\"Cost Function Hamiltonian:\", cost_hamiltonian)"
   ]
  },
  {
   "cell_type": "code",
   "execution_count": null,
   "id": "e7516837",
   "metadata": {},
   "outputs": [],
   "source": [
    "circuit = QAOAAnsatz(cost_operator=cost_hamiltonian, reps=2)\n",
    "circuit.measure_all()\n",
    " \n",
    "circuit.draw(\"mpl\")"
   ]
  },
  {
   "cell_type": "code",
   "execution_count": null,
   "id": "8db0c1b8",
   "metadata": {},
   "outputs": [],
   "source": [
    "# decomposed = circuit.decompose().decompose().decompose()\n",
    "# from qiskit.qasm3 import dumps\n",
    "\n",
    "# decomposed_qasm_string = dumps(decomposed)"
   ]
  },
  {
   "cell_type": "code",
   "execution_count": null,
   "id": "d22a2a96",
   "metadata": {},
   "outputs": [],
   "source": [
    "# import qbraid \n",
    "# provider = qbraid.QbraidProvider()\n",
    "# aws_device_id = \"aws_sv1\"\n",
    "# device = provider.get_device(aws_device_id)\n",
    "# device"
   ]
  },
  {
   "cell_type": "code",
   "execution_count": null,
   "id": "7873fc45",
   "metadata": {},
   "outputs": [],
   "source": [
    "qiskit_sim = AerSimulator()"
   ]
  },
  {
   "cell_type": "code",
   "execution_count": null,
   "id": "6f1b382f",
   "metadata": {},
   "outputs": [],
   "source": [
    "estimator = Estimator(qiskit_sim)"
   ]
  },
  {
   "cell_type": "code",
   "execution_count": null,
   "id": "e195819b",
   "metadata": {},
   "outputs": [],
   "source": [
    "# service = QiskitRuntimeService()\n",
    "backend = qiskit_sim\n",
    "print(backend)\n",
    " \n",
    "# Create pass manager for transpilation\n",
    "pm = generate_preset_pass_manager(optimization_level=3, backend=backend)\n",
    " \n",
    "candidate_circuit = pm.run(circuit)\n",
    "candidate_circuit.draw(\"mpl\", fold=False, idle_wires=False)"
   ]
  },
  {
   "cell_type": "code",
   "execution_count": null,
   "id": "562eb6c7",
   "metadata": {},
   "outputs": [],
   "source": [
    "initial_gamma = np.pi\n",
    "initial_beta = np.pi / 2\n",
    "init_params = [initial_beta, initial_beta, initial_gamma, initial_gamma]"
   ]
  },
  {
   "cell_type": "code",
   "execution_count": null,
   "id": "e9a29310",
   "metadata": {},
   "outputs": [],
   "source": [
    "def cost_func_estimator(params, ansatz, hamiltonian, estimator):\n",
    "    # transform the observable defined on virtual qubits to\n",
    "    # an observable defined on all physical qubits\n",
    "    isa_hamiltonian = hamiltonian.apply_layout(ansatz.layout)\n",
    " \n",
    "    pub = (ansatz, isa_hamiltonian, params)\n",
    "    job = estimator.run([pub])\n",
    " \n",
    "    results = job.result()[0]\n",
    "    cost = results.data.evs\n",
    " \n",
    "    objective_func_vals.append(cost)\n",
    " \n",
    "    return cost"
   ]
  },
  {
   "cell_type": "code",
   "execution_count": null,
   "id": "2435e2d8",
   "metadata": {},
   "outputs": [],
   "source": [
    "objective_func_vals = []  # Global variable\n",
    "with Session(backend=backend) as session:\n",
    "    # If using qiskit-ibm-runtime<0.24.0, change `mode=` to `session=`\n",
    "    estimator = Estimator(mode=session)\n",
    "    estimator.options.default_shots = 50000\n",
    " \n",
    "    # Set simple error suppression/mitigation options\n",
    "    estimator.options.dynamical_decoupling.enable = True\n",
    "    estimator.options.dynamical_decoupling.sequence_type = \"XY4\"\n",
    "    estimator.options.twirling.enable_gates = True\n",
    "    estimator.options.twirling.num_randomizations = \"auto\"\n",
    " \n",
    "    result = minimize(\n",
    "        cost_func_estimator,\n",
    "        init_params,\n",
    "        args=(candidate_circuit, cost_hamiltonian, estimator),\n",
    "        method=\"COBYLA\",\n",
    "        # method=\"dogleg\",\n",
    "        tol=1e-2\n",
    "    )\n",
    "    print(result)"
   ]
  },
  {
   "cell_type": "code",
   "execution_count": null,
   "id": "d27ab5c5",
   "metadata": {},
   "outputs": [],
   "source": [
    "plt.figure(figsize=(10, 5))\n",
    "plt.plot(objective_func_vals)\n",
    "plt.xlabel(\"Iteration\")\n",
    "plt.ylabel(\"Cost\")\n",
    "\n",
    "plt.show()"
   ]
  },
  {
   "cell_type": "code",
   "execution_count": null,
   "id": "96736a51",
   "metadata": {},
   "outputs": [],
   "source": [
    "optimized_circuit = candidate_circuit.assign_parameters(result.x)\n",
    "\n",
    "optimized_circuit.draw(\"mpl\", fold=False, idle_wires=False)"
   ]
  },
  {
   "cell_type": "code",
   "execution_count": null,
   "id": "33ce53a2",
   "metadata": {},
   "outputs": [],
   "source": [
    "job = qiskit_sim.run(optimized_circuit, shots=int(1e4))\n",
    "job.result()"
   ]
  },
  {
   "cell_type": "code",
   "execution_count": null,
   "id": "48e3ce13",
   "metadata": {},
   "outputs": [],
   "source": [
    "{bin(int(k, 16)): v for k, v in job.result().results[0].data.counts.items()}"
   ]
  },
  {
   "cell_type": "code",
   "execution_count": null,
   "id": "37064e1d",
   "metadata": {},
   "outputs": [],
   "source": [
    "int(\"0x3\", 16)"
   ]
  },
  {
   "cell_type": "code",
   "execution_count": null,
   "id": "620d3035",
   "metadata": {},
   "outputs": [],
   "source": [
    "# #If using qiskit-ibm-runtime<0.24.0, change `mode=` to `backend=`\n",
    "# sampler = Sampler(mode=backend)\n",
    "# sampler.options.default_shots = 10000\n",
    "\n",
    "# # Set simple error suppression/mitigation options\n",
    "# sampler.options.dynamical_decoupling.enable = True\n",
    "# sampler.options.dynamical_decoupling.sequence_type = \"XY4\"\n",
    "# sampler.options.twirling.enable_gates = True\n",
    "# sampler.options.twirling.num_randomizations = \"auto\"\n",
    "\n",
    "job = qiskit_sim.run(optimized_circuit, shots=int(1e4))\n",
    "# counts_int = job.result().data.get_int_counts()\n",
    "# counts_bin = job.result()\n",
    "# print(counts_bin.data)\n",
    "# shots = sum(counts_int.values())\n",
    "# final_distribution_int = {key: val / shots for key, val in counts_int.items()}\n",
    "# final_distribution_bin = {key: val / shots for key, val in counts_bin.items()}\n",
    "# print(final_distribution_int)"
   ]
  },
  {
   "cell_type": "code",
   "execution_count": null,
   "id": "2eb1e4bd",
   "metadata": {},
   "outputs": [],
   "source": [
    "# qasm_3 = transpile(circuit.decompose(), 'qasm3')\n",
    "# print(qasm_3)\n",
    "\n",
    "braket_job = device.run(decomposed_qasm_string, shots=10)\n",
    "braket_job.status()"
   ]
  },
  {
   "cell_type": "code",
   "execution_count": null,
   "id": "7868eef9",
   "metadata": {},
   "outputs": [],
   "source": []
  }
 ],
 "metadata": {
  "kernelspec": {
   "display_name": "base",
   "language": "python",
   "name": "python3"
  },
  "language_info": {
   "codemirror_mode": {
    "name": "ipython",
    "version": 3
   },
   "file_extension": ".py",
   "mimetype": "text/x-python",
   "name": "python",
   "nbconvert_exporter": "python",
   "pygments_lexer": "ipython3",
   "version": "3.8.8"
  }
 },
 "nbformat": 4,
 "nbformat_minor": 5
}
