{
 "cells": [
  {
   "cell_type": "code",
   "execution_count": 50,
   "id": "32054105",
   "metadata": {},
   "outputs": [],
   "source": [
    "import os\n",
    "import sys\n",
    "from pathlib import Path\n",
    "path = str(Path(os.getcwd()))\n",
    "sys.path.insert(1, path+'/amazon-braket-community-detection/src')"
   ]
  },
  {
   "cell_type": "code",
   "execution_count": 51,
   "id": "74c15b66",
   "metadata": {},
   "outputs": [
    {
     "data": {
      "text/plain": [
       "['/Users/haikelhaikel/QuantathonSEA2025/QRenew',\n",
       " '/Users/haikelhaikel/QuantathonSEA2025/QRenew/amazon-braket-community-detection/src',\n",
       " '/Users/haikelhaikel/QuantathonSEA2025/QRenew/amazon-braket-community-detection/src',\n",
       " '/Users/haikelhaikel/QuantathonSEA2025/QRenew/amazon-braket-community-detection/src',\n",
       " '/opt/anaconda3/lib/python312.zip',\n",
       " '/opt/anaconda3/lib/python3.12',\n",
       " '/opt/anaconda3/lib/python3.12/lib-dynload',\n",
       " '',\n",
       " '/opt/anaconda3/lib/python3.12/site-packages',\n",
       " '/opt/anaconda3/lib/python3.12/site-packages/aeosa']"
      ]
     },
     "execution_count": 51,
     "metadata": {},
     "output_type": "execute_result"
    }
   ],
   "source": [
    "sys.path"
   ]
  },
  {
   "cell_type": "code",
   "execution_count": 52,
   "id": "81ccca0c",
   "metadata": {},
   "outputs": [
    {
     "data": {
      "text/html": [
       "<div>\n",
       "<style scoped>\n",
       "    .dataframe tbody tr th:only-of-type {\n",
       "        vertical-align: middle;\n",
       "    }\n",
       "\n",
       "    .dataframe tbody tr th {\n",
       "        vertical-align: top;\n",
       "    }\n",
       "\n",
       "    .dataframe thead th {\n",
       "        text-align: right;\n",
       "    }\n",
       "</style>\n",
       "<table border=\"1\" class=\"dataframe\">\n",
       "  <thead>\n",
       "    <tr style=\"text-align: right;\">\n",
       "      <th></th>\n",
       "      <th>WKT</th>\n",
       "      <th>Index</th>\n",
       "      <th>latitude</th>\n",
       "      <th>longitude</th>\n",
       "      <th>name</th>\n",
       "      <th>capacity(MW)</th>\n",
       "    </tr>\n",
       "  </thead>\n",
       "  <tbody>\n",
       "    <tr>\n",
       "      <th>0</th>\n",
       "      <td>POINT (100.1995973 13.5797688)</td>\n",
       "      <td>1</td>\n",
       "      <td>13.579769</td>\n",
       "      <td>100.199597</td>\n",
       "      <td>Samut Sakhon</td>\n",
       "      <td>5.0</td>\n",
       "    </tr>\n",
       "    <tr>\n",
       "      <th>1</th>\n",
       "      <td>POINT (100.4800113 13.7131258)</td>\n",
       "      <td>2</td>\n",
       "      <td>13.713126</td>\n",
       "      <td>100.480011</td>\n",
       "      <td>The Mall - Tha Phra</td>\n",
       "      <td>1.0</td>\n",
       "    </tr>\n",
       "    <tr>\n",
       "      <th>2</th>\n",
       "      <td>POINT (100.4474445 13.8199492)</td>\n",
       "      <td>3</td>\n",
       "      <td>13.819949</td>\n",
       "      <td>100.447445</td>\n",
       "      <td>Ratchaphruek</td>\n",
       "      <td>1.0</td>\n",
       "    </tr>\n",
       "    <tr>\n",
       "      <th>3</th>\n",
       "      <td>POINT (100.5417601 13.8550947)</td>\n",
       "      <td>4</td>\n",
       "      <td>13.855095</td>\n",
       "      <td>100.541760</td>\n",
       "      <td>The Mall - Ngamwongwan</td>\n",
       "      <td>1.0</td>\n",
       "    </tr>\n",
       "    <tr>\n",
       "      <th>4</th>\n",
       "      <td>POINT (100.6421705 13.7658514)</td>\n",
       "      <td>5</td>\n",
       "      <td>13.765851</td>\n",
       "      <td>100.642171</td>\n",
       "      <td>The Mall - Bangkapi</td>\n",
       "      <td>1.0</td>\n",
       "    </tr>\n",
       "    <tr>\n",
       "      <th>5</th>\n",
       "      <td>POINT (100.6798205 13.8282182)</td>\n",
       "      <td>6</td>\n",
       "      <td>13.828218</td>\n",
       "      <td>100.679821</td>\n",
       "      <td>Akekamai-Ramintra</td>\n",
       "      <td>1.0</td>\n",
       "    </tr>\n",
       "    <tr>\n",
       "      <th>6</th>\n",
       "      <td>POINT (101.0033703 13.5759609)</td>\n",
       "      <td>7</td>\n",
       "      <td>13.575961</td>\n",
       "      <td>101.003370</td>\n",
       "      <td>Chachoengsao</td>\n",
       "      <td>1.3</td>\n",
       "    </tr>\n",
       "    <tr>\n",
       "      <th>7</th>\n",
       "      <td>POINT (100.5528226 14.1690859)</td>\n",
       "      <td>8</td>\n",
       "      <td>14.169086</td>\n",
       "      <td>100.552823</td>\n",
       "      <td>Bangchak</td>\n",
       "      <td>16.0</td>\n",
       "    </tr>\n",
       "    <tr>\n",
       "      <th>8</th>\n",
       "      <td>POINT (100.5530586 14.1689819)</td>\n",
       "      <td>9</td>\n",
       "      <td>14.168982</td>\n",
       "      <td>100.553059</td>\n",
       "      <td>Bangchak III</td>\n",
       "      <td>25.0</td>\n",
       "    </tr>\n",
       "    <tr>\n",
       "      <th>9</th>\n",
       "      <td>POINT (100.1837652 13.9754302)</td>\n",
       "      <td>10</td>\n",
       "      <td>13.975430</td>\n",
       "      <td>100.183765</td>\n",
       "      <td>Sai Thong</td>\n",
       "      <td>6.1</td>\n",
       "    </tr>\n",
       "    <tr>\n",
       "      <th>10</th>\n",
       "      <td>POINT (100.1962857 13.9840662)</td>\n",
       "      <td>11</td>\n",
       "      <td>13.984066</td>\n",
       "      <td>100.196286</td>\n",
       "      <td>Sai Yoi</td>\n",
       "      <td>3.0</td>\n",
       "    </tr>\n",
       "    <tr>\n",
       "      <th>11</th>\n",
       "      <td>POINT (100.200201 14.0004893)</td>\n",
       "      <td>12</td>\n",
       "      <td>14.000489</td>\n",
       "      <td>100.200201</td>\n",
       "      <td>Sai Prapa</td>\n",
       "      <td>7.2</td>\n",
       "    </tr>\n",
       "    <tr>\n",
       "      <th>12</th>\n",
       "      <td>POINT (100.1737777 14.1076288)</td>\n",
       "      <td>13</td>\n",
       "      <td>14.107629</td>\n",
       "      <td>100.173778</td>\n",
       "      <td>Sai Phet</td>\n",
       "      <td>35.9</td>\n",
       "    </tr>\n",
       "    <tr>\n",
       "      <th>13</th>\n",
       "      <td>POINT (100.1432434 14.1367617)</td>\n",
       "      <td>14</td>\n",
       "      <td>14.136762</td>\n",
       "      <td>100.143243</td>\n",
       "      <td>Sai Yai - Solarco</td>\n",
       "      <td>23.8</td>\n",
       "    </tr>\n",
       "    <tr>\n",
       "      <th>14</th>\n",
       "      <td>POINT (100.1506249 14.1383847)</td>\n",
       "      <td>15</td>\n",
       "      <td>14.138385</td>\n",
       "      <td>100.150625</td>\n",
       "      <td>Sai Yai - Solarta</td>\n",
       "      <td>9.7</td>\n",
       "    </tr>\n",
       "    <tr>\n",
       "      <th>15</th>\n",
       "      <td>POINT (100.1377288 14.1542604)</td>\n",
       "      <td>16</td>\n",
       "      <td>14.154260</td>\n",
       "      <td>100.137729</td>\n",
       "      <td>Sai Kyo</td>\n",
       "      <td>11.9</td>\n",
       "    </tr>\n",
       "    <tr>\n",
       "      <th>16</th>\n",
       "      <td>POINT (100.1128729 14.2224476)</td>\n",
       "      <td>17</td>\n",
       "      <td>14.222448</td>\n",
       "      <td>100.112873</td>\n",
       "      <td>Sai Saphan</td>\n",
       "      <td>7.0</td>\n",
       "    </tr>\n",
       "    <tr>\n",
       "      <th>17</th>\n",
       "      <td>POINT (100.1275879 14.2446193)</td>\n",
       "      <td>18</td>\n",
       "      <td>14.244619</td>\n",
       "      <td>100.127588</td>\n",
       "      <td>Sai Tatong</td>\n",
       "      <td>1.0</td>\n",
       "    </tr>\n",
       "    <tr>\n",
       "      <th>18</th>\n",
       "      <td>POINT (100.3022163 14.3219005)</td>\n",
       "      <td>19</td>\n",
       "      <td>14.321900</td>\n",
       "      <td>100.302216</td>\n",
       "      <td>Bang Sai</td>\n",
       "      <td>1.7</td>\n",
       "    </tr>\n",
       "    <tr>\n",
       "      <th>19</th>\n",
       "      <td>POINT (100.2778664 14.2172742)</td>\n",
       "      <td>20</td>\n",
       "      <td>14.217274</td>\n",
       "      <td>100.277866</td>\n",
       "      <td>Sai Sena - Solarta</td>\n",
       "      <td>3.0</td>\n",
       "    </tr>\n",
       "  </tbody>\n",
       "</table>\n",
       "</div>"
      ],
      "text/plain": [
       "                               WKT  Index   latitude   longitude  \\\n",
       "0   POINT (100.1995973 13.5797688)      1  13.579769  100.199597   \n",
       "1   POINT (100.4800113 13.7131258)      2  13.713126  100.480011   \n",
       "2   POINT (100.4474445 13.8199492)      3  13.819949  100.447445   \n",
       "3   POINT (100.5417601 13.8550947)      4  13.855095  100.541760   \n",
       "4   POINT (100.6421705 13.7658514)      5  13.765851  100.642171   \n",
       "5   POINT (100.6798205 13.8282182)      6  13.828218  100.679821   \n",
       "6   POINT (101.0033703 13.5759609)      7  13.575961  101.003370   \n",
       "7   POINT (100.5528226 14.1690859)      8  14.169086  100.552823   \n",
       "8   POINT (100.5530586 14.1689819)      9  14.168982  100.553059   \n",
       "9   POINT (100.1837652 13.9754302)     10  13.975430  100.183765   \n",
       "10  POINT (100.1962857 13.9840662)     11  13.984066  100.196286   \n",
       "11   POINT (100.200201 14.0004893)     12  14.000489  100.200201   \n",
       "12  POINT (100.1737777 14.1076288)     13  14.107629  100.173778   \n",
       "13  POINT (100.1432434 14.1367617)     14  14.136762  100.143243   \n",
       "14  POINT (100.1506249 14.1383847)     15  14.138385  100.150625   \n",
       "15  POINT (100.1377288 14.1542604)     16  14.154260  100.137729   \n",
       "16  POINT (100.1128729 14.2224476)     17  14.222448  100.112873   \n",
       "17  POINT (100.1275879 14.2446193)     18  14.244619  100.127588   \n",
       "18  POINT (100.3022163 14.3219005)     19  14.321900  100.302216   \n",
       "19  POINT (100.2778664 14.2172742)     20  14.217274  100.277866   \n",
       "\n",
       "                      name  capacity(MW)  \n",
       "0             Samut Sakhon           5.0  \n",
       "1      The Mall - Tha Phra           1.0  \n",
       "2             Ratchaphruek           1.0  \n",
       "3   The Mall - Ngamwongwan           1.0  \n",
       "4      The Mall - Bangkapi           1.0  \n",
       "5        Akekamai-Ramintra           1.0  \n",
       "6             Chachoengsao           1.3  \n",
       "7                 Bangchak          16.0  \n",
       "8             Bangchak III          25.0  \n",
       "9                Sai Thong           6.1  \n",
       "10                 Sai Yoi           3.0  \n",
       "11              Sai Prapa            7.2  \n",
       "12                Sai Phet          35.9  \n",
       "13       Sai Yai - Solarco          23.8  \n",
       "14       Sai Yai - Solarta           9.7  \n",
       "15                 Sai Kyo          11.9  \n",
       "16              Sai Saphan           7.0  \n",
       "17              Sai Tatong           1.0  \n",
       "18                Bang Sai           1.7  \n",
       "19      Sai Sena - Solarta           3.0  "
      ]
     },
     "execution_count": 52,
     "metadata": {},
     "output_type": "execute_result"
    }
   ],
   "source": [
    "# Required Libraries\n",
    "import numpy as np\n",
    "import matplotlib.pyplot as plt\n",
    "import pandas as pd\n",
    "from geopy.distance import geodesic\n",
    "import networkx as nx\n",
    "\n",
    "df = pd.read_csv(path+'/database/SolarPowerPlants_TH.csv', delimiter=',', skiprows=1)\n",
    "df"
   ]
  },
  {
   "cell_type": "code",
   "execution_count": 53,
   "id": "d70f7bb9",
   "metadata": {},
   "outputs": [],
   "source": [
    "ind = df['Index']\n",
    "name = df['name']\n",
    "lat = df['latitude']\n",
    "long = df['longitude']\n",
    "capacity = df['capacity(MW)']"
   ]
  },
  {
   "cell_type": "code",
   "execution_count": 54,
   "id": "b42db51f",
   "metadata": {},
   "outputs": [
    {
     "data": {
      "text/plain": [
       "{1: (13.5797688, 100.1995973),\n",
       " 2: (13.7131258, 100.4800113),\n",
       " 3: (13.8199492, 100.4474445),\n",
       " 4: (13.8550947, 100.5417601),\n",
       " 5: (13.7658514, 100.6421705),\n",
       " 6: (13.8282182, 100.6798205),\n",
       " 7: (13.5759609, 101.0033703),\n",
       " 8: (14.1690859, 100.5528226),\n",
       " 9: (14.1689819, 100.5530586),\n",
       " 10: (13.9754302, 100.1837652),\n",
       " 11: (13.9840662, 100.1962857),\n",
       " 12: (14.0004893, 100.200201),\n",
       " 13: (14.1076288, 100.1737777),\n",
       " 14: (14.1367617, 100.1432434),\n",
       " 15: (14.1383847, 100.1506249),\n",
       " 16: (14.1542604, 100.1377288),\n",
       " 17: (14.2224476, 100.1128729),\n",
       " 18: (14.2446193, 100.1275879),\n",
       " 19: (14.3219005, 100.3022163),\n",
       " 20: (14.2172742, 100.2778664)}"
      ]
     },
     "execution_count": 54,
     "metadata": {},
     "output_type": "execute_result"
    }
   ],
   "source": [
    "locations = {ind: (lat, long) for ind, lat, long in zip(ind, lat, long)}\n",
    "locations"
   ]
  },
  {
   "cell_type": "code",
   "execution_count": 55,
   "id": "ed6c3346",
   "metadata": {},
   "outputs": [
    {
     "data": {
      "text/plain": [
       "20"
      ]
     },
     "execution_count": 55,
     "metadata": {},
     "output_type": "execute_result"
    }
   ],
   "source": [
    "(len(locations.keys()))"
   ]
  },
  {
   "cell_type": "code",
   "execution_count": 56,
   "id": "b82fd62e",
   "metadata": {},
   "outputs": [],
   "source": [
    "\n",
    "# noconsumers = 10\n",
    "# c_energy = np.random.default_rng().normal(loc=np.average(capacity), scale=np.std(capacity)/2, size=noconsumers)\n",
    "# # c_energy = np.random.default_rng().integers(low=min(capacity), high=max(capacity), size=10)\n",
    "# c_energy"
   ]
  },
  {
   "cell_type": "code",
   "execution_count": 57,
   "id": "46624fa3",
   "metadata": {},
   "outputs": [],
   "source": [
    "def calculate_distance_mgpp(mglat, mglong, pplat, pplong):    \n",
    "    distance_matrix = np.zeros(len(pplat))\n",
    "    for i in range(len(pplat)):\n",
    "        distance_matrix[i] = geodesic((mglat, mglong), (pplat[i], pplong[i])).km\n",
    "    return distance_matrix\n"
   ]
  },
  {
   "cell_type": "code",
   "execution_count": 58,
   "id": "d2ace828",
   "metadata": {},
   "outputs": [],
   "source": [
    "def calculate_distance_mgmg(mglat, mglong):    \n",
    "    distance_matrix = np.zeros((len(mglat), len(mglat)))\n",
    "    for i in range(len(mglat)):\n",
    "        for j in range(len(mglat)):\n",
    "            if i < j:\n",
    "                distance_matrix[i][j] = geodesic((mglat[i], mglong[i]), (mglat[j], mglong[j])).km\n",
    "    return distance_matrix"
   ]
  },
  {
   "cell_type": "code",
   "execution_count": 59,
   "id": "ec9a3eff",
   "metadata": {},
   "outputs": [],
   "source": [
    "def create_transmission_network(locations, distance_matrix, threshold=45):\n",
    "    G = nx.Graph()\n",
    "    for i, label_i in enumerate(locations.keys()):\n",
    "        for j, label_j in enumerate(locations.keys()):\n",
    "            if i < j:\n",
    "                if distance_matrix[i][j] < threshold: # Only add edge if distance is below threshold\n",
    "                    G.add_edge(label_i, label_j)\n",
    "    return G"
   ]
  },
  {
   "cell_type": "code",
   "execution_count": 60,
   "id": "af0857bc",
   "metadata": {},
   "outputs": [
    {
     "name": "stdout",
     "output_type": "stream",
     "text": [
      "<enumerate object at 0x16eb7f600>\n"
     ]
    }
   ],
   "source": [
    "print(enumerate(locations.keys()))"
   ]
  },
  {
   "cell_type": "code",
   "execution_count": 61,
   "id": "addae2cf",
   "metadata": {},
   "outputs": [
    {
     "data": {
      "image/png": "[encoded data removed]",
      "text/plain": [
       "<Figure size 640x480 with 1 Axes>"
      ]
     },
     "metadata": {},
     "output_type": "display_data"
    }
   ],
   "source": [
    "distance_matrix = calculate_distance_mgmg(lat, long)\n",
    "\n",
    "# Create Graph Based on Distance Threshold\n",
    "G = create_transmission_network(locations, distance_matrix, threshold=45)\n",
    "\n",
    "# Visualize Graph\n",
    "fig, ax = plt.subplots()\n",
    "pos = {label: (lon, lat) for label, (lat, lon) in locations.items()}\n",
    "nx.draw(G, pos, ax=ax, node_size=100, node_color='blue')\n",
    "# nx.draw(G, pos, ax=ax, node_size=800, with_labels=True)\n",
    "# with_labels=True, node_color='lightblue', node_size=800)\n",
    "plt.title(\"Solar Panel Proximity Graph\")\n",
    "plt.show()"
   ]
  },
  {
   "cell_type": "code",
   "execution_count": 62,
   "id": "3d4550fa",
   "metadata": {},
   "outputs": [
    {
     "data": {
      "text/plain": [
       "<networkx.classes.graph.Graph at 0x16ebee360>"
      ]
     },
     "execution_count": 62,
     "metadata": {},
     "output_type": "execute_result"
    }
   ],
   "source": [
    "G"
   ]
  },
  {
   "cell_type": "code",
   "execution_count": 63,
   "id": "159ba4f2",
   "metadata": {},
   "outputs": [
    {
     "data": {
      "text/plain": [
       "EdgeDataView([(1, 2, {}), (1, 3, {}), (1, 10, {}), (1, 11, {}), (2, 3, {}), (2, 4, {}), (2, 5, {}), (2, 6, {}), (2, 10, {}), (2, 11, {}), (2, 12, {}), (3, 4, {}), (3, 5, {}), (3, 6, {}), (3, 8, {}), (3, 9, {}), (3, 10, {}), (3, 11, {}), (3, 12, {}), (3, 13, {}), (10, 4, {}), (10, 11, {}), (10, 12, {}), (10, 13, {}), (10, 14, {}), (10, 15, {}), (10, 16, {}), (10, 17, {}), (10, 18, {}), (10, 19, {}), (10, 20, {}), (11, 4, {}), (11, 8, {}), (11, 9, {}), (11, 12, {}), (11, 13, {}), (11, 14, {}), (11, 15, {}), (11, 16, {}), (11, 17, {}), (11, 18, {}), (11, 19, {}), (11, 20, {}), (4, 5, {}), (4, 6, {}), (4, 8, {}), (4, 9, {}), (4, 12, {}), (5, 6, {}), (5, 7, {}), (6, 7, {}), (6, 8, {}), (6, 9, {}), (12, 8, {}), (12, 9, {}), (12, 13, {}), (12, 14, {}), (12, 15, {}), (12, 16, {}), (12, 17, {}), (12, 18, {}), (12, 19, {}), (12, 20, {}), (8, 9, {}), (8, 13, {}), (8, 14, {}), (8, 15, {}), (8, 16, {}), (8, 19, {}), (8, 20, {}), (9, 13, {}), (9, 14, {}), (9, 15, {}), (9, 16, {}), (9, 19, {}), (9, 20, {}), (13, 14, {}), (13, 15, {}), (13, 16, {}), (13, 17, {}), (13, 18, {}), (13, 19, {}), (13, 20, {}), (14, 15, {}), (14, 16, {}), (14, 17, {}), (14, 18, {}), (14, 19, {}), (14, 20, {}), (15, 16, {}), (15, 17, {}), (15, 18, {}), (15, 19, {}), (15, 20, {}), (16, 17, {}), (16, 18, {}), (16, 19, {}), (16, 20, {}), (19, 17, {}), (19, 18, {}), (19, 20, {}), (20, 17, {}), (20, 18, {}), (17, 18, {})])"
      ]
     },
     "execution_count": 63,
     "metadata": {},
     "output_type": "execute_result"
    }
   ],
   "source": [
    "G.edges(data=True)"
   ]
  },
  {
   "cell_type": "code",
   "execution_count": 64,
   "id": "53351199",
   "metadata": {},
   "outputs": [],
   "source": [
    "total_nodes = len(G.nodes(data=True))\n",
    "total_edges = len(G.edges(data=True))"
   ]
  },
  {
   "cell_type": "code",
   "execution_count": 65,
   "id": "8cc371a1",
   "metadata": {},
   "outputs": [],
   "source": [
    "def H_distance(distance_matrix, total_nodes, threshold=45, alpha=1):\n",
    "    H = np.zeros((total_nodes, total_nodes))\n",
    "    for i in range(total_nodes):\n",
    "        for j in range(total_nodes):\n",
    "            if i < j:\n",
    "                if distance_matrix[i][j] < threshold:\n",
    "                    delta = 1\n",
    "                else:\n",
    "                    delta = 0\n",
    "                H[i][j] = delta*distance_matrix[i][j]\n",
    "    return alpha*H"
   ]
  },
  {
   "cell_type": "code",
   "execution_count": 66,
   "id": "e280dc8c",
   "metadata": {},
   "outputs": [],
   "source": [
    "import scipy.sparse as sp\n",
    "from networkx.algorithms import community\n",
    "\n",
    "### create QUBO matrix\n",
    "\n",
    "# define the distance matrix\n",
    "num_powerplants = (len(locations.keys())) ## number of solar power plants\n",
    "pplat, pplong = zip(*locations.values())"
   ]
  },
  {
   "cell_type": "code",
   "execution_count": 67,
   "id": "b62f11bb",
   "metadata": {},
   "outputs": [],
   "source": [
    "# generate choices for microgrid locations\n",
    "num_microgrids = 20 ## number of microgrids\n",
    "random_lat = np.random.uniform(min(lat), max(lat), size=4*num_microgrids)\n",
    "lat_choices = np.random.choice(random_lat, size=num_microgrids, replace=False)\n",
    "\n",
    "random_long = np.random.uniform(min(long), max(long), size=4*num_microgrids)\n",
    "long_choices = np.random.choice(random_long, size=num_microgrids, replace=False)"
   ]
  },
  {
   "cell_type": "code",
   "execution_count": 68,
   "id": "f35de64e",
   "metadata": {},
   "outputs": [
    {
     "data": {
      "image/png": "[encoded data removed]",
      "text/plain": [
       "<Figure size 640x480 with 1 Axes>"
      ]
     },
     "metadata": {},
     "output_type": "display_data"
    }
   ],
   "source": [
    "# Visualize Graph\n",
    "fig, ax = plt.subplots()\n",
    "ax.plot(long, lat, 'o', markersize=5, color='blue')\n",
    "ax.plot(long_choices, lat_choices, 'o', markersize=5, color='red')\n",
    "plt.title(\"Solar Panel Proximity Graph\")\n",
    "plt.show()"
   ]
  },
  {
   "cell_type": "code",
   "execution_count": 69,
   "id": "f497bf6e",
   "metadata": {},
   "outputs": [
    {
     "data": {
      "text/plain": [
       "array([97.09630625, 64.07404518, 60.14467865, 49.38881639, 47.45622044,\n",
       "       39.60888414, 57.26369591, 41.81791657, 41.79058036, 81.71116728,\n",
       "       80.23006899, 79.56551432, 81.82616373, 85.25719406, 84.47289048,\n",
       "       85.9898348 , 89.58448685, 88.45933591, 72.63405305, 71.96181842])"
      ]
     },
     "execution_count": 69,
     "metadata": {},
     "output_type": "execute_result"
    }
   ],
   "source": [
    "i=0\n",
    "mgpp_distance = calculate_distance_mgpp(lat_choices[i], long_choices[i],pplat, pplong)\n",
    "mgpp_distance"
   ]
  },
  {
   "cell_type": "code",
   "execution_count": 70,
   "id": "8c897fa5",
   "metadata": {},
   "outputs": [
    {
     "data": {
      "text/plain": [
       "array([[ 0.        , 24.22635707, 44.90327706, 84.19954751, 43.66791662,\n",
       "        59.09199763, 54.50129422, 49.51067229, 15.13651519, 44.58033351,\n",
       "        31.51414504, 41.36949625, 89.05081937, 22.81385513, 13.72380979,\n",
       "        52.74212076, 69.18958067, 21.88780171, 52.54789994,  4.76164145],\n",
       "       [ 0.        ,  0.        , 37.10618136, 79.77727425, 52.38273447,\n",
       "        44.75827073, 64.27443326, 58.79819228, 28.26190042, 21.71535042,\n",
       "         7.43018282, 17.87751171, 81.80919504, 40.36921215, 10.79990897,\n",
       "        57.06192851, 75.03368001, 19.29846643, 30.38129024, 21.10178546],\n",
       "       [ 0.        ,  0.        ,  0.        , 42.67258453, 31.11142789,\n",
       "        17.89394319, 40.49607042, 35.90357199, 33.23885429, 50.62926493,\n",
       "        39.22764387, 46.37313574, 45.32218102, 39.88596765, 40.70314439,\n",
       "        27.78051609, 44.19639886, 23.29111979, 32.51023   , 40.24117756],\n",
       "       [ 0.        ,  0.        ,  0.        ,  0.        , 48.59938245,\n",
       "        42.08042008, 47.10319747, 47.28558323, 69.90318843, 91.39240918,\n",
       "        81.49513841, 87.42132031, 10.61470966, 70.62386626, 82.72281508,\n",
       "        36.65700941, 34.09603774, 64.44480666, 67.73912294, 79.97231607],\n",
       "       [ 0.        ,  0.        ,  0.        ,  0.        ,  0.        ,\n",
       "        48.07086342, 11.89170369,  6.41678177, 28.76392712, 72.29638524,\n",
       "        58.03548603, 67.918039  , 56.80688073, 23.92354587, 48.98444311,\n",
       "        11.96151531, 25.62625768, 33.13254437, 61.62205134, 40.92282815],\n",
       "       [ 0.        ,  0.        ,  0.        ,  0.        ,  0.        ,\n",
       "         0.        , 56.08791118, 52.10688159, 49.58251463, 50.90708661,\n",
       "        43.8549876 , 47.35413787, 40.32857986, 57.43547801, 51.66759985,\n",
       "        42.24663112, 55.81254414, 37.37075173, 25.73776916, 54.331224  ],\n",
       "       [ 0.        ,  0.        ,  0.        ,  0.        ,  0.        ,\n",
       "         0.        ,  0.        ,  5.47845727, 39.97404954, 84.08833823,\n",
       "        69.89029421, 79.69985938, 56.62074741, 33.10907987, 60.67793048,\n",
       "        14.17696245, 17.0982419 , 45.01983976, 72.21378025, 52.13187477],\n",
       "       [ 0.        ,  0.        ,  0.        ,  0.        ,  0.        ,\n",
       "         0.        ,  0.        ,  0.        , 34.80240511, 78.63560744,\n",
       "        64.41796165, 74.2502825 , 56.25138348, 28.7220597 , 55.3082583 ,\n",
       "        11.65760704, 20.51590889, 39.54141109, 67.21699972, 46.97565093],\n",
       "       [ 0.        ,  0.        ,  0.        ,  0.        ,  0.        ,\n",
       "         0.        ,  0.        ,  0.        ,  0.        , 49.94162665,\n",
       "        35.35167948, 45.94902162, 75.43147026, 12.19672258, 21.56262881,\n",
       "        37.61005783, 54.14979026, 14.02988571, 49.70300677, 12.17368156],\n",
       "       [ 0.        ,  0.        ,  0.        ,  0.        ,  0.        ,\n",
       "         0.        ,  0.        ,  0.        ,  0.        ,  0.        ,\n",
       "        14.67366656,  4.41064768, 91.07944257, 62.07709204, 30.94144946,\n",
       "        75.11386378, 92.95206712, 39.51924474, 27.03055516, 42.23656535],\n",
       "       [ 0.        ,  0.        ,  0.        ,  0.        ,  0.        ,\n",
       "         0.        ,  0.        ,  0.        ,  0.        ,  0.        ,\n",
       "         0.        , 10.59761161, 82.58239349, 47.52319363, 17.87941821,\n",
       "        61.66486949, 79.62751382, 25.01833552, 25.62919906, 28.52038692],\n",
       "       [ 0.        ,  0.        ,  0.        ,  0.        ,  0.        ,\n",
       "         0.        ,  0.        ,  0.        ,  0.        ,  0.        ,\n",
       "         0.        ,  0.        , 87.36414714, 58.12028176, 27.65075637,\n",
       "        70.70707024, 88.55209948, 35.2153791 , 24.41228298, 38.74663113],\n",
       "       [ 0.        ,  0.        ,  0.        ,  0.        ,  0.        ,\n",
       "         0.        ,  0.        ,  0.        ,  0.        ,  0.        ,\n",
       "         0.        ,  0.        ,  0.        , 77.56872947, 86.02248925,\n",
       "        45.08234821, 44.49990193, 68.25501925, 65.87698178, 84.6041076 ],\n",
       "       [ 0.        ,  0.        ,  0.        ,  0.        ,  0.        ,\n",
       "         0.        ,  0.        ,  0.        ,  0.        ,  0.        ,\n",
       "         0.        ,  0.        ,  0.        ,  0.        , 32.83073702,\n",
       "        35.11991944, 49.18897664, 25.34306594, 60.96998347, 21.95054324],\n",
       "       [ 0.        ,  0.        ,  0.        ,  0.        ,  0.        ,\n",
       "         0.        ,  0.        ,  0.        ,  0.        ,  0.        ,\n",
       "         0.        ,  0.        ,  0.        ,  0.        ,  0.        ,\n",
       "        55.73202114, 73.34776928, 18.46226585, 40.61244274, 11.46567473],\n",
       "       [ 0.        ,  0.        ,  0.        ,  0.        ,  0.        ,\n",
       "         0.        ,  0.        ,  0.        ,  0.        ,  0.        ,\n",
       "         0.        ,  0.        ,  0.        ,  0.        ,  0.        ,\n",
       "         0.        , 17.98421695, 38.07014388, 60.20084393, 49.35968812],\n",
       "       [ 0.        ,  0.        ,  0.        ,  0.        ,  0.        ,\n",
       "         0.        ,  0.        ,  0.        ,  0.        ,  0.        ,\n",
       "         0.        ,  0.        ,  0.        ,  0.        ,  0.        ,\n",
       "         0.        ,  0.        , 55.9718746 , 76.61217213, 66.21538369],\n",
       "       [ 0.        ,  0.        ,  0.        ,  0.        ,  0.        ,\n",
       "         0.        ,  0.        ,  0.        ,  0.        ,  0.        ,\n",
       "         0.        ,  0.        ,  0.        ,  0.        ,  0.        ,\n",
       "         0.        ,  0.        ,  0.        , 35.74252658, 17.14548126],\n",
       "       [ 0.        ,  0.        ,  0.        ,  0.        ,  0.        ,\n",
       "         0.        ,  0.        ,  0.        ,  0.        ,  0.        ,\n",
       "         0.        ,  0.        ,  0.        ,  0.        ,  0.        ,\n",
       "         0.        ,  0.        ,  0.        ,  0.        , 48.34790579],\n",
       "       [ 0.        ,  0.        ,  0.        ,  0.        ,  0.        ,\n",
       "         0.        ,  0.        ,  0.        ,  0.        ,  0.        ,\n",
       "         0.        ,  0.        ,  0.        ,  0.        ,  0.        ,\n",
       "         0.        ,  0.        ,  0.        ,  0.        ,  0.        ]])"
      ]
     },
     "execution_count": 70,
     "metadata": {},
     "output_type": "execute_result"
    }
   ],
   "source": [
    "mgmg_distance = calculate_distance_mgmg(lat_choices, long_choices)\n",
    "mgmg_distance"
   ]
  },
  {
   "cell_type": "code",
   "execution_count": null,
   "id": "e36163ad",
   "metadata": {},
   "outputs": [],
   "source": []
  }
 ],
 "metadata": {
  "kernelspec": {
   "display_name": "Python 3",
   "language": "python",
   "name": "python3"
  },
  "language_info": {
   "codemirror_mode": {
    "name": "ipython",
    "version": 3
   },
   "file_extension": ".py",
   "mimetype": "text/x-python",
   "name": "python",
   "nbconvert_exporter": "python",
   "pygments_lexer": "ipython3",
   "version": "3.12.4"
  }
 },
 "nbformat": 4,
 "nbformat_minor": 5
}
